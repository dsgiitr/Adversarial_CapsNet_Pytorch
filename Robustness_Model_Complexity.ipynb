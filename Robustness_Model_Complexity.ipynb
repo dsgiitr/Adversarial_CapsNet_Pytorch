{
 "cells": [
  {
   "cell_type": "code",
   "execution_count": null,
   "metadata": {},
   "outputs": [],
   "source": [
    "import torch\n",
    "import numpy\n",
    "import torch\n",
    "import torch.nn as nn\n",
    "import torch.nn.functional as F\n",
    "from tqdm import tqdm\n",
    "import os\n",
    "import matplotlib.pyplot as plt\n",
    "\n",
    "import sys\n",
    "sys.path.insert(0,'/home/gsoc0/Adversarial_CapsNet_Pytorch/')\n",
    "from model.net import *\n",
    "from utils.training import *\n",
    "from data.data import *"
   ]
  },
  {
   "cell_type": "code",
   "execution_count": null,
   "metadata": {},
   "outputs": [],
   "source": [
    "base_path = '/home/gsoc0/Adversarial_CapsNet_Pytorch/'\n",
    "model_path = os.path.join(base_path, \"weights\")\n",
    "\n",
    "args = {\n",
    "    'DATASET_NAME':'mnist',\n",
    "    'num_classes':10,\n",
    "    \n",
    "    \n",
    "    'USE_CUDA': True if torch.cuda.is_available() else False,\n",
    "    'BATCH_SIZE': 256,\n",
    "    'N_EPOCHS': 30,\n",
    "    'LEARNING_RATE_1': 1e-4,\n",
    "    'LEARNING_RATE_2': 1e-4,\n",
    "    'WEIGHTDECAY':5e-6,\n",
    "    \n",
    "    #Scheduler\n",
    "    'USE_SCHEDULER':True,\n",
    "    'sched_milestones':[8,20,30,40,50],\n",
    "    'sched_gamma':0.1,\n",
    "    \n",
    "    #Loss Function\n",
    "    'LAMBDA_recon': 1,\n",
    "    'LAMBDA_class': 1,\n",
    "    \n",
    "    #For Decoder'\n",
    "    'num_features':160,\n",
    "    'LReLU_negative_slope':0.1,\n",
    "    'input_height':28,\n",
    "    'input_width':28,\n",
    "    'input_channel':1,\n",
    "    'type':'CapsNet',\n",
    "    \n",
    "}\n",
    "\n",
    "#Setting Default Cuda Device\n",
    "torch.cuda.set_device(0)"
   ]
  },
  {
   "cell_type": "code",
   "execution_count": null,
   "metadata": {},
   "outputs": [],
   "source": [
    "# Config for 16 1d vectors in Capsule Layer. Set the Softmax Dimension to 1 in this case\n",
    "class Config:\n",
    "    def __init__(self, dataset='mnist'):\n",
    "        # CNN (cnn)\n",
    "        self.cnn_in_channels = 1\n",
    "        self.cnn_out_channels = 12\n",
    "        self.cnn_kernel_size = 15\n",
    "\n",
    "        # Primary Capsule (pc)\n",
    "        self.pc_num_capsules = 1\n",
    "        self.pc_in_channels = 12\n",
    "        self.pc_out_channels = 16\n",
    "        self.pc_kernel_size = 8\n",
    "        self.pc_num_routes = 1 * 7 * 7\n",
    "\n",
    "        # Digit Capsule 1 (dc)\n",
    "        self.dc_num_capsules = 49\n",
    "        self.dc_num_routes = 7 * 7 #7*7*16\n",
    "        self.dc_in_channels = 16\n",
    "        self.dc_out_channels = 16 #1\n",
    "        \n",
    "        # Digit Capsule 2 (dc)\n",
    "        self.dc_2_num_capsules = 10\n",
    "        self.dc_2_num_routes = 7 * 7\n",
    "        self.dc_2_in_channels = 16 #1\n",
    "        self.dc_2_out_channels = 16\n",
    "\n",
    "\n",
    "torch.manual_seed(2)\n",
    "config = Config()\n",
    "net = CapsNet(args, config)\n",
    "# net = torch.nn.DataParallel(net)\n",
    "net.load_state_dict(torch.load(os.path.join(model_path, 'CapsNet_mnist.pth'), map_location='cpu'))\n",
    "    \n",
    "if args['USE_CUDA']:\n",
    "    net = net.cuda()\n",
    "    "
   ]
  },
  {
   "cell_type": "code",
   "execution_count": null,
   "metadata": {},
   "outputs": [],
   "source": [
    "dataloader = {}\n",
    "dataloader['train'], dataloader['val'] = dataset(args)"
   ]
  },
  {
   "cell_type": "code",
   "execution_count": null,
   "metadata": {},
   "outputs": [],
   "source": [
    "optimizer = torch.optim.Adam([\n",
    "                {'params':net.decoder.parameters(), 'lr':args['LEARNING_RATE_2'], 'weight_decay':args['WEIGHTDECAY']},\n",
    "                {'params': net.conv_layer.parameters()},\n",
    "                {'params': net.primary_capsules.parameters()},\n",
    "                {'params': net.digit_capsules_1.parameters()},\n",
    "                {'params': net.digit_capsules_2.parameters()},\n",
    "            ], lr=args['LEARNING_RATE_1'])\n",
    "\n",
    "train_clean(net, optimizer, dataloader, args)"
   ]
  },
  {
   "cell_type": "code",
   "execution_count": null,
   "metadata": {},
   "outputs": [],
   "source": []
  },
  {
   "cell_type": "code",
   "execution_count": null,
   "metadata": {},
   "outputs": [],
   "source": []
  },
  {
   "cell_type": "code",
   "execution_count": null,
   "metadata": {},
   "outputs": [],
   "source": []
  },
  {
   "cell_type": "code",
   "execution_count": null,
   "metadata": {},
   "outputs": [],
   "source": []
  },
  {
   "cell_type": "code",
   "execution_count": null,
   "metadata": {},
   "outputs": [],
   "source": []
  },
  {
   "cell_type": "code",
   "execution_count": null,
   "metadata": {},
   "outputs": [],
   "source": []
  },
  {
   "cell_type": "code",
   "execution_count": null,
   "metadata": {},
   "outputs": [],
   "source": []
  },
  {
   "cell_type": "code",
   "execution_count": null,
   "metadata": {},
   "outputs": [],
   "source": []
  },
  {
   "cell_type": "code",
   "execution_count": null,
   "metadata": {},
   "outputs": [],
   "source": []
  },
  {
   "cell_type": "code",
   "execution_count": null,
   "metadata": {},
   "outputs": [],
   "source": []
  },
  {
   "cell_type": "code",
   "execution_count": null,
   "metadata": {},
   "outputs": [],
   "source": []
  },
  {
   "cell_type": "code",
   "execution_count": null,
   "metadata": {},
   "outputs": [],
   "source": []
  },
  {
   "cell_type": "code",
   "execution_count": null,
   "metadata": {},
   "outputs": [],
   "source": []
  },
  {
   "cell_type": "code",
   "execution_count": null,
   "metadata": {},
   "outputs": [],
   "source": []
  },
  {
   "cell_type": "code",
   "execution_count": null,
   "metadata": {},
   "outputs": [],
   "source": []
  },
  {
   "cell_type": "code",
   "execution_count": null,
   "metadata": {},
   "outputs": [],
   "source": []
  }
 ],
 "metadata": {
  "kernelspec": {
   "display_name": "Python 3",
   "language": "python",
   "name": "python3"
  },
  "language_info": {
   "codemirror_mode": {
    "name": "ipython",
    "version": 3
   },
   "file_extension": ".py",
   "mimetype": "text/x-python",
   "name": "python",
   "nbconvert_exporter": "python",
   "pygments_lexer": "ipython3",
   "version": "3.7.6"
  }
 },
 "nbformat": 4,
 "nbformat_minor": 4
}
