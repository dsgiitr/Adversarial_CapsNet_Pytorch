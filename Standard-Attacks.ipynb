{
 "cells": [
  {
   "cell_type": "code",
   "execution_count": 3,
   "metadata": {},
   "outputs": [],
   "source": [
    "import torch\n",
    "import numpy as np\n",
    "import torch\n",
    "import torch.nn as nn\n",
    "import torch.nn.functional as F\n",
    "from tqdm import tqdm\n",
    "import os\n",
    "import seaborn as sns\n",
    "\n",
    "import sys\n",
    "sys.path.insert(0,'/home/gsoc0/Adversarial_CapsNet_Pytorch/')\n",
    "from model.net import *\n",
    "from model.cnn_net import *\n",
    "from utils.training import *\n",
    "from data.data import *"
   ]
  },
  {
   "cell_type": "markdown",
   "metadata": {},
   "source": [
    "## Experiment Config"
   ]
  },
  {
   "cell_type": "code",
   "execution_count": 4,
   "metadata": {},
   "outputs": [],
   "source": [
    "model_path = os.path.join(os.getcwd(), \"weights\")\n",
    "\n",
    "args = {\n",
    "    'DATASET_NAME':'mnist',\n",
    "    'num_classes':10,\n",
    "    \n",
    "    'USE_CUDA': True if torch.cuda.is_available() else False,\n",
    "    'BATCH_SIZE': 512,\n",
    "#     'N_EPOCHS': 100,\n",
    "#     'LEARNING_RATE_1': 1e-2,\n",
    "#     'LEARNING_RATE_2': 1e-2,\n",
    "#     'WEIGHTDECAY':5e-6,\n",
    "#     #Scheduler\n",
    "#     'USE_SCHEDULER':True,\n",
    "#     'sched_milestones':[14,25,30,40,50],\n",
    "#     'sched_gamma':0.1,\n",
    "    \n",
    "#     #Loss Function\n",
    "#     'LAMBDA_recon': 0.5,\n",
    "#     'LAMBDA_class': 1,\n",
    "    \n",
    "    ##For Decoder\n",
    "    'num_features':160,\n",
    "    'LReLU_negative_slope':0.1,\n",
    "    'input_height':28,\n",
    "    'input_width':28,\n",
    "    'input_channel':1,    \n",
    "}\n",
    "\n",
    "#Setting Default Cuda Device\n",
    "torch.cuda.set_device(0)"
   ]
  },
  {
   "cell_type": "markdown",
   "metadata": {},
   "source": [
    "## Model Loading"
   ]
  },
  {
   "cell_type": "code",
   "execution_count": 3,
   "metadata": {},
   "outputs": [],
   "source": [
    "#Modified Reconstructor\n",
    "\n",
    "class Reconstructor(nn.Module):\n",
    "    def __init__(self, net, args):\n",
    "        super(Reconstructor, self).__init__()\n",
    "        self.args = args\n",
    "        self.reconstraction_layers = net.decoder.reconstraction_layers\n",
    "        self.mean = torch.tensor(0.1307)\n",
    "        self.std = torch.tensor(0.3081)\n",
    "        if(args['USE_CUDA']):\n",
    "            self.mean = self.mean.cuda()\n",
    "            self.std = self.std.cuda()\n",
    "        self.unnormalize = UnNormalize(self.mean, self.std)\n",
    "        \n",
    "    def forward(self, x, data):\n",
    "        with torch.no_grad():\n",
    "            classes = torch.sqrt((x ** 2).sum(2))\n",
    "            classes = F.softmax(classes.squeeze(), dim=1)\n",
    "            _, max_length_indices = classes.max(dim=1)\n",
    "            eye = torch.sparse.torch.eye(10)\n",
    "            if USE_CUDA:\n",
    "                eye = eye.cuda()\n",
    "            reconstructions_of_digits = []\n",
    "            list_of_indices = [max_length_indices]\n",
    "            for i, index_list in enumerate(list_of_indices):\n",
    "                masked = eye.index_select(dim=0, index=index_list.squeeze().data)\n",
    "                reconstructions_of_digits.append(self.reconstraction_layers((x * masked[:, :, None, None]).view(x.size(0), 1, -1)))\n",
    "\n",
    "            reconstructions_of_digits = torch.cat(reconstructions_of_digits, dim=1) \n",
    "            expanded_data = data.view(x.size(0), 1, -1).expand(-1, len(list_of_indices), -1)\n",
    "            unnormalized_data = self.unnormalize(expanded_data)\n",
    "            l2_distances = torch.square((unnormalized_data - reconstructions_of_digits)).sum(dim=(list(range(0, len(expanded_data.shape)))[2:]))\n",
    "            return l2_distances\n",
    "    \n",
    "    def class_conditional_recon(self, x, data):\n",
    "        with torch.no_grad():\n",
    "            classes = torch.sqrt((x ** 2).sum(2))\n",
    "            classes = F.softmax(classes.squeeze(), dim=1)\n",
    "            _, max_length_indices = classes.max(dim=1)\n",
    "            eye = torch.sparse.torch.eye(10)\n",
    "            if USE_CUDA:\n",
    "                eye = eye.cuda()\n",
    "            reconstructions_of_digits = []\n",
    "            list_of_indices = [max_length_indices]\n",
    "            for i, index_list in enumerate(list_of_indices):\n",
    "                masked = eye.index_select(dim=0, index=index_list.squeeze().data)\n",
    "                reconstructions_of_digits.append(self.reconstraction_layers((x * masked[:, :, None, None]).view(x.size(0), 1, -1)))\n",
    "\n",
    "            reconstructions_of_digits = torch.cat(reconstructions_of_digits, dim=1)\n",
    "            expanded_data = data.view(x.size(0), 1, -1).expand(-1, len(list_of_indices), -1)\n",
    "            unnormalized_data = self.unnormalize(expanded_data)\n",
    "            l2_distances = torch.square((unnormalized_data - reconstructions_of_digits)).sum(dim=(list(range(0, len(expanded_data.shape)))[2:]))\n",
    "            return l2_distances\n",
    "    \n",
    "def imshow(img):\n",
    "#     img = img * 0.3081 + 0.1307     # unnormalize\n",
    "    npimg = img.cpu().numpy()\n",
    "#     plt.imshow(np.transpose(npimg)#, (1, 2, 0)))\n",
    "    plt.imshow(npimg)\n",
    "    plt.show()"
   ]
  },
  {
   "cell_type": "code",
   "execution_count": 4,
   "metadata": {},
   "outputs": [
    {
     "data": {
      "text/plain": [
       "<All keys matched successfully>"
      ]
     },
     "execution_count": 4,
     "metadata": {},
     "output_type": "execute_result"
    }
   ],
   "source": [
    "class Config:\n",
    "    def __init__(self, dataset='mnist'):\n",
    "        # CNN (cnn)\n",
    "        self.cnn_in_channels = 1\n",
    "        self.cnn_out_channels = 12\n",
    "        self.cnn_kernel_size = 15\n",
    "\n",
    "        # Primary Capsule (pc)\n",
    "        self.pc_num_capsules = 1\n",
    "        self.pc_in_channels = 12\n",
    "        self.pc_out_channels = 16\n",
    "        self.pc_kernel_size = 8\n",
    "        self.pc_num_routes = 7 * 7\n",
    "\n",
    "        # Digit Capsule 1 (dc)\n",
    "        self.dc_num_capsules = 49\n",
    "        self.dc_num_routes = 7 * 7\n",
    "        self.dc_in_channels = 16\n",
    "        self.dc_out_channels = 16 #1\n",
    "        \n",
    "        # Digit Capsule 2 (dc)\n",
    "        self.dc_2_num_capsules = 10\n",
    "        self.dc_2_num_routes = 7 * 7\n",
    "        self.dc_2_in_channels = 16 #1\n",
    "        self.dc_2_out_channels = 16\n",
    "\n",
    "        # Decoder\n",
    "        self.input_width = 28\n",
    "        self.input_height = 28\n",
    "torch.manual_seed(1)\n",
    "config = Config()\n",
    "\n",
    "net = CapsNet(args, config)\n",
    "# capsule_net = torch.nn.DataParallel(capsule_net)\n",
    "if args['USE_CUDA']:\n",
    "    net = net.cuda()\n",
    "    \n",
    "net.load_state_dict(torch.load(os.path.join(model_path, 'CapsNet_mnist.pth'), map_location='cpu'))"
   ]
  },
  {
   "cell_type": "markdown",
   "metadata": {},
   "source": [
    "## Loading Dataset"
   ]
  },
  {
   "cell_type": "code",
   "execution_count": 9,
   "metadata": {},
   "outputs": [
    {
     "name": "stdout",
     "output_type": "stream",
     "text": [
      "tensor(-0.4242)\n",
      "tensor(2.8088)\n"
     ]
    }
   ],
   "source": [
    "trainloader, testloader = dataset(args)\n",
    "for data in trainloader:\n",
    "    print(data[0][0].min())\n",
    "    print(data[0][0].max())\n",
    "    break"
   ]
  },
  {
   "cell_type": "markdown",
   "metadata": {},
   "source": [
    "##  Untargeted WhiteBox Attack for CapsuleNet"
   ]
  },
  {
   "cell_type": "code",
   "execution_count": 10,
   "metadata": {},
   "outputs": [
    {
     "data": {
      "text/plain": [
       "tensor([1, 2, 3], dtype=torch.int16)"
      ]
     },
     "execution_count": 10,
     "metadata": {},
     "output_type": "execute_result"
    }
   ],
   "source": [
    "a = torch.tensor([], dtype=torch.int16)\n",
    "b = torch.tensor([1,2,3], dtype=torch.int16)\n",
    "torch.cat((a,b))"
   ]
  },
  {
   "cell_type": "code",
   "execution_count": 11,
   "metadata": {},
   "outputs": [],
   "source": [
    "import matplotlib.pyplot as plt\n",
    "from advertorch.attacks import LinfPGDAttack, GradientSignAttack, CarliniWagnerL2Attack, LinfBasicIterativeAttack\n",
    "\n",
    "class Model_for_Adversary(nn.Module):\n",
    "    def __init__(self, net):\n",
    "        super(Model_for_Adversary, self).__init__()\n",
    "        self.net = net\n",
    "        \n",
    "    def forward(self, x):\n",
    "        output, recons, masked = self.net(x)\n",
    "        classes = torch.sqrt((output ** 2).sum(2)).squeeze()\n",
    "        return classes\n",
    "    \n",
    "def WhiteBox_Attacks_Targeted(net, dataloader, adversary_dict, args):\n",
    "    net.eval()\n",
    "    n_batch = len(dataloader)\n",
    "    Success_Rate = {key:0.0 for key in adversary_dict.keys()}\n",
    "    Undetected_Rate = {key:0.0 for key in adversary_dict.keys()}\n",
    "    Und_l2 = {key:torch.tensor([],dtype=torch.int16).cuda() for key in adversary_dict.keys()}\n",
    "    for adversary in adversary_dict.keys():\n",
    "        for batch_id, (data, labels) in enumerate(tqdm(dataloader)):\n",
    "            target = torch.randint(0,10,size=(labels.size(0),), dtype=labels.dtype).cuda()\n",
    "            if(args['USE_CUDA']):\n",
    "                data, labels = data.cuda(), labels.cuda()\n",
    "            adv_data = adversary_dict[adversary].perturb(data, target)\n",
    "            with torch.no_grad():\n",
    "                output, reconstructions, max_length_indices = net(adv_data)\n",
    "                unnormalized_data = net.decoder.unnormalize(adv_data)\n",
    "                l2_distances = ((reconstructions.view(adv_data.size(0),-1)-unnormalized_data.view(adv_data.size(0), -1))**2).sum(1).squeeze().detach()\n",
    "                theta = np.percentile(l2_distances.cpu().numpy(), 95)\n",
    "                if(adversary=='Clean'):\n",
    "                    Und_l2[adversary] = torch.cat((Und_l2[adversary],l2_distances))\n",
    "                else:\n",
    "                    Und_l2[adversary] = torch.cat((Und_l2[adversary],l2_distances[max_length_indices == target]))\n",
    "                Success_Rate[adversary]+=torch.sum(max_length_indices == target).item()\n",
    "                Undetected_Rate[adversary]+=torch.sum(l2_distances[max_length_indices == target]<=theta).item()\n",
    "        \n",
    "        Und_l2[adversary] = Und_l2[adversary].cpu().numpy()\n",
    "        Success_Rate[adversary]/=100\n",
    "        Undetected_Rate[adversary]/=100\n",
    "    return Success_Rate, Undetected_Rate, Und_l2\n",
    "\n",
    "def WhiteBox_Attacks_Untargeted(net, dataloader, adversary_dict, args):\n",
    "    net.eval()\n",
    "    n_batch = len(dataloader)\n",
    "    Success_Rate = {key:0.0 for key in adversary_dict.keys()}\n",
    "    Undetected_Rate = {key:0.0 for key in adversary_dict.keys()}\n",
    "    Und_l2 = {key:torch.tensor([],dtype=torch.int16).cuda() for key in adversary_dict.keys()}\n",
    "    for adversary in adversary_dict.keys():\n",
    "        for batch_id, (data, labels) in enumerate(tqdm(dataloader)):\n",
    "            if(args['USE_CUDA']):\n",
    "                data, labels = data.cuda(), labels.cuda()\n",
    "\n",
    "            adv_data = adversary_dict[adversary].perturb(data)\n",
    "            with torch.no_grad():\n",
    "                output, reconstructions, max_length_indices = net(adv_data)\n",
    "                unnormalized_data = net.decoder.unnormalize(adv_data)\n",
    "                l2_distances = ((reconstructions.view(adv_data.size(0),-1)-unnormalized_data.view(adv_data.size(0), -1))**2).sum(1).squeeze().detach()\n",
    "                theta = np.percentile(l2_distances.cpu().numpy(), 95)\n",
    "                if(adversary=='Clean'):\n",
    "                    Und_l2[adversary] = torch.cat((Und_l2[adversary],l2_distances))\n",
    "                else:\n",
    "                    Und_l2[adversary] = torch.cat((Und_l2[adversary],l2_distances[max_length_indices != labels]))\n",
    "                Success_Rate[adversary]+=torch.sum(max_length_indices != labels).item()\n",
    "                Undetected_Rate[adversary]+=torch.sum(l2_distances[max_length_indices!=labels]<=theta).item()\n",
    "#                 print(Success_Rate[adversary])\n",
    "#                 print(Undetected_Rate[adversary])\n",
    "#                 print(theta)\n",
    "        Und_l2[adversary] = Und_l2[adversary].cpu().numpy() \n",
    "        Success_Rate[adversary]/=100\n",
    "        Undetected_Rate[adversary]/=100\n",
    "    return Success_Rate, Undetected_Rate, Und_l2"
   ]
  },
  {
   "cell_type": "code",
   "execution_count": 12,
   "metadata": {},
   "outputs": [],
   "source": [
    "from advertorch.attacks.base import Attack, LabelMixin\n",
    "from advertorch.utils import clamp\n",
    "\n",
    "class CleanAttack(Attack, LabelMixin):\n",
    "    def __init__(self, clip_min=0., clip_max=1.):\n",
    "        super(CleanAttack, self).__init__(None,None,clip_min, clip_max)\n",
    "\n",
    "    def perturb(self, x, y=None):\n",
    "        return x\n",
    "    \n",
    "def Attack_Table(L2_Distances, theta_percentile):\n",
    "    theta = np.percentile(L2_Distances['Clean'], theta_percentile)\n",
    "    Success_Rate = {key:0.0 for key in L2_Distances.keys()}\n",
    "    Undetected_Rate = {key:0.0 for key in L2_Distances.keys()}\n",
    "    for adversary in L2_Distances.keys():\n",
    "        Success_Rate[adversary] = L2_Distances[adversary].shape[0]/ 100\n",
    "        Undetected_Rate[adversary] = np.sum(L2_Distances[adversary]<=theta).item()/100\n",
    "    \n",
    "#     print(\"---------------------------------------------------------\")\n",
    "    print(theta, \":\", theta_percentile ,\"   \", Success_Rate['Clean'],\"/\",Undetected_Rate['Clean'],\"----\",Success_Rate['FGSM'],\"/\",Undetected_Rate['FGSM'],\"----\",Success_Rate['BIM'],\"/\",Undetected_Rate['BIM'],\"----\",Success_Rate['PGD'],\"/\",Undetected_Rate['PGD'])"
   ]
  },
  {
   "cell_type": "code",
   "execution_count": 9,
   "metadata": {},
   "outputs": [
    {
     "name": "stderr",
     "output_type": "stream",
     "text": [
      "100%|██████████| 20/20 [00:08<00:00,  2.36it/s]\n",
      "100%|██████████| 20/20 [36:10<00:00, 108.54s/it]\n",
      "100%|██████████| 20/20 [00:28<00:00,  1.41s/it]\n",
      "100%|██████████| 20/20 [36:21<00:00, 109.06s/it]\n"
     ]
    }
   ],
   "source": [
    "model_for_adversary = Model_for_Adversary(net)\n",
    "    \n",
    "linf_eps = 0.3\n",
    "fgsm_step = 0.05\n",
    "bim_pgd_step = 0.01\n",
    "\n",
    "adversary_dict = {}\n",
    "adversary_dict['Clean'] = CleanAttack(clip_min=-0.4242, clip_max=2.8215)\n",
    "adversary_dict['PGD'] = LinfPGDAttack(\n",
    "    model_for_adversary, loss_fn=nn.CrossEntropyLoss(reduction=\"sum\"), eps=(linf_eps/0.3081),\n",
    "    nb_iter=100, eps_iter=(bim_pgd_step/0.3081), rand_init=True, clip_min=-0.4242, clip_max=2.8215,\n",
    "    targeted=False)\n",
    "\n",
    "adversary_dict['FGSM'] = GradientSignAttack(model_for_adversary, loss_fn=nn.CrossEntropyLoss(reduction=\"sum\"), eps=(fgsm_step/0.3081), clip_min=-0.4242, clip_max=2.8215, targeted=False)\n",
    "adversary_dict['BIM'] = LinfBasicIterativeAttack(model_for_adversary, loss_fn=nn.CrossEntropyLoss(reduction=\"sum\"), eps=(linf_eps/0.3081), nb_iter=100, eps_iter=(bim_pgd_step/0.3081), clip_min=-0.4242, clip_max=2.8215, targeted=False)\n",
    "# adversary_dict['CW'] = CarliniWagnerL2Attack(model_for_adversary, num_classes=args['num_classes'], confidence=0, targeted=False, learning_rate=0.01, binary_search_steps=9, max_iterations=1000, abort_early=True, initial_const=0.001, clip_min=-0.4242, clip_max=2.8215, loss_fn=None)\n",
    "\n",
    "Success_Rate, Undetected_Rate, Und_L2 = WhiteBox_Attacks_Untargeted(net, testloader, adversary_dict, args)"
   ]
  },
  {
   "cell_type": "code",
   "execution_count": 10,
   "metadata": {},
   "outputs": [
    {
     "name": "stdout",
     "output_type": "stream",
     "text": [
      "43.487750053405755\n"
     ]
    },
    {
     "data": {
      "image/png": "[encoded data removed]",
      "text/plain": [
       "<Figure size 432x288 with 1 Axes>"
      ]
     },
     "metadata": {
      "needs_background": "light"
     },
     "output_type": "display_data"
    }
   ],
   "source": [
    "print(np.percentile(Und_L2['Clean'],95))\n",
    "\n",
    "for adversary in adversary_dict.keys():\n",
    "    if(adversary!='Clean'):\n",
    "        x = np.linspace(0, 100, 20)\n",
    "#         z = np.array([np.sum(Und_L2['Clean']>((i_x/100))*(np.percentile(Und_L2['Clean'],95)*2)).item()/100 for i_x in x])\n",
    "        y = np.array([np.sum(Und_L2[adversary]<=((i_x/100))*(np.percentile(Und_L2['Clean'],95)*2)).item()/100 for i_x in x])\n",
    "        plt.plot(x, y, 'go-', label='line1', linewidth=2)"
   ]
  },
  {
   "cell_type": "code",
   "execution_count": 11,
   "metadata": {},
   "outputs": [
    {
     "name": "stdout",
     "output_type": "stream",
     "text": [
      "theta-----------percentile----Clean--------------FGSM------------BIM------------PGD\n",
      "1.702603816986084 : 0     100.0 / 0.01 ---- 7.67 / 0.0 ---- 99.9 / 0.0 ---- 99.88 / 0.0\n",
      "3.816179938316345 : 1     100.0 / 1.0 ---- 7.67 / 0.0 ---- 99.9 / 0.0 ---- 99.88 / 0.0\n",
      "4.287732286453247 : 2     100.0 / 2.0 ---- 7.67 / 0.0 ---- 99.9 / 0.0 ---- 99.88 / 0.0\n",
      "4.706228923797608 : 3     100.0 / 3.0 ---- 7.67 / 0.0 ---- 99.9 / 0.0 ---- 99.88 / 0.0\n",
      "5.059421787261964 : 4     100.0 / 4.0 ---- 7.67 / 0.0 ---- 99.9 / 0.0 ---- 99.88 / 0.0\n",
      "5.45211238861084 : 5     100.0 / 5.0 ---- 7.67 / 0.0 ---- 99.9 / 0.0 ---- 99.88 / 0.0\n",
      "5.836243057250977 : 6     100.0 / 6.0 ---- 7.67 / 0.0 ---- 99.9 / 0.0 ---- 99.88 / 0.0\n",
      "6.295203762054443 : 7     100.0 / 7.0 ---- 7.67 / 0.0 ---- 99.9 / 0.0 ---- 99.88 / 0.0\n",
      "6.593488502502441 : 8     100.0 / 8.0 ---- 7.67 / 0.0 ---- 99.9 / 0.0 ---- 99.88 / 0.0\n",
      "7.071027097702026 : 9     100.0 / 9.0 ---- 7.67 / 0.0 ---- 99.9 / 0.0 ---- 99.88 / 0.0\n",
      "7.578047370910646 : 10     100.0 / 10.0 ---- 7.67 / 0.0 ---- 99.9 / 0.0 ---- 99.88 / 0.0\n",
      "8.065258827209473 : 11     100.0 / 11.0 ---- 7.67 / 0.0 ---- 99.9 / 0.0 ---- 99.88 / 0.0\n",
      "8.4817919921875 : 12     100.0 / 12.0 ---- 7.67 / 0.0 ---- 99.9 / 0.0 ---- 99.88 / 0.0\n",
      "8.888431673049928 : 13     100.0 / 13.0 ---- 7.67 / 0.0 ---- 99.9 / 0.0 ---- 99.88 / 0.0\n",
      "9.285199909210206 : 14     100.0 / 14.0 ---- 7.67 / 0.0 ---- 99.9 / 0.0 ---- 99.88 / 0.0\n",
      "9.678900051116944 : 15     100.0 / 15.0 ---- 7.67 / 0.0 ---- 99.9 / 0.0 ---- 99.88 / 0.0\n",
      "10.006397933959962 : 16     100.0 / 16.0 ---- 7.67 / 0.0 ---- 99.9 / 0.0 ---- 99.88 / 0.0\n",
      "10.311531581878663 : 17     100.0 / 17.0 ---- 7.67 / 0.0 ---- 99.9 / 0.0 ---- 99.88 / 0.0\n",
      "10.671342430114747 : 18     100.0 / 18.0 ---- 7.67 / 0.0 ---- 99.9 / 0.0 ---- 99.88 / 0.0\n",
      "10.978671875 : 19     100.0 / 19.0 ---- 7.67 / 0.0 ---- 99.9 / 0.0 ---- 99.88 / 0.0\n",
      "11.21026191711426 : 20     100.0 / 20.0 ---- 7.67 / 0.0 ---- 99.9 / 0.0 ---- 99.88 / 0.0\n",
      "11.479231719970702 : 21     100.0 / 21.0 ---- 7.67 / 0.0 ---- 99.9 / 0.0 ---- 99.88 / 0.0\n",
      "11.730825138092042 : 22     100.0 / 22.0 ---- 7.67 / 0.0 ---- 99.9 / 0.0 ---- 99.88 / 0.0\n",
      "11.954298849105836 : 23     100.0 / 23.0 ---- 7.67 / 0.0 ---- 99.9 / 0.0 ---- 99.88 / 0.0\n",
      "12.205029296875 : 24     100.0 / 24.0 ---- 7.67 / 0.0 ---- 99.9 / 0.0 ---- 99.88 / 0.0\n",
      "12.46526837348938 : 25     100.0 / 25.0 ---- 7.67 / 0.0 ---- 99.9 / 0.0 ---- 99.88 / 0.0\n",
      "12.70385154724121 : 26     100.0 / 26.0 ---- 7.67 / 0.0 ---- 99.9 / 0.0 ---- 99.88 / 0.0\n",
      "12.935682926177979 : 27     100.0 / 27.0 ---- 7.67 / 0.0 ---- 99.9 / 0.0 ---- 99.88 / 0.0\n",
      "13.15643497467041 : 28     100.0 / 28.0 ---- 7.67 / 0.0 ---- 99.9 / 0.0 ---- 99.88 / 0.0\n",
      "13.35287495613098 : 29     100.0 / 29.0 ---- 7.67 / 0.0 ---- 99.9 / 0.0 ---- 99.88 / 0.0\n",
      "13.615416622161865 : 30     100.0 / 30.0 ---- 7.67 / 0.0 ---- 99.9 / 0.0 ---- 99.88 / 0.0\n",
      "13.80635248184204 : 31     100.0 / 31.0 ---- 7.67 / 0.0 ---- 99.9 / 0.0 ---- 99.88 / 0.0\n",
      "14.045365867614747 : 32     100.0 / 32.0 ---- 7.67 / 0.0 ---- 99.9 / 0.0 ---- 99.88 / 0.0\n",
      "14.257098331451417 : 33     100.0 / 33.0 ---- 7.67 / 0.0 ---- 99.9 / 0.0 ---- 99.88 / 0.0\n",
      "14.450167484283451 : 34     100.0 / 34.0 ---- 7.67 / 0.0 ---- 99.9 / 0.0 ---- 99.88 / 0.0\n",
      "14.67784919738769 : 35     100.0 / 35.0 ---- 7.67 / 0.0 ---- 99.9 / 0.0 ---- 99.88 / 0.0\n",
      "14.906294059753417 : 36     100.0 / 36.0 ---- 7.67 / 0.01 ---- 99.9 / 0.0 ---- 99.88 / 0.0\n",
      "15.123013458251952 : 37     100.0 / 37.0 ---- 7.67 / 0.01 ---- 99.9 / 0.0 ---- 99.88 / 0.0\n",
      "15.342246780395508 : 38     100.0 / 38.0 ---- 7.67 / 0.01 ---- 99.9 / 0.0 ---- 99.88 / 0.0\n",
      "15.557349939346313 : 39     100.0 / 39.0 ---- 7.67 / 0.01 ---- 99.9 / 0.0 ---- 99.88 / 0.0\n",
      "15.733218383789064 : 40     100.0 / 40.0 ---- 7.67 / 0.01 ---- 99.9 / 0.0 ---- 99.88 / 0.0\n",
      "15.954891452789308 : 41     100.0 / 41.0 ---- 7.67 / 0.02 ---- 99.9 / 0.0 ---- 99.88 / 0.0\n",
      "16.165005531311035 : 42     100.0 / 42.0 ---- 7.67 / 0.02 ---- 99.9 / 0.0 ---- 99.88 / 0.0\n",
      "16.38330837249756 : 43     100.0 / 43.0 ---- 7.67 / 0.02 ---- 99.9 / 0.0 ---- 99.88 / 0.0\n",
      "16.64343406677246 : 44     100.0 / 44.0 ---- 7.67 / 0.02 ---- 99.9 / 0.0 ---- 99.88 / 0.0\n",
      "16.86425952911377 : 45     100.0 / 45.0 ---- 7.67 / 0.03 ---- 99.9 / 0.0 ---- 99.88 / 0.0\n",
      "17.0666752243042 : 46     100.0 / 46.0 ---- 7.67 / 0.03 ---- 99.9 / 0.0 ---- 99.88 / 0.0\n",
      "17.318289871215818 : 47     100.0 / 47.0 ---- 7.67 / 0.03 ---- 99.9 / 0.0 ---- 99.88 / 0.0\n",
      "17.524654083251953 : 48     100.0 / 48.0 ---- 7.67 / 0.03 ---- 99.9 / 0.0 ---- 99.88 / 0.0\n",
      "17.76574207305908 : 49     100.0 / 49.0 ---- 7.67 / 0.05 ---- 99.9 / 0.0 ---- 99.88 / 0.0\n",
      "18.008864402770996 : 50     100.0 / 50.0 ---- 7.67 / 0.07 ---- 99.9 / 0.0 ---- 99.88 / 0.0\n",
      "18.23188882827759 : 51     100.0 / 51.0 ---- 7.67 / 0.09 ---- 99.9 / 0.0 ---- 99.88 / 0.0\n",
      "18.49740173339844 : 52     100.0 / 52.0 ---- 7.67 / 0.09 ---- 99.9 / 0.0 ---- 99.88 / 0.0\n",
      "18.733260765075684 : 53     100.0 / 53.0 ---- 7.67 / 0.09 ---- 99.9 / 0.0 ---- 99.88 / 0.0\n",
      "18.976498641967773 : 54     100.0 / 54.0 ---- 7.67 / 0.1 ---- 99.9 / 0.0 ---- 99.88 / 0.0\n",
      "19.284077930450444 : 55     100.0 / 55.0 ---- 7.67 / 0.13 ---- 99.9 / 0.0 ---- 99.88 / 0.0\n",
      "19.558118133544923 : 56     100.0 / 56.0 ---- 7.67 / 0.14 ---- 99.9 / 0.0 ---- 99.88 / 0.0\n",
      "19.80794509887695 : 57     100.0 / 57.0 ---- 7.67 / 0.17 ---- 99.9 / 0.0 ---- 99.88 / 0.0\n",
      "20.03501884460449 : 58     100.0 / 58.0 ---- 7.67 / 0.19 ---- 99.9 / 0.0 ---- 99.88 / 0.0\n",
      "20.256543006896973 : 59     100.0 / 59.0 ---- 7.67 / 0.2 ---- 99.9 / 0.0 ---- 99.88 / 0.0\n",
      "20.580020523071287 : 60     100.0 / 60.0 ---- 7.67 / 0.26 ---- 99.9 / 0.0 ---- 99.88 / 0.0\n",
      "20.874396152496338 : 61     100.0 / 61.0 ---- 7.67 / 0.3 ---- 99.9 / 0.0 ---- 99.88 / 0.0\n",
      "21.110583724975584 : 62     100.0 / 62.0 ---- 7.67 / 0.32 ---- 99.9 / 0.0 ---- 99.88 / 0.0\n",
      "21.354165229797363 : 63     100.0 / 63.0 ---- 7.67 / 0.33 ---- 99.9 / 0.0 ---- 99.88 / 0.0\n",
      "21.702737274169923 : 64     100.0 / 64.0 ---- 7.67 / 0.36 ---- 99.9 / 0.0 ---- 99.88 / 0.0\n",
      "22.11537733078003 : 65     100.0 / 65.0 ---- 7.67 / 0.38 ---- 99.9 / 0.0 ---- 99.88 / 0.0\n",
      "22.450630264282225 : 66     100.0 / 66.0 ---- 7.67 / 0.4 ---- 99.9 / 0.0 ---- 99.88 / 0.0\n",
      "22.741617069244388 : 67     100.0 / 67.0 ---- 7.67 / 0.45 ---- 99.9 / 0.0 ---- 99.88 / 0.0\n",
      "23.028237609863282 : 68     100.0 / 68.0 ---- 7.67 / 0.48 ---- 99.9 / 0.0 ---- 99.88 / 0.0\n",
      "23.421396560668946 : 69     100.0 / 69.0 ---- 7.67 / 0.51 ---- 99.9 / 0.0 ---- 99.88 / 0.0\n",
      "23.813909912109374 : 70     100.0 / 70.0 ---- 7.67 / 0.59 ---- 99.9 / 0.0 ---- 99.88 / 0.0\n",
      "24.20414514541626 : 71     100.0 / 71.0 ---- 7.67 / 0.62 ---- 99.9 / 0.0 ---- 99.88 / 0.0\n",
      "24.568868560791014 : 72     100.0 / 72.0 ---- 7.67 / 0.64 ---- 99.9 / 0.0 ---- 99.88 / 0.0\n",
      "24.97181926727295 : 73     100.0 / 73.0 ---- 7.67 / 0.7 ---- 99.9 / 0.0 ---- 99.88 / 0.0\n",
      "25.42988422393799 : 74     100.0 / 74.0 ---- 7.67 / 0.74 ---- 99.9 / 0.0 ---- 99.88 / 0.0\n",
      "25.82224941253662 : 75     100.0 / 75.0 ---- 7.67 / 0.8 ---- 99.9 / 0.0 ---- 99.88 / 0.0\n",
      "26.273682632446288 : 76     100.0 / 76.0 ---- 7.67 / 0.85 ---- 99.9 / 0.0 ---- 99.88 / 0.0\n",
      "26.756991138458254 : 77     100.0 / 77.0 ---- 7.67 / 0.89 ---- 99.9 / 0.0 ---- 99.88 / 0.0\n",
      "27.203598098754885 : 78     100.0 / 78.0 ---- 7.67 / 0.95 ---- 99.9 / 0.0 ---- 99.88 / 0.0\n",
      "27.596100578308107 : 79     100.0 / 79.0 ---- 7.67 / 1.03 ---- 99.9 / 0.0 ---- 99.88 / 0.0\n",
      "28.041591262817384 : 80     100.0 / 80.0 ---- 7.67 / 1.1 ---- 99.9 / 0.0 ---- 99.88 / 0.0\n",
      "28.56854295730591 : 81     100.0 / 81.0 ---- 7.67 / 1.19 ---- 99.9 / 0.0 ---- 99.88 / 0.0\n",
      "29.079891204833984 : 82     100.0 / 82.0 ---- 7.67 / 1.33 ---- 99.9 / 0.0 ---- 99.88 / 0.0\n",
      "29.65496982574463 : 83     100.0 / 83.0 ---- 7.67 / 1.4 ---- 99.9 / 0.0 ---- 99.88 / 0.0\n",
      "30.295003967285158 : 84     100.0 / 84.0 ---- 7.67 / 1.52 ---- 99.9 / 0.0 ---- 99.88 / 0.0\n",
      "30.98694953918457 : 85     100.0 / 85.0 ---- 7.67 / 1.61 ---- 99.9 / 0.0 ---- 99.88 / 0.0\n",
      "31.785570983886718 : 86     100.0 / 86.0 ---- 7.67 / 1.75 ---- 99.9 / 0.0 ---- 99.88 / 0.0\n",
      "32.65839153289794 : 87     100.0 / 87.0 ---- 7.67 / 1.88 ---- 99.9 / 0.0 ---- 99.88 / 0.0\n",
      "33.3620964050293 : 88     100.0 / 88.0 ---- 7.67 / 1.98 ---- 99.9 / 0.0 ---- 99.88 / 0.0\n",
      "34.511426353454596 : 89     100.0 / 89.0 ---- 7.67 / 2.22 ---- 99.9 / 0.0 ---- 99.88 / 0.0\n",
      "35.49740028381348 : 90     100.0 / 90.0 ---- 7.67 / 2.32 ---- 99.9 / 0.0 ---- 99.88 / 0.0\n",
      "36.65305389404297 : 91     100.0 / 91.0 ---- 7.67 / 2.58 ---- 99.9 / 0.0 ---- 99.88 / 0.0\n",
      "37.918309936523436 : 92     100.0 / 92.0 ---- 7.67 / 2.81 ---- 99.9 / 0.0 ---- 99.88 / 0.0\n",
      "39.46987716674805 : 93     100.0 / 93.0 ---- 7.67 / 3.06 ---- 99.9 / 0.0 ---- 99.88 / 0.0\n",
      "41.53081069946288 : 94     100.0 / 94.0 ---- 7.67 / 3.35 ---- 99.9 / 0.0 ---- 99.88 / 0.0\n",
      "43.487750053405755 : 95     100.0 / 95.0 ---- 7.67 / 3.7 ---- 99.9 / 0.0 ---- 99.88 / 0.0\n",
      "45.77922271728508 : 96     100.0 / 96.0 ---- 7.67 / 4.15 ---- 99.9 / 0.01 ---- 99.88 / 0.0\n",
      "48.72585666656492 : 97     100.0 / 97.0 ---- 7.67 / 4.75 ---- 99.9 / 0.06 ---- 99.88 / 0.0\n",
      "53.17996467590335 : 98     100.0 / 98.0 ---- 7.67 / 5.47 ---- 99.9 / 0.23 ---- 99.88 / 0.01\n",
      "59.44066947937014 : 99     100.0 / 99.0 ---- 7.67 / 6.26 ---- 99.9 / 0.85 ---- 99.88 / 0.02\n",
      "104.00205993652344 : 100     100.0 / 100.0 ---- 7.67 / 7.62 ---- 99.9 / 28.42 ---- 99.88 / 27.32\n"
     ]
    }
   ],
   "source": [
    "Und_L2_Untargeted_Capsnet = Und_L2\n",
    "print('theta-----------percentile----Clean--------------FGSM------------BIM------------PGD')\n",
    "for i in range(0,101):\n",
    "    Attack_Table(Und_L2, i)"
   ]
  },
  {
   "cell_type": "code",
   "execution_count": 13,
   "metadata": {},
   "outputs": [
    {
     "name": "stderr",
     "output_type": "stream",
     "text": [
      "100%|██████████| 20/20 [00:03<00:00,  6.41it/s]\n",
      "100%|██████████| 20/20 [36:05<00:00, 108.27s/it]\n",
      "100%|██████████| 20/20 [00:25<00:00,  1.25s/it]\n",
      "100%|██████████| 20/20 [36:17<00:00, 108.90s/it]\n"
     ]
    }
   ],
   "source": [
    "model_for_adversary = Model_for_Adversary(net)\n",
    "    \n",
    "linf_eps = 0.3\n",
    "fgsm_step = 0.05\n",
    "bim_pgd_step = 0.01\n",
    "\n",
    "adversary_dict = {}\n",
    "adversary_dict['Clean'] = CleanAttack(clip_min=-0.4242, clip_max=2.8215)\n",
    "adversary_dict['PGD'] = LinfPGDAttack(\n",
    "    model_for_adversary, loss_fn=nn.CrossEntropyLoss(reduction=\"sum\"), eps=(linf_eps/0.3081),\n",
    "    nb_iter=100, eps_iter=(bim_pgd_step/0.3081), rand_init=True, clip_min=-0.4242, clip_max=2.8215,\n",
    "    targeted=True)\n",
    "\n",
    "adversary_dict['FGSM'] = GradientSignAttack(model_for_adversary, loss_fn=nn.CrossEntropyLoss(reduction=\"sum\"), eps=(fgsm_step/0.3081), clip_min=-0.4242, clip_max=2.8215, targeted=True)\n",
    "adversary_dict['BIM'] = LinfBasicIterativeAttack(model_for_adversary, loss_fn=nn.CrossEntropyLoss(reduction=\"sum\"), eps=(linf_eps/0.3081), nb_iter=100, eps_iter=(bim_pgd_step/0.3081), clip_min=-0.4242, clip_max=2.8215, targeted=True)\n",
    "# adversary_dict['CW'] = CarliniWagnerL2Attack(model_for_adversary, num_classes=args['num_classes'], confidence=0, targeted=False, learning_rate=0.01, binary_search_steps=9, max_iterations=1000, abort_early=True, initial_const=0.001, clip_min=-0.4242, clip_max=2.8215, loss_fn=None)\n",
    "\n",
    "Success_Rate, Undetected_Rate, Und_L2 = WhiteBox_Attacks_Targeted(net, testloader, adversary_dict, args)"
   ]
  },
  {
   "cell_type": "code",
   "execution_count": 14,
   "metadata": {},
   "outputs": [
    {
     "data": {
      "image/png": "[encoded data removed]",
      "text/plain": [
       "<Figure size 432x288 with 1 Axes>"
      ]
     },
     "metadata": {
      "needs_background": "light"
     },
     "output_type": "display_data"
    }
   ],
   "source": [
    "for adversary in adversary_dict.keys():\n",
    "    if(adversary!='Clean'):\n",
    "        x = np.linspace(0, 100, 20)\n",
    "        z = np.array([np.sum(Und_L2['Clean']>((i_x/100))*((np.percentile(Und_L2['Clean'],95)))).item()/100 for i_x in x])\n",
    "        y = np.array([np.sum(Und_L2[adversary]<=((i_x/100))*((np.percentile(Und_L2['Clean'],95)))).item()/100 for i_x in x])\n",
    "        plt.plot(z, y, 'go-', label='line1', linewidth=2)"
   ]
  },
  {
   "cell_type": "code",
   "execution_count": 15,
   "metadata": {},
   "outputs": [
    {
     "name": "stdout",
     "output_type": "stream",
     "text": [
      "1.702603816986084 : 0     100.0 / 0.01 ---- 11.38 / 0.0 ---- 99.98 / 0.0 ---- 100.0 / 0.0\n",
      "3.816179938316345 : 1     100.0 / 1.0 ---- 11.38 / 0.01 ---- 99.98 / 0.0 ---- 100.0 / 0.0\n",
      "4.287732286453247 : 2     100.0 / 2.0 ---- 11.38 / 0.03 ---- 99.98 / 0.0 ---- 100.0 / 0.0\n",
      "4.706228923797608 : 3     100.0 / 3.0 ---- 11.38 / 0.06 ---- 99.98 / 0.0 ---- 100.0 / 0.0\n",
      "5.059421787261964 : 4     100.0 / 4.0 ---- 11.38 / 0.11 ---- 99.98 / 0.0 ---- 100.0 / 0.0\n",
      "5.45211238861084 : 5     100.0 / 5.0 ---- 11.38 / 0.12 ---- 99.98 / 0.0 ---- 100.0 / 0.0\n",
      "5.836243057250977 : 6     100.0 / 6.0 ---- 11.38 / 0.15 ---- 99.98 / 0.0 ---- 100.0 / 0.0\n",
      "6.295203762054443 : 7     100.0 / 7.0 ---- 11.38 / 0.18 ---- 99.98 / 0.0 ---- 100.0 / 0.0\n",
      "6.593488502502441 : 8     100.0 / 8.0 ---- 11.38 / 0.24 ---- 99.98 / 0.0 ---- 100.0 / 0.0\n",
      "7.071027097702026 : 9     100.0 / 9.0 ---- 11.38 / 0.36 ---- 99.98 / 0.0 ---- 100.0 / 0.0\n",
      "7.578047370910646 : 10     100.0 / 10.0 ---- 11.38 / 0.48 ---- 99.98 / 0.0 ---- 100.0 / 0.0\n",
      "8.065258827209473 : 11     100.0 / 11.0 ---- 11.38 / 0.53 ---- 99.98 / 0.0 ---- 100.0 / 0.0\n",
      "8.4817919921875 : 12     100.0 / 12.0 ---- 11.38 / 0.65 ---- 99.98 / 0.0 ---- 100.0 / 0.0\n",
      "8.888431673049928 : 13     100.0 / 13.0 ---- 11.38 / 0.75 ---- 99.98 / 0.0 ---- 100.0 / 0.0\n",
      "9.285199909210206 : 14     100.0 / 14.0 ---- 11.38 / 0.8 ---- 99.98 / 0.0 ---- 100.0 / 0.0\n",
      "9.678900051116944 : 15     100.0 / 15.0 ---- 11.38 / 0.87 ---- 99.98 / 0.0 ---- 100.0 / 0.0\n",
      "10.006397933959962 : 16     100.0 / 16.0 ---- 11.38 / 0.92 ---- 99.98 / 0.0 ---- 100.0 / 0.0\n",
      "10.311531581878663 : 17     100.0 / 17.0 ---- 11.38 / 0.98 ---- 99.98 / 0.0 ---- 100.0 / 0.0\n",
      "10.671342430114747 : 18     100.0 / 18.0 ---- 11.38 / 1.06 ---- 99.98 / 0.0 ---- 100.0 / 0.0\n",
      "10.978671875 : 19     100.0 / 19.0 ---- 11.38 / 1.13 ---- 99.98 / 0.0 ---- 100.0 / 0.0\n",
      "11.21026191711426 : 20     100.0 / 20.0 ---- 11.38 / 1.19 ---- 99.98 / 0.0 ---- 100.0 / 0.0\n",
      "11.479231719970702 : 21     100.0 / 21.0 ---- 11.38 / 1.24 ---- 99.98 / 0.0 ---- 100.0 / 0.0\n",
      "11.730825138092042 : 22     100.0 / 22.0 ---- 11.38 / 1.26 ---- 99.98 / 0.0 ---- 100.0 / 0.0\n",
      "11.954298849105836 : 23     100.0 / 23.0 ---- 11.38 / 1.31 ---- 99.98 / 0.0 ---- 100.0 / 0.0\n",
      "12.205029296875 : 24     100.0 / 24.0 ---- 11.38 / 1.36 ---- 99.98 / 0.0 ---- 100.0 / 0.0\n",
      "12.46526837348938 : 25     100.0 / 25.0 ---- 11.38 / 1.39 ---- 99.98 / 0.0 ---- 100.0 / 0.0\n",
      "12.70385154724121 : 26     100.0 / 26.0 ---- 11.38 / 1.44 ---- 99.98 / 0.0 ---- 100.0 / 0.0\n",
      "12.935682926177979 : 27     100.0 / 27.0 ---- 11.38 / 1.46 ---- 99.98 / 0.0 ---- 100.0 / 0.0\n",
      "13.15643497467041 : 28     100.0 / 28.0 ---- 11.38 / 1.49 ---- 99.98 / 0.0 ---- 100.0 / 0.0\n",
      "13.35287495613098 : 29     100.0 / 29.0 ---- 11.38 / 1.54 ---- 99.98 / 0.0 ---- 100.0 / 0.0\n",
      "13.615416622161865 : 30     100.0 / 30.0 ---- 11.38 / 1.65 ---- 99.98 / 0.0 ---- 100.0 / 0.0\n",
      "13.80635248184204 : 31     100.0 / 31.0 ---- 11.38 / 1.69 ---- 99.98 / 0.0 ---- 100.0 / 0.0\n",
      "14.045365867614747 : 32     100.0 / 32.0 ---- 11.38 / 1.74 ---- 99.98 / 0.0 ---- 100.0 / 0.0\n",
      "14.257098331451417 : 33     100.0 / 33.0 ---- 11.38 / 1.81 ---- 99.98 / 0.0 ---- 100.0 / 0.0\n",
      "14.450167484283451 : 34     100.0 / 34.0 ---- 11.38 / 1.88 ---- 99.98 / 0.0 ---- 100.0 / 0.0\n",
      "14.67784919738769 : 35     100.0 / 35.0 ---- 11.38 / 1.95 ---- 99.98 / 0.0 ---- 100.0 / 0.0\n",
      "14.906294059753417 : 36     100.0 / 36.0 ---- 11.38 / 2.02 ---- 99.98 / 0.0 ---- 100.0 / 0.0\n",
      "15.123013458251952 : 37     100.0 / 37.0 ---- 11.38 / 2.06 ---- 99.98 / 0.0 ---- 100.0 / 0.0\n",
      "15.342246780395508 : 38     100.0 / 38.0 ---- 11.38 / 2.08 ---- 99.98 / 0.0 ---- 100.0 / 0.0\n",
      "15.557349939346313 : 39     100.0 / 39.0 ---- 11.38 / 2.17 ---- 99.98 / 0.0 ---- 100.0 / 0.0\n",
      "15.733218383789064 : 40     100.0 / 40.0 ---- 11.38 / 2.23 ---- 99.98 / 0.0 ---- 100.0 / 0.0\n",
      "15.954891452789308 : 41     100.0 / 41.0 ---- 11.38 / 2.33 ---- 99.98 / 0.0 ---- 100.0 / 0.0\n",
      "16.165005531311035 : 42     100.0 / 42.0 ---- 11.38 / 2.45 ---- 99.98 / 0.0 ---- 100.0 / 0.0\n",
      "16.38330837249756 : 43     100.0 / 43.0 ---- 11.38 / 2.54 ---- 99.98 / 0.0 ---- 100.0 / 0.0\n",
      "16.64343406677246 : 44     100.0 / 44.0 ---- 11.38 / 2.71 ---- 99.98 / 0.0 ---- 100.0 / 0.0\n",
      "16.86425952911377 : 45     100.0 / 45.0 ---- 11.38 / 2.8 ---- 99.98 / 0.0 ---- 100.0 / 0.0\n",
      "17.0666752243042 : 46     100.0 / 46.0 ---- 11.38 / 2.87 ---- 99.98 / 0.0 ---- 100.0 / 0.0\n",
      "17.318289871215818 : 47     100.0 / 47.0 ---- 11.38 / 2.99 ---- 99.98 / 0.0 ---- 100.0 / 0.0\n",
      "17.524654083251953 : 48     100.0 / 48.0 ---- 11.38 / 3.04 ---- 99.98 / 0.0 ---- 100.0 / 0.0\n",
      "17.76574207305908 : 49     100.0 / 49.0 ---- 11.38 / 3.14 ---- 99.98 / 0.0 ---- 100.0 / 0.0\n",
      "18.008864402770996 : 50     100.0 / 50.0 ---- 11.38 / 3.25 ---- 99.98 / 0.0 ---- 100.0 / 0.0\n",
      "18.23188882827759 : 51     100.0 / 51.0 ---- 11.38 / 3.31 ---- 99.98 / 0.0 ---- 100.0 / 0.0\n",
      "18.49740173339844 : 52     100.0 / 52.0 ---- 11.38 / 3.42 ---- 99.98 / 0.0 ---- 100.0 / 0.0\n",
      "18.733260765075684 : 53     100.0 / 53.0 ---- 11.38 / 3.5 ---- 99.98 / 0.0 ---- 100.0 / 0.0\n",
      "18.976498641967773 : 54     100.0 / 54.0 ---- 11.38 / 3.67 ---- 99.98 / 0.0 ---- 100.0 / 0.0\n",
      "19.284077930450444 : 55     100.0 / 55.0 ---- 11.38 / 3.79 ---- 99.98 / 0.0 ---- 100.0 / 0.0\n",
      "19.558118133544923 : 56     100.0 / 56.0 ---- 11.38 / 3.96 ---- 99.98 / 0.0 ---- 100.0 / 0.0\n",
      "19.80794509887695 : 57     100.0 / 57.0 ---- 11.38 / 4.04 ---- 99.98 / 0.0 ---- 100.0 / 0.0\n",
      "20.03501884460449 : 58     100.0 / 58.0 ---- 11.38 / 4.18 ---- 99.98 / 0.0 ---- 100.0 / 0.0\n",
      "20.256543006896973 : 59     100.0 / 59.0 ---- 11.38 / 4.28 ---- 99.98 / 0.0 ---- 100.0 / 0.0\n",
      "20.580020523071287 : 60     100.0 / 60.0 ---- 11.38 / 4.41 ---- 99.98 / 0.0 ---- 100.0 / 0.0\n",
      "20.874396152496338 : 61     100.0 / 61.0 ---- 11.38 / 4.58 ---- 99.98 / 0.0 ---- 100.0 / 0.0\n",
      "21.110583724975584 : 62     100.0 / 62.0 ---- 11.38 / 4.68 ---- 99.98 / 0.0 ---- 100.0 / 0.0\n",
      "21.354165229797363 : 63     100.0 / 63.0 ---- 11.38 / 4.74 ---- 99.98 / 0.0 ---- 100.0 / 0.0\n",
      "21.702737274169923 : 64     100.0 / 64.0 ---- 11.38 / 4.9 ---- 99.98 / 0.0 ---- 100.0 / 0.0\n",
      "22.11537733078003 : 65     100.0 / 65.0 ---- 11.38 / 5.11 ---- 99.98 / 0.0 ---- 100.0 / 0.0\n",
      "22.450630264282225 : 66     100.0 / 66.0 ---- 11.38 / 5.26 ---- 99.98 / 0.0 ---- 100.0 / 0.0\n",
      "22.741617069244388 : 67     100.0 / 67.0 ---- 11.38 / 5.41 ---- 99.98 / 0.0 ---- 100.0 / 0.0\n",
      "23.028237609863282 : 68     100.0 / 68.0 ---- 11.38 / 5.54 ---- 99.98 / 0.0 ---- 100.0 / 0.0\n",
      "23.421396560668946 : 69     100.0 / 69.0 ---- 11.38 / 5.61 ---- 99.98 / 0.0 ---- 100.0 / 0.0\n",
      "23.813909912109374 : 70     100.0 / 70.0 ---- 11.38 / 5.72 ---- 99.98 / 0.0 ---- 100.0 / 0.0\n",
      "24.20414514541626 : 71     100.0 / 71.0 ---- 11.38 / 5.87 ---- 99.98 / 0.0 ---- 100.0 / 0.0\n",
      "24.568868560791014 : 72     100.0 / 72.0 ---- 11.38 / 6.0 ---- 99.98 / 0.0 ---- 100.0 / 0.0\n",
      "24.97181926727295 : 73     100.0 / 73.0 ---- 11.38 / 6.13 ---- 99.98 / 0.0 ---- 100.0 / 0.0\n",
      "25.42988422393799 : 74     100.0 / 74.0 ---- 11.38 / 6.28 ---- 99.98 / 0.0 ---- 100.0 / 0.0\n",
      "25.82224941253662 : 75     100.0 / 75.0 ---- 11.38 / 6.35 ---- 99.98 / 0.0 ---- 100.0 / 0.01\n",
      "26.273682632446288 : 76     100.0 / 76.0 ---- 11.38 / 6.44 ---- 99.98 / 0.0 ---- 100.0 / 0.01\n",
      "26.756991138458254 : 77     100.0 / 77.0 ---- 11.38 / 6.59 ---- 99.98 / 0.01 ---- 100.0 / 0.01\n",
      "27.203598098754885 : 78     100.0 / 78.0 ---- 11.38 / 6.76 ---- 99.98 / 0.03 ---- 100.0 / 0.01\n",
      "27.596100578308107 : 79     100.0 / 79.0 ---- 11.38 / 6.89 ---- 99.98 / 0.04 ---- 100.0 / 0.01\n",
      "28.041591262817384 : 80     100.0 / 80.0 ---- 11.38 / 7.12 ---- 99.98 / 0.06 ---- 100.0 / 0.01\n",
      "28.56854295730591 : 81     100.0 / 81.0 ---- 11.38 / 7.31 ---- 99.98 / 0.07 ---- 100.0 / 0.03\n",
      "29.079891204833984 : 82     100.0 / 82.0 ---- 11.38 / 7.42 ---- 99.98 / 0.1 ---- 100.0 / 0.04\n",
      "29.65496982574463 : 83     100.0 / 83.0 ---- 11.38 / 7.63 ---- 99.98 / 0.12 ---- 100.0 / 0.04\n",
      "30.295003967285158 : 84     100.0 / 84.0 ---- 11.38 / 7.76 ---- 99.98 / 0.15 ---- 100.0 / 0.04\n",
      "30.98694953918457 : 85     100.0 / 85.0 ---- 11.38 / 7.97 ---- 99.98 / 0.16 ---- 100.0 / 0.04\n",
      "31.785570983886718 : 86     100.0 / 86.0 ---- 11.38 / 8.12 ---- 99.98 / 0.21 ---- 100.0 / 0.09\n",
      "32.65839153289794 : 87     100.0 / 87.0 ---- 11.38 / 8.35 ---- 99.98 / 0.24 ---- 100.0 / 0.09\n",
      "33.3620964050293 : 88     100.0 / 88.0 ---- 11.38 / 8.59 ---- 99.98 / 0.28 ---- 100.0 / 0.12\n",
      "34.511426353454596 : 89     100.0 / 89.0 ---- 11.38 / 8.79 ---- 99.98 / 0.36 ---- 100.0 / 0.21\n",
      "35.49740028381348 : 90     100.0 / 90.0 ---- 11.38 / 9.0 ---- 99.98 / 0.39 ---- 100.0 / 0.27\n",
      "36.65305389404297 : 91     100.0 / 91.0 ---- 11.38 / 9.19 ---- 99.98 / 0.44 ---- 100.0 / 0.32\n",
      "37.918309936523436 : 92     100.0 / 92.0 ---- 11.38 / 9.35 ---- 99.98 / 0.54 ---- 100.0 / 0.39\n",
      "39.46987716674805 : 93     100.0 / 93.0 ---- 11.38 / 9.51 ---- 99.98 / 0.63 ---- 100.0 / 0.46\n",
      "41.53081069946288 : 94     100.0 / 94.0 ---- 11.38 / 9.78 ---- 99.98 / 0.7 ---- 100.0 / 0.56\n",
      "43.487750053405755 : 95     100.0 / 95.0 ---- 11.38 / 10.02 ---- 99.98 / 0.83 ---- 100.0 / 0.64\n",
      "45.77922271728508 : 96     100.0 / 96.0 ---- 11.38 / 10.23 ---- 99.98 / 1.01 ---- 100.0 / 0.79\n",
      "48.72585666656492 : 97     100.0 / 97.0 ---- 11.38 / 10.44 ---- 99.98 / 1.29 ---- 100.0 / 0.88\n",
      "53.17996467590335 : 98     100.0 / 98.0 ---- 11.38 / 10.65 ---- 99.98 / 2.06 ---- 100.0 / 1.32\n",
      "59.44066947937014 : 99     100.0 / 99.0 ---- 11.38 / 10.94 ---- 99.98 / 3.49 ---- 100.0 / 2.53\n"
     ]
    }
   ],
   "source": [
    "Und_L2_Targeted_Capsnet = Und_L2\n",
    "for i in range(0,100):\n",
    "    Attack_Table(Und_L2, i)"
   ]
  },
  {
   "cell_type": "code",
   "execution_count": 16,
   "metadata": {},
   "outputs": [],
   "source": [
    "np.save('Und_L2_Targeted_Capsnet.npy', Und_L2_Targeted_Capsnet)\n",
    "# np.save('Und_L2_Untargeted_Capsnet.npy', Und_L2_Untargeted_Capsnet)"
   ]
  },
  {
   "cell_type": "markdown",
   "metadata": {},
   "source": [
    "## Histograms for CNN + CR"
   ]
  },
  {
   "cell_type": "code",
   "execution_count": 13,
   "metadata": {},
   "outputs": [],
   "source": [
    "args = {\n",
    "    'DATASET_NAME':'mnist',\n",
    "    'num_classes':10,\n",
    "    \n",
    "    'USE_CUDA': True if torch.cuda.is_available() else False,\n",
    "    'BATCH_SIZE': 256,\n",
    "    'N_EPOCHS': 100,\n",
    "    'LEARNING_RATE_1': 1e-2,\n",
    "    'LEARNING_RATE_2': 1e-2,\n",
    "    'WEIGHTDECAY':5e-6,\n",
    "    \n",
    "    #Scheduler\n",
    "    'USE_SCHEDULER':True,\n",
    "    'sched_milestones':[8,20,30,40,50],\n",
    "    'sched_gamma':0.1,\n",
    "    \n",
    "    #Loss Function\n",
    "    'LAMBDA_recon': 0.5,\n",
    "    'LAMBDA_class': 1,\n",
    "    \n",
    "    #For Decoder\n",
    "    'num_features':160,\n",
    "    'LReLU_negative_slope':0.1,\n",
    "    'input_height':28,\n",
    "    'input_width':28,\n",
    "    'input_channel':1,\n",
    "    'type':'plusCR',\n",
    "    \n",
    "}"
   ]
  },
  {
   "cell_type": "code",
   "execution_count": 14,
   "metadata": {},
   "outputs": [],
   "source": [
    "class Config:\n",
    "    def __init__(self, dataset='mnist'):\n",
    "        # CONV1\n",
    "        self.conv1_in = 1\n",
    "        self.conv1_out = 12\n",
    "        self.conv1_kernel_size = 15\n",
    "\n",
    "        # CONV2\n",
    "        self.conv2_in = 12\n",
    "        self.conv2_out = 16\n",
    "        self.conv2_kernel_size = 8\n",
    "\n",
    "        # FC1\n",
    "        self.fc1_in = 7 * 7 * 16\n",
    "        self.fc1_out = 784\n",
    "        \n",
    "        # FC1\n",
    "        self.fc2_in = 784\n",
    "        self.fc2_out = 160\n",
    "\n",
    "torch.manual_seed(2)\n",
    "config = Config()\n",
    "\n",
    "net = CNNnet(args, config)\n",
    "\n",
    "# net = torch.nn.DataParallel(net)\n",
    "net.load_state_dict(torch.load(os.path.join(model_path, 'CNNplusCR_mnist.pth'), map_location='cpu'))\n",
    "    \n",
    "if args['USE_CUDA']:\n",
    "    net = net.cuda()\n",
    "    "
   ]
  },
  {
   "cell_type": "code",
   "execution_count": 15,
   "metadata": {},
   "outputs": [],
   "source": [
    "import matplotlib.pyplot as plt\n",
    "from advertorch.attacks import LinfPGDAttack, GradientSignAttack, CarliniWagnerL2Attack, LinfBasicIterativeAttack\n",
    "\n",
    "class Model_for_Adversary(nn.Module):\n",
    "    def __init__(self, net):\n",
    "        super(Model_for_Adversary, self).__init__()\n",
    "        self.net = net\n",
    "        \n",
    "    def forward(self, x):\n",
    "        output, recons, masked = self.net(x)\n",
    "        classes = output.sum(2)\n",
    "        return classes\n"
   ]
  },
  {
   "cell_type": "code",
   "execution_count": 16,
   "metadata": {},
   "outputs": [
    {
     "name": "stderr",
     "output_type": "stream",
     "text": [
      "100%|██████████| 40/40 [00:07<00:00,  5.44it/s]\n",
      "100%|██████████| 40/40 [06:25<00:00,  9.64s/it]\n",
      "100%|██████████| 40/40 [00:01<00:00, 36.61it/s]\n",
      "100%|██████████| 40/40 [06:30<00:00,  9.77s/it]\n"
     ]
    }
   ],
   "source": [
    "from advertorch.attacks.base import Attack, LabelMixin\n",
    "from advertorch.utils import clamp\n",
    "\n",
    "class CleanAttack(Attack, LabelMixin):\n",
    "    def __init__(self, clip_min=0., clip_max=1.):\n",
    "        super(CleanAttack, self).__init__(None, None, clip_min, clip_max)\n",
    "        self.clip_min = clip_min\n",
    "        self.clip_max = clip_max\n",
    "        self.targeted = False\n",
    "\n",
    "    def perturb(self, x, y=None):\n",
    "        return x\n",
    "    \n",
    "model_for_adversary = Model_for_Adversary(net)\n",
    "    \n",
    "linf_eps = 0.3\n",
    "fgsm_step = 0.05\n",
    "bim_pgd_step = 0.01\n",
    "\n",
    "adversary_dict = {}\n",
    "adversary_dict['Clean'] = CleanAttack(clip_min=-0.4242, clip_max=2.8215)\n",
    "adversary_dict['PGD'] = LinfPGDAttack(\n",
    "    model_for_adversary, loss_fn=nn.CrossEntropyLoss(reduction=\"sum\"), eps=(linf_eps/0.3081),\n",
    "    nb_iter=1000, eps_iter=(bim_pgd_step/0.3081), rand_init=True, clip_min=-0.4242, clip_max=2.8215,\n",
    "    targeted=False)\n",
    "\n",
    "adversary_dict['FGSM'] = GradientSignAttack(model_for_adversary, loss_fn=nn.CrossEntropyLoss(reduction=\"sum\"), eps=(fgsm_step/0.3081), clip_min=-0.4242, clip_max=2.8215, targeted=False)\n",
    "adversary_dict['BIM'] = LinfBasicIterativeAttack(model_for_adversary, loss_fn=nn.CrossEntropyLoss(reduction=\"sum\"), eps=(linf_eps/0.3081), nb_iter=1000, eps_iter=(bim_pgd_step/0.3081), clip_min=-0.4242, clip_max=2.8215, targeted=False)\n",
    "# adversary_dict['CW'] = CarliniWagnerL2Attack(model_for_adversary, num_classes=args['num_classes'], confidence=0, targeted=False, learning_rate=0.01, binary_search_steps=9, max_iterations=1000, abort_early=True, initial_const=0.001, clip_min=-0.4242, clip_max=2.8215, loss_fn=None)\n",
    "\n",
    "Success_Rate, Undetected_Rate, Und_L2 = WhiteBox_Attacks_Untargeted(net, testloader, adversary_dict, args)"
   ]
  },
  {
   "cell_type": "code",
   "execution_count": 17,
   "metadata": {},
   "outputs": [
    {
     "data": {
      "image/png": "[encoded data removed]",
      "text/plain": [
       "<Figure size 432x288 with 1 Axes>"
      ]
     },
     "metadata": {
      "needs_background": "light"
     },
     "output_type": "display_data"
    }
   ],
   "source": [
    "Und_L2_Untargeted_plusCR = Und_L2\n",
    "for adversary in adversary_dict.keys():\n",
    "    if(adversary!='Clean'):\n",
    "        x = np.linspace(0, 100, 20)\n",
    "        z = np.array([np.sum(Und_L2['Clean']>((i_x/100))*(np.percentile(Und_L2['Clean'],95))).item()/100 for i_x in x])\n",
    "        y = np.array([np.sum(Und_L2[adversary]<=((i_x/100))*(np.percentile(Und_L2['Clean'],95))).item()/100 for i_x in x])\n",
    "        plt.plot(z, y, 'go-', label='line1', linewidth=2)"
   ]
  },
  {
   "cell_type": "code",
   "execution_count": 18,
   "metadata": {},
   "outputs": [
    {
     "name": "stdout",
     "output_type": "stream",
     "text": [
      "2.7748494148254395 : 0     100.0 / 0.01 ---- 17.31 / 0.0 ---- 82.47 / 0.0 ---- 95.49 / 0.0\n",
      "8.515503749847412 : 1     100.0 / 1.0 ---- 17.31 / 0.0 ---- 82.47 / 0.0 ---- 95.49 / 0.0\n",
      "10.07335475921631 : 2     100.0 / 2.0 ---- 17.31 / 0.0 ---- 82.47 / 0.0 ---- 95.49 / 0.0\n",
      "11.545774812698363 : 3     100.0 / 3.0 ---- 17.31 / 0.0 ---- 82.47 / 0.0 ---- 95.49 / 0.0\n",
      "13.100052185058596 : 4     100.0 / 4.0 ---- 17.31 / 0.0 ---- 82.47 / 0.0 ---- 95.49 / 0.0\n",
      "14.224604558944703 : 5     100.0 / 5.0 ---- 17.31 / 0.0 ---- 82.47 / 0.0 ---- 95.49 / 0.0\n",
      "15.400445003509521 : 6     100.0 / 6.0 ---- 17.31 / 0.0 ---- 82.47 / 0.0 ---- 95.49 / 0.0\n",
      "16.460757083892823 : 7     100.0 / 7.0 ---- 17.31 / 0.01 ---- 82.47 / 0.0 ---- 95.49 / 0.0\n",
      "17.64835594177246 : 8     100.0 / 8.0 ---- 17.31 / 0.01 ---- 82.47 / 0.0 ---- 95.49 / 0.0\n",
      "18.751493473052978 : 9     100.0 / 9.0 ---- 17.31 / 0.01 ---- 82.47 / 0.0 ---- 95.49 / 0.0\n",
      "19.8048828125 : 10     100.0 / 10.0 ---- 17.31 / 0.03 ---- 82.47 / 0.0 ---- 95.49 / 0.0\n",
      "20.68039897918701 : 11     100.0 / 11.0 ---- 17.31 / 0.03 ---- 82.47 / 0.0 ---- 95.49 / 0.0\n",
      "21.616680679321288 : 12     100.0 / 12.0 ---- 17.31 / 0.03 ---- 82.47 / 0.0 ---- 95.49 / 0.0\n",
      "22.466871738433838 : 13     100.0 / 13.0 ---- 17.31 / 0.04 ---- 82.47 / 0.0 ---- 95.49 / 0.0\n",
      "23.3333447265625 : 14     100.0 / 14.0 ---- 17.31 / 0.04 ---- 82.47 / 0.0 ---- 95.49 / 0.0\n",
      "24.134093856811525 : 15     100.0 / 15.0 ---- 17.31 / 0.05 ---- 82.47 / 0.0 ---- 95.49 / 0.0\n",
      "24.94265548706055 : 16     100.0 / 16.0 ---- 17.31 / 0.05 ---- 82.47 / 0.0 ---- 95.49 / 0.0\n",
      "25.60596466064453 : 17     100.0 / 17.0 ---- 17.31 / 0.07 ---- 82.47 / 0.0 ---- 95.49 / 0.0\n",
      "26.2807426071167 : 18     100.0 / 18.0 ---- 17.31 / 0.09 ---- 82.47 / 0.0 ---- 95.49 / 0.0\n",
      "26.96108612060547 : 19     100.0 / 19.0 ---- 17.31 / 0.09 ---- 82.47 / 0.0 ---- 95.49 / 0.0\n",
      "27.70338668823242 : 20     100.0 / 20.0 ---- 17.31 / 0.11 ---- 82.47 / 0.0 ---- 95.49 / 0.0\n",
      "28.27905565261841 : 21     100.0 / 21.0 ---- 17.31 / 0.13 ---- 82.47 / 0.01 ---- 95.49 / 0.0\n",
      "29.088333587646485 : 22     100.0 / 22.0 ---- 17.31 / 0.17 ---- 82.47 / 0.01 ---- 95.49 / 0.0\n",
      "29.888945293426517 : 23     100.0 / 23.0 ---- 17.31 / 0.23 ---- 82.47 / 0.02 ---- 95.49 / 0.0\n",
      "30.483152847290036 : 24     100.0 / 24.0 ---- 17.31 / 0.24 ---- 82.47 / 0.02 ---- 95.49 / 0.0\n",
      "31.104892253875732 : 25     100.0 / 25.0 ---- 17.31 / 0.29 ---- 82.47 / 0.02 ---- 95.49 / 0.0\n",
      "31.806303291320802 : 26     100.0 / 26.0 ---- 17.31 / 0.33 ---- 82.47 / 0.02 ---- 95.49 / 0.0\n",
      "32.51647918701172 : 27     100.0 / 27.0 ---- 17.31 / 0.38 ---- 82.47 / 0.02 ---- 95.49 / 0.0\n",
      "33.14510070800781 : 28     100.0 / 28.0 ---- 17.31 / 0.43 ---- 82.47 / 0.02 ---- 95.49 / 0.0\n",
      "33.8144208908081 : 29     100.0 / 29.0 ---- 17.31 / 0.48 ---- 82.47 / 0.02 ---- 95.49 / 0.0\n",
      "34.49354743957519 : 30     100.0 / 30.0 ---- 17.31 / 0.55 ---- 82.47 / 0.02 ---- 95.49 / 0.0\n",
      "35.15693328857422 : 31     100.0 / 31.0 ---- 17.31 / 0.58 ---- 82.47 / 0.02 ---- 95.49 / 0.0\n",
      "35.78593872070313 : 32     100.0 / 32.0 ---- 17.31 / 0.62 ---- 82.47 / 0.03 ---- 95.49 / 0.0\n",
      "36.44634540557861 : 33     100.0 / 33.0 ---- 17.31 / 0.67 ---- 82.47 / 0.03 ---- 95.49 / 0.0\n",
      "37.03045188903809 : 34     100.0 / 34.0 ---- 17.31 / 0.69 ---- 82.47 / 0.03 ---- 95.49 / 0.0\n",
      "37.54481697082519 : 35     100.0 / 35.0 ---- 17.31 / 0.74 ---- 82.47 / 0.03 ---- 95.49 / 0.0\n",
      "38.07880645751953 : 36     100.0 / 36.0 ---- 17.31 / 0.81 ---- 82.47 / 0.04 ---- 95.49 / 0.0\n",
      "38.600346641540526 : 37     100.0 / 37.0 ---- 17.31 / 0.86 ---- 82.47 / 0.04 ---- 95.49 / 0.0\n",
      "39.24495544433594 : 38     100.0 / 38.0 ---- 17.31 / 0.96 ---- 82.47 / 0.04 ---- 95.49 / 0.0\n",
      "39.776301574707034 : 39     100.0 / 39.0 ---- 17.31 / 1.07 ---- 82.47 / 0.04 ---- 95.49 / 0.0\n",
      "40.31442565917969 : 40     100.0 / 40.0 ---- 17.31 / 1.14 ---- 82.47 / 0.04 ---- 95.49 / 0.0\n",
      "40.87310363769531 : 41     100.0 / 41.0 ---- 17.31 / 1.21 ---- 82.47 / 0.06 ---- 95.49 / 0.0\n",
      "41.457086105346676 : 42     100.0 / 42.0 ---- 17.31 / 1.26 ---- 82.47 / 0.07 ---- 95.49 / 0.0\n",
      "41.970543670654294 : 43     100.0 / 43.0 ---- 17.31 / 1.33 ---- 82.47 / 0.07 ---- 95.49 / 0.0\n",
      "42.592439575195314 : 44     100.0 / 44.0 ---- 17.31 / 1.42 ---- 82.47 / 0.09 ---- 95.49 / 0.01\n",
      "43.22839107513428 : 45     100.0 / 45.0 ---- 17.31 / 1.57 ---- 82.47 / 0.1 ---- 95.49 / 0.01\n",
      "43.79330787658691 : 46     100.0 / 46.0 ---- 17.31 / 1.67 ---- 82.47 / 0.11 ---- 95.49 / 0.01\n",
      "44.40863479614258 : 47     100.0 / 47.0 ---- 17.31 / 1.74 ---- 82.47 / 0.12 ---- 95.49 / 0.01\n",
      "44.98029815673828 : 48     100.0 / 48.0 ---- 17.31 / 1.83 ---- 82.47 / 0.12 ---- 95.49 / 0.01\n",
      "45.52141166687012 : 49     100.0 / 49.0 ---- 17.31 / 1.88 ---- 82.47 / 0.15 ---- 95.49 / 0.01\n",
      "46.12635040283203 : 50     100.0 / 50.0 ---- 17.31 / 1.96 ---- 82.47 / 0.19 ---- 95.49 / 0.01\n",
      "46.75118534088135 : 51     100.0 / 51.0 ---- 17.31 / 2.09 ---- 82.47 / 0.23 ---- 95.49 / 0.01\n",
      "47.30363952636719 : 52     100.0 / 52.0 ---- 17.31 / 2.2 ---- 82.47 / 0.26 ---- 95.49 / 0.02\n",
      "47.89180931091309 : 53     100.0 / 53.0 ---- 17.31 / 2.32 ---- 82.47 / 0.28 ---- 95.49 / 0.02\n",
      "48.39690742492676 : 54     100.0 / 54.0 ---- 17.31 / 2.42 ---- 82.47 / 0.3 ---- 95.49 / 0.05\n",
      "48.96763725280762 : 55     100.0 / 55.0 ---- 17.31 / 2.55 ---- 82.47 / 0.32 ---- 95.49 / 0.05\n",
      "49.627741241455084 : 56     100.0 / 56.0 ---- 17.31 / 2.62 ---- 82.47 / 0.35 ---- 95.49 / 0.06\n",
      "50.30229774475097 : 57     100.0 / 57.0 ---- 17.31 / 2.78 ---- 82.47 / 0.4 ---- 95.49 / 0.06\n",
      "50.830590438842755 : 58     100.0 / 58.0 ---- 17.31 / 2.87 ---- 82.47 / 0.47 ---- 95.49 / 0.09\n",
      "51.37837211608887 : 59     100.0 / 59.0 ---- 17.31 / 2.99 ---- 82.47 / 0.54 ---- 95.49 / 0.11\n",
      "52.01342163085937 : 60     100.0 / 60.0 ---- 17.31 / 3.08 ---- 82.47 / 0.57 ---- 95.49 / 0.13\n",
      "52.687571563720695 : 61     100.0 / 61.0 ---- 17.31 / 3.22 ---- 82.47 / 0.6 ---- 95.49 / 0.14\n",
      "53.25552307128906 : 62     100.0 / 62.0 ---- 17.31 / 3.39 ---- 82.47 / 0.64 ---- 95.49 / 0.17\n",
      "53.96776863098144 : 63     100.0 / 63.0 ---- 17.31 / 3.54 ---- 82.47 / 0.73 ---- 95.49 / 0.21\n",
      "54.761561737060546 : 64     100.0 / 64.0 ---- 17.31 / 3.67 ---- 82.47 / 0.83 ---- 95.49 / 0.29\n",
      "55.49883518218994 : 65     100.0 / 65.0 ---- 17.31 / 3.8 ---- 82.47 / 0.98 ---- 95.49 / 0.34\n",
      "56.214517822265634 : 66     100.0 / 66.0 ---- 17.31 / 3.97 ---- 82.47 / 1.13 ---- 95.49 / 0.4\n",
      "56.84653095245362 : 67     100.0 / 67.0 ---- 17.31 / 4.08 ---- 82.47 / 1.33 ---- 95.49 / 0.44\n",
      "57.61224700927734 : 68     100.0 / 68.0 ---- 17.31 / 4.23 ---- 82.47 / 1.47 ---- 95.49 / 0.5\n",
      "58.29094699859618 : 69     100.0 / 69.0 ---- 17.31 / 4.37 ---- 82.47 / 1.68 ---- 95.49 / 0.61\n",
      "59.10412139892578 : 70     100.0 / 70.0 ---- 17.31 / 4.54 ---- 82.47 / 1.85 ---- 95.49 / 0.7\n",
      "60.03550025939941 : 71     100.0 / 71.0 ---- 17.31 / 4.76 ---- 82.47 / 2.09 ---- 95.49 / 0.84\n",
      "60.75716201782227 : 72     100.0 / 72.0 ---- 17.31 / 4.95 ---- 82.47 / 2.36 ---- 95.49 / 0.93\n",
      "61.47820144653319 : 73     100.0 / 73.0 ---- 17.31 / 5.18 ---- 82.47 / 2.68 ---- 95.49 / 1.01\n",
      "62.475482635498054 : 74     100.0 / 74.0 ---- 17.31 / 5.48 ---- 82.47 / 3.12 ---- 95.49 / 1.15\n",
      "63.362382888793945 : 75     100.0 / 75.0 ---- 17.31 / 5.65 ---- 82.47 / 3.38 ---- 95.49 / 1.34\n",
      "64.34435821533204 : 76     100.0 / 76.0 ---- 17.31 / 5.92 ---- 82.47 / 3.76 ---- 95.49 / 1.49\n",
      "65.23632904052735 : 77     100.0 / 77.0 ---- 17.31 / 6.11 ---- 82.47 / 4.18 ---- 95.49 / 1.65\n",
      "66.21514114379883 : 78     100.0 / 78.0 ---- 17.31 / 6.39 ---- 82.47 / 4.65 ---- 95.49 / 1.87\n",
      "67.12675628662109 : 79     100.0 / 79.0 ---- 17.31 / 6.61 ---- 82.47 / 5.11 ---- 95.49 / 2.08\n",
      "68.01192626953126 : 80     100.0 / 80.0 ---- 17.31 / 6.87 ---- 82.47 / 5.57 ---- 95.49 / 2.29\n",
      "69.10603408813478 : 81     100.0 / 81.0 ---- 17.31 / 7.19 ---- 82.47 / 6.12 ---- 95.49 / 2.55\n",
      "70.32787750244141 : 82     100.0 / 82.0 ---- 17.31 / 7.59 ---- 82.47 / 6.93 ---- 95.49 / 2.88\n",
      "71.51091941833496 : 83     100.0 / 83.0 ---- 17.31 / 7.81 ---- 82.47 / 7.7 ---- 95.49 / 3.29\n",
      "72.64356872558594 : 84     100.0 / 84.0 ---- 17.31 / 8.15 ---- 82.47 / 8.35 ---- 95.49 / 3.62\n",
      "74.01766853332519 : 85     100.0 / 85.0 ---- 17.31 / 8.46 ---- 82.47 / 9.32 ---- 95.49 / 4.11\n",
      "75.28693008422852 : 86     100.0 / 86.0 ---- 17.31 / 8.79 ---- 82.47 / 10.09 ---- 95.49 / 4.59\n",
      "76.67818634033203 : 87     100.0 / 87.0 ---- 17.31 / 9.2 ---- 82.47 / 11.1 ---- 95.49 / 5.13\n",
      "78.556474609375 : 88     100.0 / 88.0 ---- 17.31 / 9.63 ---- 82.47 / 12.74 ---- 95.49 / 6.07\n",
      "80.41710052490237 : 89     100.0 / 89.0 ---- 17.31 / 10.02 ---- 82.47 / 14.42 ---- 95.49 / 6.84\n",
      "82.28900604248048 : 90     100.0 / 90.0 ---- 17.31 / 10.51 ---- 82.47 / 16.3 ---- 95.49 / 8.04\n",
      "84.50235519409179 : 91     100.0 / 91.0 ---- 17.31 / 11.0 ---- 82.47 / 18.43 ---- 95.49 / 9.41\n",
      "86.88443634033203 : 92     100.0 / 92.0 ---- 17.31 / 11.47 ---- 82.47 / 20.74 ---- 95.49 / 11.26\n",
      "89.45556457519531 : 93     100.0 / 93.0 ---- 17.31 / 12.0 ---- 82.47 / 23.5 ---- 95.49 / 13.45\n",
      "92.08264190673823 : 94     100.0 / 94.0 ---- 17.31 / 12.55 ---- 82.47 / 26.38 ---- 95.49 / 15.89\n",
      "95.39655151367182 : 95     100.0 / 95.0 ---- 17.31 / 13.05 ---- 82.47 / 29.99 ---- 95.49 / 19.66\n",
      "99.91274902343731 : 96     100.0 / 96.0 ---- 17.31 / 13.89 ---- 82.47 / 35.25 ---- 95.49 / 24.82\n",
      "105.13940284728997 : 97     100.0 / 97.0 ---- 17.31 / 14.63 ---- 82.47 / 41.39 ---- 95.49 / 31.89\n",
      "111.53726150512699 : 98     100.0 / 98.0 ---- 17.31 / 15.41 ---- 82.47 / 48.48 ---- 95.49 / 41.02\n",
      "120.9435295104981 : 99     100.0 / 99.0 ---- 17.31 / 16.23 ---- 82.47 / 58.18 ---- 95.49 / 54.79\n"
     ]
    }
   ],
   "source": [
    "for i in range(0,100):\n",
    "    Attack_Table(Und_L2, i)"
   ]
  },
  {
   "cell_type": "code",
   "execution_count": 19,
   "metadata": {
    "scrolled": true
   },
   "outputs": [
    {
     "name": "stderr",
     "output_type": "stream",
     "text": [
      "100%|██████████| 40/40 [00:01<00:00, 24.64it/s]\n",
      "100%|██████████| 40/40 [06:25<00:00,  9.64s/it]\n",
      "100%|██████████| 40/40 [00:01<00:00, 37.62it/s]\n",
      "100%|██████████| 40/40 [06:32<00:00,  9.82s/it]\n"
     ]
    }
   ],
   "source": [
    "model_for_adversary = Model_for_Adversary(net)\n",
    "linf_eps = 0.3\n",
    "fgsm_step = 0.05\n",
    "bim_pgd_step = 0.01\n",
    "\n",
    "adversary_dict = {}\n",
    "adversary_dict['Clean'] = CleanAttack(clip_min=-0.4242, clip_max=2.8215)\n",
    "adversary_dict['PGD'] = LinfPGDAttack(\n",
    "    model_for_adversary, loss_fn=nn.CrossEntropyLoss(reduction=\"sum\"), eps=(linf_eps/0.3081),\n",
    "    nb_iter=1000, eps_iter=(bim_pgd_step/0.3081), rand_init=True, clip_min=-0.4242, clip_max=2.8215,\n",
    "    targeted=True)\n",
    "\n",
    "adversary_dict['FGSM'] = GradientSignAttack(model_for_adversary, loss_fn=nn.CrossEntropyLoss(reduction=\"sum\"), eps=(fgsm_step/0.3081), clip_min=-0.4242, clip_max=2.8215, targeted=True)\n",
    "adversary_dict['BIM'] = LinfBasicIterativeAttack(model_for_adversary, loss_fn=nn.CrossEntropyLoss(reduction=\"sum\"), eps=(linf_eps/0.3081), nb_iter=1000, eps_iter=(bim_pgd_step/0.3081), clip_min=-0.4242, clip_max=2.8215, targeted=True)\n",
    "# adversary_dict['CW'] = CarliniWagnerL2Attack(model_for_adversary, num_classes=args['num_classes'], confidence=0, targeted=False, learning_rate=0.01, binary_search_steps=9, max_iterations=1000, abort_early=True, initial_const=0.001, clip_min=-0.4242, clip_max=2.8215, loss_fn=None)\n",
    "\n",
    "Success_Rate, Undetected_Rate, Und_L2 = WhiteBox_Attacks_Targeted(net, testloader, adversary_dict, args)"
   ]
  },
  {
   "cell_type": "code",
   "execution_count": 20,
   "metadata": {},
   "outputs": [
    {
     "data": {
      "image/png": "[encoded data removed]",
      "text/plain": [
       "<Figure size 432x288 with 1 Axes>"
      ]
     },
     "metadata": {
      "needs_background": "light"
     },
     "output_type": "display_data"
    }
   ],
   "source": [
    "Und_L2_Targeted_plusCR = Und_L2\n",
    "for adversary in adversary_dict.keys():\n",
    "    if(adversary!='Clean'):\n",
    "        x = np.linspace(0, 100, 20)\n",
    "        z = np.array([np.sum(Und_L2['Clean']>((i_x/100))*(np.percentile(Und_L2['Clean'],95))).item()/100 for i_x in x])\n",
    "        y = np.array([np.sum(Und_L2[adversary]<=((i_x/100))*(np.percentile(Und_L2['Clean'],95))).item()/100 for i_x in x])\n",
    "        plt.plot(z, y, 'go-', label='line1', linewidth=2)"
   ]
  },
  {
   "cell_type": "code",
   "execution_count": 21,
   "metadata": {},
   "outputs": [
    {
     "name": "stdout",
     "output_type": "stream",
     "text": [
      "2.7748494148254395 : 0     100.0 / 0.01 ---- 12.86 / 0.0 ---- 81.42 / 0.0 ---- 79.28 / 0.0\n",
      "8.515503749847412 : 1     100.0 / 1.0 ---- 12.86 / 0.02 ---- 81.42 / 0.0 ---- 79.28 / 0.0\n",
      "10.07335475921631 : 2     100.0 / 2.0 ---- 12.86 / 0.07 ---- 81.42 / 0.01 ---- 79.28 / 0.0\n",
      "11.545774812698363 : 3     100.0 / 3.0 ---- 12.86 / 0.1 ---- 81.42 / 0.02 ---- 79.28 / 0.0\n",
      "13.100052185058596 : 4     100.0 / 4.0 ---- 12.86 / 0.13 ---- 81.42 / 0.02 ---- 79.28 / 0.0\n",
      "14.224604558944703 : 5     100.0 / 5.0 ---- 12.86 / 0.16 ---- 81.42 / 0.07 ---- 79.28 / 0.0\n",
      "15.400445003509521 : 6     100.0 / 6.0 ---- 12.86 / 0.21 ---- 81.42 / 0.1 ---- 79.28 / 0.0\n",
      "16.460757083892823 : 7     100.0 / 7.0 ---- 12.86 / 0.31 ---- 81.42 / 0.11 ---- 79.28 / 0.0\n",
      "17.64835594177246 : 8     100.0 / 8.0 ---- 12.86 / 0.38 ---- 81.42 / 0.11 ---- 79.28 / 0.0\n",
      "18.751493473052978 : 9     100.0 / 9.0 ---- 12.86 / 0.5 ---- 81.42 / 0.11 ---- 79.28 / 0.0\n",
      "19.8048828125 : 10     100.0 / 10.0 ---- 12.86 / 0.62 ---- 81.42 / 0.11 ---- 79.28 / 0.0\n",
      "20.68039897918701 : 11     100.0 / 11.0 ---- 12.86 / 0.7 ---- 81.42 / 0.12 ---- 79.28 / 0.0\n",
      "21.616680679321288 : 12     100.0 / 12.0 ---- 12.86 / 0.73 ---- 81.42 / 0.12 ---- 79.28 / 0.0\n",
      "22.466871738433838 : 13     100.0 / 13.0 ---- 12.86 / 0.85 ---- 81.42 / 0.12 ---- 79.28 / 0.0\n",
      "23.3333447265625 : 14     100.0 / 14.0 ---- 12.86 / 0.95 ---- 81.42 / 0.13 ---- 79.28 / 0.0\n",
      "24.134093856811525 : 15     100.0 / 15.0 ---- 12.86 / 1.01 ---- 81.42 / 0.14 ---- 79.28 / 0.0\n",
      "24.94265548706055 : 16     100.0 / 16.0 ---- 12.86 / 1.1 ---- 81.42 / 0.15 ---- 79.28 / 0.0\n",
      "25.60596466064453 : 17     100.0 / 17.0 ---- 12.86 / 1.16 ---- 81.42 / 0.16 ---- 79.28 / 0.0\n",
      "26.2807426071167 : 18     100.0 / 18.0 ---- 12.86 / 1.26 ---- 81.42 / 0.17 ---- 79.28 / 0.0\n",
      "26.96108612060547 : 19     100.0 / 19.0 ---- 12.86 / 1.38 ---- 81.42 / 0.18 ---- 79.28 / 0.0\n",
      "27.70338668823242 : 20     100.0 / 20.0 ---- 12.86 / 1.49 ---- 81.42 / 0.18 ---- 79.28 / 0.0\n",
      "28.27905565261841 : 21     100.0 / 21.0 ---- 12.86 / 1.58 ---- 81.42 / 0.19 ---- 79.28 / 0.0\n",
      "29.088333587646485 : 22     100.0 / 22.0 ---- 12.86 / 1.68 ---- 81.42 / 0.21 ---- 79.28 / 0.0\n",
      "29.888945293426517 : 23     100.0 / 23.0 ---- 12.86 / 1.76 ---- 81.42 / 0.23 ---- 79.28 / 0.0\n",
      "30.483152847290036 : 24     100.0 / 24.0 ---- 12.86 / 1.89 ---- 81.42 / 0.24 ---- 79.28 / 0.02\n",
      "31.104892253875732 : 25     100.0 / 25.0 ---- 12.86 / 1.94 ---- 81.42 / 0.25 ---- 79.28 / 0.02\n",
      "31.806303291320802 : 26     100.0 / 26.0 ---- 12.86 / 2.0 ---- 81.42 / 0.27 ---- 79.28 / 0.02\n",
      "32.51647918701172 : 27     100.0 / 27.0 ---- 12.86 / 2.05 ---- 81.42 / 0.3 ---- 79.28 / 0.05\n",
      "33.14510070800781 : 28     100.0 / 28.0 ---- 12.86 / 2.13 ---- 81.42 / 0.32 ---- 79.28 / 0.05\n",
      "33.8144208908081 : 29     100.0 / 29.0 ---- 12.86 / 2.24 ---- 81.42 / 0.35 ---- 79.28 / 0.06\n",
      "34.49354743957519 : 30     100.0 / 30.0 ---- 12.86 / 2.33 ---- 81.42 / 0.36 ---- 79.28 / 0.09\n",
      "35.15693328857422 : 31     100.0 / 31.0 ---- 12.86 / 2.46 ---- 81.42 / 0.4 ---- 79.28 / 0.1\n",
      "35.78593872070313 : 32     100.0 / 32.0 ---- 12.86 / 2.59 ---- 81.42 / 0.42 ---- 79.28 / 0.12\n",
      "36.44634540557861 : 33     100.0 / 33.0 ---- 12.86 / 2.7 ---- 81.42 / 0.47 ---- 79.28 / 0.13\n",
      "37.03045188903809 : 34     100.0 / 34.0 ---- 12.86 / 2.79 ---- 81.42 / 0.55 ---- 79.28 / 0.16\n",
      "37.54481697082519 : 35     100.0 / 35.0 ---- 12.86 / 2.9 ---- 81.42 / 0.58 ---- 79.28 / 0.18\n",
      "38.07880645751953 : 36     100.0 / 36.0 ---- 12.86 / 3.02 ---- 81.42 / 0.66 ---- 79.28 / 0.2\n",
      "38.600346641540526 : 37     100.0 / 37.0 ---- 12.86 / 3.14 ---- 81.42 / 0.71 ---- 79.28 / 0.22\n",
      "39.24495544433594 : 38     100.0 / 38.0 ---- 12.86 / 3.29 ---- 81.42 / 0.79 ---- 79.28 / 0.23\n",
      "39.776301574707034 : 39     100.0 / 39.0 ---- 12.86 / 3.41 ---- 81.42 / 0.85 ---- 79.28 / 0.24\n",
      "40.31442565917969 : 40     100.0 / 40.0 ---- 12.86 / 3.52 ---- 81.42 / 0.89 ---- 79.28 / 0.26\n",
      "40.87310363769531 : 41     100.0 / 41.0 ---- 12.86 / 3.61 ---- 81.42 / 0.98 ---- 79.28 / 0.3\n",
      "41.457086105346676 : 42     100.0 / 42.0 ---- 12.86 / 3.7 ---- 81.42 / 1.05 ---- 79.28 / 0.33\n",
      "41.970543670654294 : 43     100.0 / 43.0 ---- 12.86 / 3.77 ---- 81.42 / 1.1 ---- 79.28 / 0.35\n",
      "42.592439575195314 : 44     100.0 / 44.0 ---- 12.86 / 3.95 ---- 81.42 / 1.2 ---- 79.28 / 0.36\n",
      "43.22839107513428 : 45     100.0 / 45.0 ---- 12.86 / 4.07 ---- 81.42 / 1.26 ---- 79.28 / 0.39\n",
      "43.79330787658691 : 46     100.0 / 46.0 ---- 12.86 / 4.19 ---- 81.42 / 1.31 ---- 79.28 / 0.43\n",
      "44.40863479614258 : 47     100.0 / 47.0 ---- 12.86 / 4.31 ---- 81.42 / 1.36 ---- 79.28 / 0.45\n",
      "44.98029815673828 : 48     100.0 / 48.0 ---- 12.86 / 4.43 ---- 81.42 / 1.41 ---- 79.28 / 0.47\n",
      "45.52141166687012 : 49     100.0 / 49.0 ---- 12.86 / 4.45 ---- 81.42 / 1.52 ---- 79.28 / 0.53\n",
      "46.12635040283203 : 50     100.0 / 50.0 ---- 12.86 / 4.52 ---- 81.42 / 1.64 ---- 79.28 / 0.56\n",
      "46.75118534088135 : 51     100.0 / 51.0 ---- 12.86 / 4.65 ---- 81.42 / 1.77 ---- 79.28 / 0.62\n",
      "47.30363952636719 : 52     100.0 / 52.0 ---- 12.86 / 4.76 ---- 81.42 / 1.83 ---- 79.28 / 0.65\n",
      "47.89180931091309 : 53     100.0 / 53.0 ---- 12.86 / 4.91 ---- 81.42 / 1.93 ---- 79.28 / 0.74\n",
      "48.39690742492676 : 54     100.0 / 54.0 ---- 12.86 / 5.01 ---- 81.42 / 1.96 ---- 79.28 / 0.81\n",
      "48.96763725280762 : 55     100.0 / 55.0 ---- 12.86 / 5.07 ---- 81.42 / 2.02 ---- 79.28 / 0.83\n",
      "49.627741241455084 : 56     100.0 / 56.0 ---- 12.86 / 5.22 ---- 81.42 / 2.13 ---- 79.28 / 0.87\n",
      "50.30229774475097 : 57     100.0 / 57.0 ---- 12.86 / 5.35 ---- 81.42 / 2.22 ---- 79.28 / 0.92\n",
      "50.830590438842755 : 58     100.0 / 58.0 ---- 12.86 / 5.5 ---- 81.42 / 2.38 ---- 79.28 / 1.01\n",
      "51.37837211608887 : 59     100.0 / 59.0 ---- 12.86 / 5.63 ---- 81.42 / 2.5 ---- 79.28 / 1.14\n",
      "52.01342163085937 : 60     100.0 / 60.0 ---- 12.86 / 5.74 ---- 81.42 / 2.61 ---- 79.28 / 1.22\n",
      "52.687571563720695 : 61     100.0 / 61.0 ---- 12.86 / 5.91 ---- 81.42 / 2.78 ---- 79.28 / 1.34\n",
      "53.25552307128906 : 62     100.0 / 62.0 ---- 12.86 / 6.01 ---- 81.42 / 2.86 ---- 79.28 / 1.49\n",
      "53.96776863098144 : 63     100.0 / 63.0 ---- 12.86 / 6.15 ---- 81.42 / 3.15 ---- 79.28 / 1.62\n",
      "54.761561737060546 : 64     100.0 / 64.0 ---- 12.86 / 6.32 ---- 81.42 / 3.44 ---- 79.28 / 1.81\n",
      "55.49883518218994 : 65     100.0 / 65.0 ---- 12.86 / 6.55 ---- 81.42 / 3.64 ---- 79.28 / 1.93\n",
      "56.214517822265634 : 66     100.0 / 66.0 ---- 12.86 / 6.7 ---- 81.42 / 3.86 ---- 79.28 / 2.08\n",
      "56.84653095245362 : 67     100.0 / 67.0 ---- 12.86 / 6.83 ---- 81.42 / 4.06 ---- 79.28 / 2.26\n",
      "57.61224700927734 : 68     100.0 / 68.0 ---- 12.86 / 6.91 ---- 81.42 / 4.23 ---- 79.28 / 2.44\n",
      "58.29094699859618 : 69     100.0 / 69.0 ---- 12.86 / 7.04 ---- 81.42 / 4.49 ---- 79.28 / 2.57\n",
      "59.10412139892578 : 70     100.0 / 70.0 ---- 12.86 / 7.16 ---- 81.42 / 4.86 ---- 79.28 / 2.77\n",
      "60.03550025939941 : 71     100.0 / 71.0 ---- 12.86 / 7.39 ---- 81.42 / 5.33 ---- 79.28 / 2.95\n",
      "60.75716201782227 : 72     100.0 / 72.0 ---- 12.86 / 7.54 ---- 81.42 / 5.6 ---- 79.28 / 3.13\n",
      "61.47820144653319 : 73     100.0 / 73.0 ---- 12.86 / 7.69 ---- 81.42 / 5.89 ---- 79.28 / 3.41\n",
      "62.475482635498054 : 74     100.0 / 74.0 ---- 12.86 / 7.78 ---- 81.42 / 6.23 ---- 79.28 / 3.72\n",
      "63.362382888793945 : 75     100.0 / 75.0 ---- 12.86 / 7.9 ---- 81.42 / 6.67 ---- 79.28 / 4.04\n",
      "64.34435821533204 : 76     100.0 / 76.0 ---- 12.86 / 8.12 ---- 81.42 / 7.24 ---- 79.28 / 4.35\n",
      "65.23632904052735 : 77     100.0 / 77.0 ---- 12.86 / 8.33 ---- 81.42 / 7.67 ---- 79.28 / 4.73\n",
      "66.21514114379883 : 78     100.0 / 78.0 ---- 12.86 / 8.43 ---- 81.42 / 8.2 ---- 79.28 / 5.16\n",
      "67.12675628662109 : 79     100.0 / 79.0 ---- 12.86 / 8.58 ---- 81.42 / 8.59 ---- 79.28 / 5.46\n",
      "68.01192626953126 : 80     100.0 / 80.0 ---- 12.86 / 8.68 ---- 81.42 / 9.16 ---- 79.28 / 5.73\n",
      "69.10603408813478 : 81     100.0 / 81.0 ---- 12.86 / 8.82 ---- 81.42 / 9.65 ---- 79.28 / 6.27\n",
      "70.32787750244141 : 82     100.0 / 82.0 ---- 12.86 / 9.05 ---- 81.42 / 10.46 ---- 79.28 / 6.9\n",
      "71.51091941833496 : 83     100.0 / 83.0 ---- 12.86 / 9.21 ---- 81.42 / 11.29 ---- 79.28 / 7.37\n",
      "72.64356872558594 : 84     100.0 / 84.0 ---- 12.86 / 9.38 ---- 81.42 / 12.14 ---- 79.28 / 8.12\n",
      "74.01766853332519 : 85     100.0 / 85.0 ---- 12.86 / 9.55 ---- 81.42 / 13.21 ---- 79.28 / 9.13\n",
      "75.28693008422852 : 86     100.0 / 86.0 ---- 12.86 / 9.75 ---- 81.42 / 14.14 ---- 79.28 / 10.06\n",
      "76.67818634033203 : 87     100.0 / 87.0 ---- 12.86 / 9.85 ---- 81.42 / 15.34 ---- 79.28 / 11.12\n",
      "78.556474609375 : 88     100.0 / 88.0 ---- 12.86 / 10.11 ---- 81.42 / 16.96 ---- 79.28 / 12.64\n",
      "80.41710052490237 : 89     100.0 / 89.0 ---- 12.86 / 10.34 ---- 81.42 / 18.66 ---- 79.28 / 14.24\n",
      "82.28900604248048 : 90     100.0 / 90.0 ---- 12.86 / 10.48 ---- 81.42 / 20.38 ---- 79.28 / 15.61\n",
      "84.50235519409179 : 91     100.0 / 91.0 ---- 12.86 / 10.68 ---- 81.42 / 22.94 ---- 79.28 / 17.47\n",
      "86.88443634033203 : 92     100.0 / 92.0 ---- 12.86 / 10.88 ---- 81.42 / 25.49 ---- 79.28 / 19.72\n",
      "89.45556457519531 : 93     100.0 / 93.0 ---- 12.86 / 11.15 ---- 81.42 / 28.55 ---- 79.28 / 22.38\n",
      "92.08264190673823 : 94     100.0 / 94.0 ---- 12.86 / 11.3 ---- 81.42 / 31.57 ---- 79.28 / 25.15\n",
      "95.39655151367182 : 95     100.0 / 95.0 ---- 12.86 / 11.54 ---- 81.42 / 35.46 ---- 79.28 / 28.59\n",
      "99.91274902343731 : 96     100.0 / 96.0 ---- 12.86 / 11.78 ---- 81.42 / 40.37 ---- 79.28 / 33.32\n",
      "105.13940284728997 : 97     100.0 / 97.0 ---- 12.86 / 11.99 ---- 81.42 / 45.9 ---- 79.28 / 39.21\n",
      "111.53726150512699 : 98     100.0 / 98.0 ---- 12.86 / 12.24 ---- 81.42 / 52.42 ---- 79.28 / 45.98\n",
      "120.9435295104981 : 99     100.0 / 99.0 ---- 12.86 / 12.53 ---- 81.42 / 60.99 ---- 79.28 / 55.86\n"
     ]
    }
   ],
   "source": [
    "for i in range(0,100):\n",
    "    Attack_Table(Und_L2, i)"
   ]
  },
  {
   "cell_type": "code",
   "execution_count": 19,
   "metadata": {},
   "outputs": [],
   "source": [
    "np.save('Und_L2_Targeted_plusCR.npy', Und_L2_Targeted_plusCR)\n",
    "np.save('Und_L2_Untargeted_plusCR.npy', Und_L2_Untargeted_plusCR)"
   ]
  },
  {
   "cell_type": "markdown",
   "metadata": {},
   "source": [
    "## Histograms for CNN plus R"
   ]
  },
  {
   "cell_type": "code",
   "execution_count": 22,
   "metadata": {},
   "outputs": [],
   "source": [
    "args = {\n",
    "    'DATASET_NAME':'mnist',\n",
    "    'num_classes':10,\n",
    "    \n",
    "    'USE_CUDA': True if torch.cuda.is_available() else False,\n",
    "    'BATCH_SIZE': 256,\n",
    "    'N_EPOCHS': 100,\n",
    "    'LEARNING_RATE_1': 1e-2,\n",
    "    'LEARNING_RATE_2': 1e-2,\n",
    "    'WEIGHTDECAY':5e-6,\n",
    "    \n",
    "    #Scheduler\n",
    "    'USE_SCHEDULER':True,\n",
    "    'sched_milestones':[8,20,30,40,50],\n",
    "    'sched_gamma':0.1,\n",
    "    \n",
    "    #Loss Function\n",
    "    'LAMBDA_recon': 0.5,\n",
    "    'LAMBDA_class': 1,\n",
    "    \n",
    "    #For Decoder\n",
    "    'num_features':160,\n",
    "    'LReLU_negative_slope':0.1,\n",
    "    'input_height':28,\n",
    "    'input_width':28,\n",
    "    'input_channel':1,\n",
    "    'type':'plusR',\n",
    "    \n",
    "}"
   ]
  },
  {
   "cell_type": "code",
   "execution_count": 23,
   "metadata": {},
   "outputs": [],
   "source": [
    "class Config:\n",
    "    def __init__(self, dataset='mnist'):\n",
    "        # CONV1\n",
    "        self.conv1_in = 1\n",
    "        self.conv1_out = 12\n",
    "        self.conv1_kernel_size = 15\n",
    "\n",
    "        # CONV2\n",
    "        self.conv2_in = 12\n",
    "        self.conv2_out = 16\n",
    "        self.conv2_kernel_size = 8\n",
    "\n",
    "        # FC1\n",
    "        self.fc1_in = 7 * 7 * 16\n",
    "        self.fc1_out = 784\n",
    "        \n",
    "        # FC1\n",
    "        self.fc2_in = 784\n",
    "        self.fc2_out = 160\n",
    "\n",
    "torch.manual_seed(2)\n",
    "config = Config()\n",
    "\n",
    "net = CNNnet(args, config)\n",
    "\n",
    "# net = torch.nn.DataParallel(net)\n",
    "net.load_state_dict(torch.load(os.path.join(model_path, 'CNNplusR_mnist.pth'), map_location='cpu'))\n",
    "    \n",
    "if args['USE_CUDA']:\n",
    "    net = net.cuda()\n",
    "    "
   ]
  },
  {
   "cell_type": "code",
   "execution_count": 24,
   "metadata": {},
   "outputs": [
    {
     "name": "stderr",
     "output_type": "stream",
     "text": [
      "100%|██████████| 40/40 [00:01<00:00, 39.72it/s]\n",
      "100%|██████████| 40/40 [06:25<00:00,  9.65s/it]\n",
      "100%|██████████| 40/40 [00:01<00:00, 36.55it/s]\n",
      "100%|██████████| 40/40 [06:33<00:00,  9.84s/it]\n"
     ]
    }
   ],
   "source": [
    "model_for_adversary = Model_for_Adversary(net)\n",
    "    \n",
    "linf_eps = 0.3\n",
    "fgsm_step = 0.05\n",
    "bim_pgd_step = 0.01\n",
    "\n",
    "adversary_dict = {}\n",
    "adversary_dict['Clean'] = CleanAttack(clip_min=-0.4242, clip_max=2.8215)\n",
    "adversary_dict['PGD'] = LinfPGDAttack(\n",
    "    model_for_adversary, loss_fn=nn.CrossEntropyLoss(reduction=\"sum\"), eps=(linf_eps/0.3081),\n",
    "    nb_iter=1000, eps_iter=(bim_pgd_step/0.3081), rand_init=True, clip_min=-0.4242, clip_max=2.8215,\n",
    "    targeted=False)\n",
    "\n",
    "adversary_dict['FGSM'] = GradientSignAttack(model_for_adversary, loss_fn=nn.CrossEntropyLoss(reduction=\"sum\"), eps=(fgsm_step/0.3081), clip_min=-0.4242, clip_max=2.8215, targeted=False)\n",
    "adversary_dict['BIM'] = LinfBasicIterativeAttack(model_for_adversary, loss_fn=nn.CrossEntropyLoss(reduction=\"sum\"), eps=(linf_eps/0.3081), nb_iter=1000, eps_iter=(bim_pgd_step/0.3081), clip_min=-0.4242, clip_max=2.8215, targeted=False)\n",
    "# adversary_dict['CW'] = CarliniWagnerL2Attack(model_for_adversary, num_classes=args['num_classes'], confidence=0, targeted=False, learning_rate=0.01, binary_search_steps=9, max_iterations=1000, abort_early=True, initial_const=0.001, clip_min=-0.4242, clip_max=2.8215, loss_fn=None)\n",
    "\n",
    "Success_Rate, Undetected_Rate, Und_L2 = WhiteBox_Attacks_Untargeted(net, testloader, adversary_dict, args)"
   ]
  },
  {
   "cell_type": "code",
   "execution_count": 25,
   "metadata": {},
   "outputs": [
    {
     "data": {
      "image/png": "[encoded data removed]",
      "text/plain": [
       "<Figure size 432x288 with 1 Axes>"
      ]
     },
     "metadata": {
      "needs_background": "light"
     },
     "output_type": "display_data"
    }
   ],
   "source": [
    "Und_L2_Untargeted_plusR = Und_L2\n",
    "for adversary in adversary_dict.keys():\n",
    "    if(adversary!='Clean'):\n",
    "        x = np.linspace(0, 100, 20)\n",
    "        z = np.array([np.sum(Und_L2['Clean']>((i_x/100))*(np.percentile(Und_L2['Clean'],95))).item()/100 for i_x in x])\n",
    "        y = np.array([np.sum(Und_L2[adversary]<=((i_x/100))*(np.percentile(Und_L2['Clean'],95))).item()/100 for i_x in x])\n",
    "        plt.plot(z, y, 'go-', label='line1', linewidth=2)"
   ]
  },
  {
   "cell_type": "code",
   "execution_count": 26,
   "metadata": {},
   "outputs": [
    {
     "name": "stdout",
     "output_type": "stream",
     "text": [
      "2.129915475845337 : 0     100.0 / 0.01 ---- 17.93 / 0.0 ---- 87.42 / 0.0 ---- 95.98 / 0.0\n",
      "5.590077862739563 : 1     100.0 / 1.0 ---- 17.93 / 0.0 ---- 87.42 / 0.0 ---- 95.98 / 0.0\n",
      "6.821305723190307 : 2     100.0 / 2.0 ---- 17.93 / 0.0 ---- 87.42 / 0.0 ---- 95.98 / 0.0\n",
      "7.850012111663817 : 3     100.0 / 3.0 ---- 17.93 / 0.0 ---- 87.42 / 0.0 ---- 95.98 / 0.0\n",
      "8.832404708862306 : 4     100.0 / 4.0 ---- 17.93 / 0.0 ---- 87.42 / 0.0 ---- 95.98 / 0.0\n",
      "9.799595785140992 : 5     100.0 / 5.0 ---- 17.93 / 0.0 ---- 87.42 / 0.0 ---- 95.98 / 0.0\n",
      "10.85278694152832 : 6     100.0 / 6.0 ---- 17.93 / 0.0 ---- 87.42 / 0.0 ---- 95.98 / 0.0\n",
      "12.149410057067874 : 7     100.0 / 7.0 ---- 17.93 / 0.0 ---- 87.42 / 0.0 ---- 95.98 / 0.0\n",
      "13.675243301391603 : 8     100.0 / 8.0 ---- 17.93 / 0.0 ---- 87.42 / 0.0 ---- 95.98 / 0.0\n",
      "15.290825796127319 : 9     100.0 / 9.0 ---- 17.93 / 0.01 ---- 87.42 / 0.0 ---- 95.98 / 0.0\n",
      "17.03084487915039 : 10     100.0 / 10.0 ---- 17.93 / 0.02 ---- 87.42 / 0.0 ---- 95.98 / 0.0\n",
      "18.476698379516606 : 11     100.0 / 11.0 ---- 17.93 / 0.03 ---- 87.42 / 0.0 ---- 95.98 / 0.0\n",
      "19.83044998168945 : 12     100.0 / 12.0 ---- 17.93 / 0.06 ---- 87.42 / 0.0 ---- 95.98 / 0.0\n",
      "21.143903427124027 : 13     100.0 / 13.0 ---- 17.93 / 0.08 ---- 87.42 / 0.0 ---- 95.98 / 0.0\n",
      "22.231307945251466 : 14     100.0 / 14.0 ---- 17.93 / 0.11 ---- 87.42 / 0.0 ---- 95.98 / 0.0\n",
      "23.4928258895874 : 15     100.0 / 15.0 ---- 17.93 / 0.15 ---- 87.42 / 0.0 ---- 95.98 / 0.0\n",
      "24.55601287841797 : 16     100.0 / 16.0 ---- 17.93 / 0.18 ---- 87.42 / 0.0 ---- 95.98 / 0.0\n",
      "25.59290325164795 : 17     100.0 / 17.0 ---- 17.93 / 0.19 ---- 87.42 / 0.0 ---- 95.98 / 0.0\n",
      "26.490735054016113 : 18     100.0 / 18.0 ---- 17.93 / 0.23 ---- 87.42 / 0.0 ---- 95.98 / 0.0\n",
      "27.547833251953126 : 19     100.0 / 19.0 ---- 17.93 / 0.29 ---- 87.42 / 0.0 ---- 95.98 / 0.0\n",
      "28.35222930908204 : 20     100.0 / 20.0 ---- 17.93 / 0.3 ---- 87.42 / 0.0 ---- 95.98 / 0.0\n",
      "29.240999679565427 : 21     100.0 / 21.0 ---- 17.93 / 0.38 ---- 87.42 / 0.01 ---- 95.98 / 0.0\n",
      "30.030118484497073 : 22     100.0 / 22.0 ---- 17.93 / 0.43 ---- 87.42 / 0.01 ---- 95.98 / 0.0\n",
      "30.834868602752685 : 23     100.0 / 23.0 ---- 17.93 / 0.48 ---- 87.42 / 0.01 ---- 95.98 / 0.0\n",
      "31.63492691040039 : 24     100.0 / 24.0 ---- 17.93 / 0.56 ---- 87.42 / 0.02 ---- 95.98 / 0.0\n",
      "32.32963848114014 : 25     100.0 / 25.0 ---- 17.93 / 0.62 ---- 87.42 / 0.02 ---- 95.98 / 0.0\n",
      "33.00166625976563 : 26     100.0 / 26.0 ---- 17.93 / 0.7 ---- 87.42 / 0.03 ---- 95.98 / 0.0\n",
      "33.6236625289917 : 27     100.0 / 27.0 ---- 17.93 / 0.77 ---- 87.42 / 0.03 ---- 95.98 / 0.0\n",
      "34.29763137817383 : 28     100.0 / 28.0 ---- 17.93 / 0.87 ---- 87.42 / 0.04 ---- 95.98 / 0.0\n",
      "34.84793350219726 : 29     100.0 / 29.0 ---- 17.93 / 0.94 ---- 87.42 / 0.05 ---- 95.98 / 0.0\n",
      "35.48540115356445 : 30     100.0 / 30.0 ---- 17.93 / 0.98 ---- 87.42 / 0.06 ---- 95.98 / 0.0\n",
      "36.14663082122803 : 31     100.0 / 31.0 ---- 17.93 / 1.1 ---- 87.42 / 0.07 ---- 95.98 / 0.0\n",
      "36.73556640625 : 32     100.0 / 32.0 ---- 17.93 / 1.16 ---- 87.42 / 0.09 ---- 95.98 / 0.0\n",
      "37.398691482543946 : 33     100.0 / 33.0 ---- 17.93 / 1.24 ---- 87.42 / 0.09 ---- 95.98 / 0.0\n",
      "38.00324165344239 : 34     100.0 / 34.0 ---- 17.93 / 1.36 ---- 87.42 / 0.1 ---- 95.98 / 0.0\n",
      "38.59252471923828 : 35     100.0 / 35.0 ---- 17.93 / 1.48 ---- 87.42 / 0.1 ---- 95.98 / 0.0\n",
      "39.32123535156249 : 36     100.0 / 36.0 ---- 17.93 / 1.56 ---- 87.42 / 0.1 ---- 95.98 / 0.0\n",
      "39.87113830566406 : 37     100.0 / 37.0 ---- 17.93 / 1.59 ---- 87.42 / 0.12 ---- 95.98 / 0.0\n",
      "40.44728759765625 : 38     100.0 / 38.0 ---- 17.93 / 1.68 ---- 87.42 / 0.13 ---- 95.98 / 0.0\n",
      "40.94610439300537 : 39     100.0 / 39.0 ---- 17.93 / 1.77 ---- 87.42 / 0.13 ---- 95.98 / 0.0\n",
      "41.45795898437501 : 40     100.0 / 40.0 ---- 17.93 / 1.9 ---- 87.42 / 0.14 ---- 95.98 / 0.0\n",
      "42.10808654785156 : 41     100.0 / 41.0 ---- 17.93 / 1.99 ---- 87.42 / 0.17 ---- 95.98 / 0.0\n",
      "42.64485092163086 : 42     100.0 / 42.0 ---- 17.93 / 2.07 ---- 87.42 / 0.19 ---- 95.98 / 0.01\n",
      "43.23150569915771 : 43     100.0 / 43.0 ---- 17.93 / 2.28 ---- 87.42 / 0.21 ---- 95.98 / 0.02\n",
      "43.78404327392578 : 44     100.0 / 44.0 ---- 17.93 / 2.32 ---- 87.42 / 0.24 ---- 95.98 / 0.02\n",
      "44.523087882995604 : 45     100.0 / 45.0 ---- 17.93 / 2.5 ---- 87.42 / 0.26 ---- 95.98 / 0.03\n",
      "45.169998245239256 : 46     100.0 / 46.0 ---- 17.93 / 2.58 ---- 87.42 / 0.3 ---- 95.98 / 0.04\n",
      "45.794175186157226 : 47     100.0 / 47.0 ---- 17.93 / 2.75 ---- 87.42 / 0.31 ---- 95.98 / 0.04\n",
      "46.376300201416015 : 48     100.0 / 48.0 ---- 17.93 / 2.84 ---- 87.42 / 0.32 ---- 95.98 / 0.05\n",
      "46.9614974975586 : 49     100.0 / 49.0 ---- 17.93 / 2.95 ---- 87.42 / 0.4 ---- 95.98 / 0.06\n",
      "47.683143615722656 : 50     100.0 / 50.0 ---- 17.93 / 3.05 ---- 87.42 / 0.47 ---- 95.98 / 0.07\n",
      "48.26291088104248 : 51     100.0 / 51.0 ---- 17.93 / 3.15 ---- 87.42 / 0.53 ---- 95.98 / 0.07\n",
      "48.77476379394532 : 52     100.0 / 52.0 ---- 17.93 / 3.31 ---- 87.42 / 0.59 ---- 95.98 / 0.07\n",
      "49.525810546875 : 53     100.0 / 53.0 ---- 17.93 / 3.51 ---- 87.42 / 0.67 ---- 95.98 / 0.13\n",
      "50.15173118591309 : 54     100.0 / 54.0 ---- 17.93 / 3.63 ---- 87.42 / 0.74 ---- 95.98 / 0.14\n",
      "50.72091197967529 : 55     100.0 / 55.0 ---- 17.93 / 3.83 ---- 87.42 / 0.9 ---- 95.98 / 0.16\n",
      "51.412430725097664 : 56     100.0 / 56.0 ---- 17.93 / 4.01 ---- 87.42 / 1.01 ---- 95.98 / 0.19\n",
      "52.035960006713864 : 57     100.0 / 57.0 ---- 17.93 / 4.13 ---- 87.42 / 1.07 ---- 95.98 / 0.25\n",
      "52.70587318420408 : 58     100.0 / 58.0 ---- 17.93 / 4.35 ---- 87.42 / 1.18 ---- 95.98 / 0.3\n",
      "53.35241157531738 : 59     100.0 / 59.0 ---- 17.93 / 4.56 ---- 87.42 / 1.33 ---- 95.98 / 0.35\n",
      "53.97222137451172 : 60     100.0 / 60.0 ---- 17.93 / 4.7 ---- 87.42 / 1.49 ---- 95.98 / 0.4\n",
      "54.65173461914061 : 61     100.0 / 61.0 ---- 17.93 / 4.93 ---- 87.42 / 1.59 ---- 95.98 / 0.47\n",
      "55.21253227233886 : 62     100.0 / 62.0 ---- 17.93 / 5.09 ---- 87.42 / 1.73 ---- 95.98 / 0.52\n",
      "55.881426620483396 : 63     100.0 / 63.0 ---- 17.93 / 5.28 ---- 87.42 / 1.91 ---- 95.98 / 0.6\n",
      "56.473123474121095 : 64     100.0 / 64.0 ---- 17.93 / 5.48 ---- 87.42 / 1.99 ---- 95.98 / 0.61\n",
      "57.096653366088866 : 65     100.0 / 65.0 ---- 17.93 / 5.63 ---- 87.42 / 2.12 ---- 95.98 / 0.69\n",
      "57.86052421569825 : 66     100.0 / 66.0 ---- 17.93 / 5.93 ---- 87.42 / 2.34 ---- 95.98 / 0.83\n",
      "58.61104793548584 : 67     100.0 / 67.0 ---- 17.93 / 6.19 ---- 87.42 / 2.73 ---- 95.98 / 0.94\n",
      "59.345586242675786 : 68     100.0 / 68.0 ---- 17.93 / 6.37 ---- 87.42 / 3.0 ---- 95.98 / 1.04\n",
      "60.2591773223877 : 69     100.0 / 69.0 ---- 17.93 / 6.57 ---- 87.42 / 3.45 ---- 95.98 / 1.19\n",
      "61.15031700134277 : 70     100.0 / 70.0 ---- 17.93 / 6.77 ---- 87.42 / 3.91 ---- 95.98 / 1.36\n",
      "61.9843826675415 : 71     100.0 / 71.0 ---- 17.93 / 6.93 ---- 87.42 / 4.27 ---- 95.98 / 1.5\n",
      "62.80884979248047 : 72     100.0 / 72.0 ---- 17.93 / 7.19 ---- 87.42 / 4.68 ---- 95.98 / 1.67\n",
      "63.6078791809082 : 73     100.0 / 73.0 ---- 17.93 / 7.55 ---- 87.42 / 5.18 ---- 95.98 / 1.94\n",
      "64.26366622924805 : 74     100.0 / 74.0 ---- 17.93 / 7.76 ---- 87.42 / 5.66 ---- 95.98 / 2.16\n",
      "65.07629013061523 : 75     100.0 / 75.0 ---- 17.93 / 7.96 ---- 87.42 / 6.17 ---- 95.98 / 2.39\n",
      "65.72656433105469 : 76     100.0 / 76.0 ---- 17.93 / 8.12 ---- 87.42 / 6.54 ---- 95.98 / 2.54\n",
      "66.75028106689454 : 77     100.0 / 77.0 ---- 17.93 / 8.39 ---- 87.42 / 7.34 ---- 95.98 / 2.9\n",
      "67.81288070678711 : 78     100.0 / 78.0 ---- 17.93 / 8.6 ---- 87.42 / 8.09 ---- 95.98 / 3.16\n",
      "68.62923797607422 : 79     100.0 / 79.0 ---- 17.93 / 8.91 ---- 87.42 / 8.78 ---- 95.98 / 3.51\n",
      "69.46708374023439 : 80     100.0 / 80.0 ---- 17.93 / 9.08 ---- 87.42 / 9.45 ---- 95.98 / 3.91\n",
      "70.65506553649902 : 81     100.0 / 81.0 ---- 17.93 / 9.36 ---- 87.42 / 10.51 ---- 95.98 / 4.4\n",
      "71.88751586914063 : 82     100.0 / 82.0 ---- 17.93 / 9.72 ---- 87.42 / 11.36 ---- 95.98 / 4.83\n",
      "73.0100154876709 : 83     100.0 / 83.0 ---- 17.93 / 10.0 ---- 87.42 / 12.45 ---- 95.98 / 5.36\n",
      "74.42710540771485 : 84     100.0 / 84.0 ---- 17.93 / 10.37 ---- 87.42 / 13.69 ---- 95.98 / 6.1\n",
      "75.63977432250977 : 85     100.0 / 85.0 ---- 17.93 / 10.57 ---- 87.42 / 14.87 ---- 95.98 / 6.78\n",
      "76.81335006713867 : 86     100.0 / 86.0 ---- 17.93 / 10.85 ---- 87.42 / 16.13 ---- 95.98 / 7.49\n",
      "78.08685111999512 : 87     100.0 / 87.0 ---- 17.93 / 11.23 ---- 87.42 / 17.34 ---- 95.98 / 8.33\n",
      "79.55995666503905 : 88     100.0 / 88.0 ---- 17.93 / 11.65 ---- 87.42 / 18.85 ---- 95.98 / 9.38\n",
      "81.1792263031006 : 89     100.0 / 89.0 ---- 17.93 / 12.05 ---- 87.42 / 20.53 ---- 95.98 / 10.6\n",
      "82.77801971435548 : 90     100.0 / 90.0 ---- 17.93 / 12.53 ---- 87.42 / 22.38 ---- 95.98 / 11.67\n",
      "84.19834251403809 : 91     100.0 / 91.0 ---- 17.93 / 12.82 ---- 87.42 / 23.99 ---- 95.98 / 12.99\n",
      "86.40064025878905 : 92     100.0 / 92.0 ---- 17.93 / 13.34 ---- 87.42 / 26.53 ---- 95.98 / 15.15\n"
     ]
    },
    {
     "name": "stdout",
     "output_type": "stream",
     "text": [
      "88.53247528076172 : 93     100.0 / 93.0 ---- 17.93 / 13.74 ---- 87.42 / 29.29 ---- 95.98 / 17.35\n",
      "91.25075576782226 : 94     100.0 / 94.0 ---- 17.93 / 14.38 ---- 87.42 / 32.66 ---- 95.98 / 20.21\n",
      "94.30052337646474 : 95     100.0 / 95.0 ---- 17.93 / 14.91 ---- 87.42 / 36.57 ---- 95.98 / 23.44\n",
      "98.00491394042967 : 96     100.0 / 96.0 ---- 17.93 / 15.4 ---- 87.42 / 41.47 ---- 95.98 / 28.19\n",
      "101.75148056030258 : 97     100.0 / 97.0 ---- 17.93 / 15.94 ---- 87.42 / 46.41 ---- 95.98 / 33.19\n",
      "108.26952377319338 : 98     100.0 / 98.0 ---- 17.93 / 16.62 ---- 87.42 / 53.89 ---- 95.98 / 42.36\n",
      "116.92753837585452 : 99     100.0 / 99.0 ---- 17.93 / 17.1 ---- 87.42 / 62.81 ---- 95.98 / 55.52\n"
     ]
    }
   ],
   "source": [
    "for i in range(0,100):\n",
    "    Attack_Table(Und_L2, i)"
   ]
  },
  {
   "cell_type": "code",
   "execution_count": 27,
   "metadata": {},
   "outputs": [
    {
     "name": "stderr",
     "output_type": "stream",
     "text": [
      "100%|██████████| 40/40 [00:01<00:00, 37.98it/s]\n",
      "100%|██████████| 40/40 [06:35<00:00,  9.88s/it]\n",
      "100%|██████████| 40/40 [00:01<00:00, 37.94it/s]\n",
      "100%|██████████| 40/40 [06:35<00:00,  9.88s/it]\n"
     ]
    }
   ],
   "source": [
    "model_for_adversary = Model_for_Adversary(net)\n",
    "    \n",
    "linf_eps = 0.3\n",
    "fgsm_step = 0.05\n",
    "bim_pgd_step = 0.01\n",
    "\n",
    "adversary_dict = {}\n",
    "adversary_dict['Clean'] = CleanAttack(clip_min=-0.4242, clip_max=2.8215)\n",
    "adversary_dict['PGD'] = LinfPGDAttack(\n",
    "    model_for_adversary, loss_fn=nn.CrossEntropyLoss(reduction=\"sum\"), eps=(linf_eps/0.3081),\n",
    "    nb_iter=1000, eps_iter=(bim_pgd_step/0.3081), rand_init=True, clip_min=-0.4242, clip_max=2.8215,\n",
    "    targeted=True)\n",
    "\n",
    "adversary_dict['FGSM'] = GradientSignAttack(model_for_adversary, loss_fn=nn.CrossEntropyLoss(reduction=\"sum\"), eps=(fgsm_step/0.3081), clip_min=-0.4242, clip_max=2.8215, targeted=True)\n",
    "adversary_dict['BIM'] = LinfBasicIterativeAttack(model_for_adversary, loss_fn=nn.CrossEntropyLoss(reduction=\"sum\"), eps=(linf_eps/0.3081), nb_iter=1000, eps_iter=(bim_pgd_step/0.3081), clip_min=-0.4242, clip_max=2.8215, targeted=True)\n",
    "# adversary_dict['CW'] = CarliniWagnerL2Attack(model_for_adversary, num_classes=args['num_classes'], confidence=0, targeted=False, learning_rate=0.01, binary_search_steps=9, max_iterations=1000, abort_early=True, initial_const=0.001, clip_min=-0.4242, clip_max=2.8215, loss_fn=None)\n",
    "\n",
    "Success_Rate, Undetected_Rate, Und_L2 = WhiteBox_Attacks_Targeted(net, testloader, adversary_dict, args)"
   ]
  },
  {
   "cell_type": "code",
   "execution_count": 28,
   "metadata": {},
   "outputs": [
    {
     "data": {
      "image/png": "[encoded data removed]",
      "text/plain": [
       "<Figure size 432x288 with 1 Axes>"
      ]
     },
     "metadata": {
      "needs_background": "light"
     },
     "output_type": "display_data"
    }
   ],
   "source": [
    "Und_L2_Targeted_plusR = Und_L2\n",
    "for adversary in adversary_dict.keys():\n",
    "    if(adversary!='Clean'):\n",
    "        x = np.linspace(0, 100, 20)\n",
    "        z = np.array([np.sum(Und_L2['Clean']>((i_x/100))*(np.percentile(Und_L2['Clean'],95))).item()/100 for i_x in x])\n",
    "        y = np.array([np.sum(Und_L2[adversary]<=((i_x/100))*(np.percentile(Und_L2['Clean'],95))).item()/100 for i_x in x])\n",
    "        plt.plot(z, y, 'go-', label='line1', linewidth=2)"
   ]
  },
  {
   "cell_type": "code",
   "execution_count": 29,
   "metadata": {},
   "outputs": [
    {
     "name": "stdout",
     "output_type": "stream",
     "text": [
      "2.129915475845337 : 0     100.0 / 0.01 ---- 12.77 / 0.0 ---- 67.43 / 0.0 ---- 63.28 / 0.0\n",
      "5.590077862739563 : 1     100.0 / 1.0 ---- 12.77 / 0.05 ---- 67.43 / 0.0 ---- 63.28 / 0.0\n",
      "6.821305723190307 : 2     100.0 / 2.0 ---- 12.77 / 0.11 ---- 67.43 / 0.0 ---- 63.28 / 0.0\n",
      "7.850012111663817 : 3     100.0 / 3.0 ---- 12.77 / 0.19 ---- 67.43 / 0.0 ---- 63.28 / 0.0\n",
      "8.832404708862306 : 4     100.0 / 4.0 ---- 12.77 / 0.25 ---- 67.43 / 0.0 ---- 63.28 / 0.0\n",
      "9.799595785140992 : 5     100.0 / 5.0 ---- 12.77 / 0.32 ---- 67.43 / 0.0 ---- 63.28 / 0.0\n",
      "10.85278694152832 : 6     100.0 / 6.0 ---- 12.77 / 0.41 ---- 67.43 / 0.0 ---- 63.28 / 0.0\n",
      "12.149410057067874 : 7     100.0 / 7.0 ---- 12.77 / 0.53 ---- 67.43 / 0.0 ---- 63.28 / 0.0\n",
      "13.675243301391603 : 8     100.0 / 8.0 ---- 12.77 / 0.64 ---- 67.43 / 0.0 ---- 63.28 / 0.0\n",
      "15.290825796127319 : 9     100.0 / 9.0 ---- 12.77 / 0.72 ---- 67.43 / 0.01 ---- 63.28 / 0.0\n",
      "17.03084487915039 : 10     100.0 / 10.0 ---- 12.77 / 0.83 ---- 67.43 / 0.01 ---- 63.28 / 0.0\n",
      "18.476698379516606 : 11     100.0 / 11.0 ---- 12.77 / 0.91 ---- 67.43 / 0.02 ---- 63.28 / 0.01\n",
      "19.83044998168945 : 12     100.0 / 12.0 ---- 12.77 / 0.96 ---- 67.43 / 0.03 ---- 63.28 / 0.01\n",
      "21.143903427124027 : 13     100.0 / 13.0 ---- 12.77 / 0.98 ---- 67.43 / 0.07 ---- 63.28 / 0.01\n",
      "22.231307945251466 : 14     100.0 / 14.0 ---- 12.77 / 1.06 ---- 67.43 / 0.11 ---- 63.28 / 0.01\n",
      "23.4928258895874 : 15     100.0 / 15.0 ---- 12.77 / 1.19 ---- 67.43 / 0.16 ---- 63.28 / 0.02\n",
      "24.55601287841797 : 16     100.0 / 16.0 ---- 12.77 / 1.28 ---- 67.43 / 0.19 ---- 63.28 / 0.02\n",
      "25.59290325164795 : 17     100.0 / 17.0 ---- 12.77 / 1.38 ---- 67.43 / 0.22 ---- 63.28 / 0.02\n",
      "26.490735054016113 : 18     100.0 / 18.0 ---- 12.77 / 1.41 ---- 67.43 / 0.3 ---- 63.28 / 0.02\n",
      "27.547833251953126 : 19     100.0 / 19.0 ---- 12.77 / 1.52 ---- 67.43 / 0.33 ---- 63.28 / 0.04\n",
      "28.35222930908204 : 20     100.0 / 20.0 ---- 12.77 / 1.55 ---- 67.43 / 0.38 ---- 63.28 / 0.06\n",
      "29.240999679565427 : 21     100.0 / 21.0 ---- 12.77 / 1.63 ---- 67.43 / 0.45 ---- 63.28 / 0.09\n",
      "30.030118484497073 : 22     100.0 / 22.0 ---- 12.77 / 1.71 ---- 67.43 / 0.47 ---- 63.28 / 0.1\n",
      "30.834868602752685 : 23     100.0 / 23.0 ---- 12.77 / 1.78 ---- 67.43 / 0.58 ---- 63.28 / 0.13\n",
      "31.63492691040039 : 24     100.0 / 24.0 ---- 12.77 / 1.88 ---- 67.43 / 0.65 ---- 63.28 / 0.13\n",
      "32.32963848114014 : 25     100.0 / 25.0 ---- 12.77 / 1.97 ---- 67.43 / 0.69 ---- 63.28 / 0.14\n",
      "33.00166625976563 : 26     100.0 / 26.0 ---- 12.77 / 2.04 ---- 67.43 / 0.75 ---- 63.28 / 0.16\n",
      "33.6236625289917 : 27     100.0 / 27.0 ---- 12.77 / 2.13 ---- 67.43 / 0.82 ---- 63.28 / 0.17\n",
      "34.29763137817383 : 28     100.0 / 28.0 ---- 12.77 / 2.23 ---- 67.43 / 0.87 ---- 63.28 / 0.21\n",
      "34.84793350219726 : 29     100.0 / 29.0 ---- 12.77 / 2.29 ---- 67.43 / 0.92 ---- 63.28 / 0.24\n",
      "35.48540115356445 : 30     100.0 / 30.0 ---- 12.77 / 2.4 ---- 67.43 / 1.0 ---- 63.28 / 0.24\n",
      "36.14663082122803 : 31     100.0 / 31.0 ---- 12.77 / 2.52 ---- 67.43 / 1.05 ---- 63.28 / 0.27\n",
      "36.73556640625 : 32     100.0 / 32.0 ---- 12.77 / 2.6 ---- 67.43 / 1.09 ---- 63.28 / 0.33\n",
      "37.398691482543946 : 33     100.0 / 33.0 ---- 12.77 / 2.69 ---- 67.43 / 1.14 ---- 63.28 / 0.37\n",
      "38.00324165344239 : 34     100.0 / 34.0 ---- 12.77 / 2.76 ---- 67.43 / 1.26 ---- 63.28 / 0.39\n",
      "38.59252471923828 : 35     100.0 / 35.0 ---- 12.77 / 2.83 ---- 67.43 / 1.33 ---- 63.28 / 0.45\n",
      "39.32123535156249 : 36     100.0 / 36.0 ---- 12.77 / 2.95 ---- 67.43 / 1.38 ---- 63.28 / 0.49\n",
      "39.87113830566406 : 37     100.0 / 37.0 ---- 12.77 / 3.03 ---- 67.43 / 1.45 ---- 63.28 / 0.53\n",
      "40.44728759765625 : 38     100.0 / 38.0 ---- 12.77 / 3.15 ---- 67.43 / 1.48 ---- 63.28 / 0.56\n",
      "40.94610439300537 : 39     100.0 / 39.0 ---- 12.77 / 3.22 ---- 67.43 / 1.52 ---- 63.28 / 0.56\n",
      "41.45795898437501 : 40     100.0 / 40.0 ---- 12.77 / 3.33 ---- 67.43 / 1.58 ---- 63.28 / 0.61\n",
      "42.10808654785156 : 41     100.0 / 41.0 ---- 12.77 / 3.43 ---- 67.43 / 1.67 ---- 63.28 / 0.65\n",
      "42.64485092163086 : 42     100.0 / 42.0 ---- 12.77 / 3.55 ---- 67.43 / 1.76 ---- 63.28 / 0.66\n",
      "43.23150569915771 : 43     100.0 / 43.0 ---- 12.77 / 3.64 ---- 67.43 / 1.87 ---- 63.28 / 0.74\n",
      "43.78404327392578 : 44     100.0 / 44.0 ---- 12.77 / 3.69 ---- 67.43 / 1.96 ---- 63.28 / 0.77\n",
      "44.523087882995604 : 45     100.0 / 45.0 ---- 12.77 / 3.87 ---- 67.43 / 2.07 ---- 63.28 / 0.86\n",
      "45.169998245239256 : 46     100.0 / 46.0 ---- 12.77 / 4.01 ---- 67.43 / 2.16 ---- 63.28 / 0.89\n",
      "45.794175186157226 : 47     100.0 / 47.0 ---- 12.77 / 4.13 ---- 67.43 / 2.28 ---- 63.28 / 0.98\n",
      "46.376300201416015 : 48     100.0 / 48.0 ---- 12.77 / 4.25 ---- 67.43 / 2.45 ---- 63.28 / 1.05\n",
      "46.9614974975586 : 49     100.0 / 49.0 ---- 12.77 / 4.3 ---- 67.43 / 2.62 ---- 63.28 / 1.12\n",
      "47.683143615722656 : 50     100.0 / 50.0 ---- 12.77 / 4.36 ---- 67.43 / 2.79 ---- 63.28 / 1.21\n",
      "48.26291088104248 : 51     100.0 / 51.0 ---- 12.77 / 4.5 ---- 67.43 / 3.05 ---- 63.28 / 1.27\n",
      "48.77476379394532 : 52     100.0 / 52.0 ---- 12.77 / 4.54 ---- 67.43 / 3.16 ---- 63.28 / 1.3\n",
      "49.525810546875 : 53     100.0 / 53.0 ---- 12.77 / 4.63 ---- 67.43 / 3.37 ---- 63.28 / 1.38\n",
      "50.15173118591309 : 54     100.0 / 54.0 ---- 12.77 / 4.8 ---- 67.43 / 3.52 ---- 63.28 / 1.5\n",
      "50.72091197967529 : 55     100.0 / 55.0 ---- 12.77 / 4.99 ---- 67.43 / 3.79 ---- 63.28 / 1.57\n",
      "51.412430725097664 : 56     100.0 / 56.0 ---- 12.77 / 5.09 ---- 67.43 / 4.04 ---- 63.28 / 1.67\n",
      "52.035960006713864 : 57     100.0 / 57.0 ---- 12.77 / 5.25 ---- 67.43 / 4.2 ---- 63.28 / 1.85\n",
      "52.70587318420408 : 58     100.0 / 58.0 ---- 12.77 / 5.4 ---- 67.43 / 4.36 ---- 63.28 / 1.98\n",
      "53.35241157531738 : 59     100.0 / 59.0 ---- 12.77 / 5.58 ---- 67.43 / 4.57 ---- 63.28 / 2.15\n",
      "53.97222137451172 : 60     100.0 / 60.0 ---- 12.77 / 5.66 ---- 67.43 / 4.84 ---- 63.28 / 2.28\n",
      "54.65173461914061 : 61     100.0 / 61.0 ---- 12.77 / 5.82 ---- 67.43 / 5.06 ---- 63.28 / 2.49\n",
      "55.21253227233886 : 62     100.0 / 62.0 ---- 12.77 / 5.9 ---- 67.43 / 5.29 ---- 63.28 / 2.7\n",
      "55.881426620483396 : 63     100.0 / 63.0 ---- 12.77 / 6.11 ---- 67.43 / 5.56 ---- 63.28 / 2.93\n",
      "56.473123474121095 : 64     100.0 / 64.0 ---- 12.77 / 6.23 ---- 67.43 / 5.79 ---- 63.28 / 3.09\n",
      "57.096653366088866 : 65     100.0 / 65.0 ---- 12.77 / 6.39 ---- 67.43 / 6.07 ---- 63.28 / 3.19\n",
      "57.86052421569825 : 66     100.0 / 66.0 ---- 12.77 / 6.55 ---- 67.43 / 6.45 ---- 63.28 / 3.44\n",
      "58.61104793548584 : 67     100.0 / 67.0 ---- 12.77 / 6.65 ---- 67.43 / 6.68 ---- 63.28 / 3.56\n",
      "59.345586242675786 : 68     100.0 / 68.0 ---- 12.77 / 6.76 ---- 67.43 / 7.07 ---- 63.28 / 3.84\n",
      "60.2591773223877 : 69     100.0 / 69.0 ---- 12.77 / 6.88 ---- 67.43 / 7.74 ---- 63.28 / 4.16\n",
      "61.15031700134277 : 70     100.0 / 70.0 ---- 12.77 / 7.06 ---- 67.43 / 8.22 ---- 63.28 / 4.43\n",
      "61.9843826675415 : 71     100.0 / 71.0 ---- 12.77 / 7.24 ---- 67.43 / 8.63 ---- 63.28 / 4.76\n",
      "62.80884979248047 : 72     100.0 / 72.0 ---- 12.77 / 7.36 ---- 67.43 / 9.07 ---- 63.28 / 5.12\n",
      "63.6078791809082 : 73     100.0 / 73.0 ---- 12.77 / 7.52 ---- 67.43 / 9.58 ---- 63.28 / 5.41\n",
      "64.26366622924805 : 74     100.0 / 74.0 ---- 12.77 / 7.62 ---- 67.43 / 10.04 ---- 63.28 / 5.64\n",
      "65.07629013061523 : 75     100.0 / 75.0 ---- 12.77 / 7.76 ---- 67.43 / 10.63 ---- 63.28 / 6.07\n",
      "65.72656433105469 : 76     100.0 / 76.0 ---- 12.77 / 7.85 ---- 67.43 / 11.04 ---- 63.28 / 6.39\n",
      "66.75028106689454 : 77     100.0 / 77.0 ---- 12.77 / 8.02 ---- 67.43 / 11.61 ---- 63.28 / 6.85\n",
      "67.81288070678711 : 78     100.0 / 78.0 ---- 12.77 / 8.21 ---- 67.43 / 12.34 ---- 63.28 / 7.48\n",
      "68.62923797607422 : 79     100.0 / 79.0 ---- 12.77 / 8.44 ---- 67.43 / 12.96 ---- 63.28 / 7.93\n",
      "69.46708374023439 : 80     100.0 / 80.0 ---- 12.77 / 8.54 ---- 67.43 / 13.45 ---- 63.28 / 8.37\n",
      "70.65506553649902 : 81     100.0 / 81.0 ---- 12.77 / 8.83 ---- 67.43 / 14.14 ---- 63.28 / 9.14\n",
      "71.88751586914063 : 82     100.0 / 82.0 ---- 12.77 / 9.1 ---- 67.43 / 15.06 ---- 63.28 / 9.8\n",
      "73.0100154876709 : 83     100.0 / 83.0 ---- 12.77 / 9.28 ---- 67.43 / 16.05 ---- 63.28 / 10.49\n",
      "74.42710540771485 : 84     100.0 / 84.0 ---- 12.77 / 9.43 ---- 67.43 / 17.28 ---- 63.28 / 11.42\n",
      "75.63977432250977 : 85     100.0 / 85.0 ---- 12.77 / 9.6 ---- 67.43 / 18.27 ---- 63.28 / 12.12\n",
      "76.81335006713867 : 86     100.0 / 86.0 ---- 12.77 / 9.82 ---- 67.43 / 19.14 ---- 63.28 / 13.0\n",
      "78.08685111999512 : 87     100.0 / 87.0 ---- 12.77 / 10.01 ---- 67.43 / 20.02 ---- 63.28 / 13.76\n",
      "79.55995666503905 : 88     100.0 / 88.0 ---- 12.77 / 10.15 ---- 67.43 / 21.11 ---- 63.28 / 14.81\n",
      "81.1792263031006 : 89     100.0 / 89.0 ---- 12.77 / 10.33 ---- 67.43 / 22.62 ---- 63.28 / 16.01\n",
      "82.77801971435548 : 90     100.0 / 90.0 ---- 12.77 / 10.55 ---- 67.43 / 23.87 ---- 63.28 / 17.21\n",
      "84.19834251403809 : 91     100.0 / 91.0 ---- 12.77 / 10.7 ---- 67.43 / 25.21 ---- 63.28 / 18.31\n",
      "86.40064025878905 : 92     100.0 / 92.0 ---- 12.77 / 10.92 ---- 67.43 / 27.5 ---- 63.28 / 20.49\n",
      "88.53247528076172 : 93     100.0 / 93.0 ---- 12.77 / 11.18 ---- 67.43 / 29.72 ---- 63.28 / 22.38\n",
      "91.25075576782226 : 94     100.0 / 94.0 ---- 12.77 / 11.45 ---- 67.43 / 32.34 ---- 63.28 / 25.07\n",
      "94.30052337646474 : 95     100.0 / 95.0 ---- 12.77 / 11.72 ---- 67.43 / 35.53 ---- 63.28 / 27.89\n",
      "98.00491394042967 : 96     100.0 / 96.0 ---- 12.77 / 11.91 ---- 67.43 / 38.99 ---- 63.28 / 31.75\n",
      "101.75148056030258 : 97     100.0 / 97.0 ---- 12.77 / 12.05 ---- 67.43 / 42.57 ---- 63.28 / 35.19\n",
      "108.26952377319338 : 98     100.0 / 98.0 ---- 12.77 / 12.28 ---- 67.43 / 48.09 ---- 63.28 / 41.47\n",
      "116.92753837585452 : 99     100.0 / 99.0 ---- 12.77 / 12.47 ---- 67.43 / 54.29 ---- 63.28 / 48.3\n"
     ]
    }
   ],
   "source": [
    "for i in range(0,100):\n",
    "    Attack_Table(Und_L2, i)"
   ]
  },
  {
   "cell_type": "code",
   "execution_count": 31,
   "metadata": {},
   "outputs": [],
   "source": [
    "# np.save('Und_L2_Targeted_plusR.npy', Und_L2_Targeted_plusR)\n",
    "# np.save('Und_L2_Untargeted_plusR.npy', Und_L2_Untargeted_plusR)"
   ]
  },
  {
   "cell_type": "code",
   "execution_count": 24,
   "metadata": {},
   "outputs": [
    {
     "data": {
      "image/png": "[encoded data removed]",
      "text/plain": [
       "<Figure size 432x288 with 1 Axes>"
      ]
     },
     "metadata": {
      "needs_background": "light"
     },
     "output_type": "display_data"
    }
   ],
   "source": [
    "\n",
    "def plot_Ud_FPR(adversary, Und_L2_list):\n",
    "    color_list = ['green', 'orange','blue']\n",
    "    model_list = ['CapsNet', 'plusCR', 'plusR']\n",
    "    for i,Und_L2 in enumerate(Und_L2_list):\n",
    "        if(adversary!='Clean'):\n",
    "            x = np.linspace(0, 100, 50)\n",
    "#             z = np.array([((1 - i_x/100))*(np.percentile(Und_L2['Clean'],95)*2).item() for i_x in x])\n",
    "#             z = np.array([np.sum(Und_L2['Clean']>((i_x/100))*(np.percentile(Und_L2['Clean'],100))).item()/100 for i_x in x])\n",
    "#             y = np.array([np.sum(Und_L2[adversary]<=((i_x/100))*(np.percentile(Und_L2['Clean'],100))).item()/100 for i_x in x])\n",
    "            z = np.array([np.sum(Und_L2['Clean']>((i_x/100))*(80)).item()/100 for i_x in x])\n",
    "            y = np.array([np.sum(Und_L2[adversary]<=((i_x/100))*(80)).item()/100 for i_x in x])\n",
    "            plt.plot(z, y,color=color_list[i], linestyle='-', marker='o', label=model_list[i], linewidth=1)\n",
    "            \n",
    "plot_Ud_FPR('PGD',[Und_L2_Targeted_Capsnet,Und_L2_Targeted_plusCR,Und_L2_Targeted_plusR])"
   ]
  },
  {
   "cell_type": "code",
   "execution_count": 25,
   "metadata": {},
   "outputs": [
    {
     "data": {
      "image/png": "[encoded data removed]",
      "text/plain": [
       "<Figure size 432x288 with 1 Axes>"
      ]
     },
     "metadata": {
      "needs_background": "light"
     },
     "output_type": "display_data"
    }
   ],
   "source": [
    "plot_Ud_FPR('BIM',[Und_L2_Targeted_Capsnet,Und_L2_Targeted_plusCR,Und_L2_Targeted_plusR])"
   ]
  },
  {
   "cell_type": "code",
   "execution_count": 26,
   "metadata": {},
   "outputs": [
    {
     "data": {
      "image/png": "[encoded data removed]",
      "text/plain": [
       "<Figure size 432x288 with 1 Axes>"
      ]
     },
     "metadata": {
      "needs_background": "light"
     },
     "output_type": "display_data"
    }
   ],
   "source": [
    "plot_Ud_FPR('FGSM',[Und_L2_Targeted_Capsnet,Und_L2_Targeted_plusCR,Und_L2_Targeted_plusR])"
   ]
  },
  {
   "cell_type": "code",
   "execution_count": 31,
   "metadata": {},
   "outputs": [],
   "source": [
    "Und_L2_Targeted_Capsnet = np.load('Und_L2_Targeted_Capsnet.npy', allow_pickle=True).item()\n",
    "Und_L2_Untargeted_Capsnet = np.load('Und_L2_Untargeted_Capsnet.npy', allow_pickle=True).item()\n",
    "\n",
    "# Und_L2_Targeted_plusCR = np.load('Und_L2_Targeted_plusCR.npy', allow_pickle=True).item()\n",
    "# Und_L2_Untargeted_plusCR = np.load('Und_L2_Untargeted_plusCR.npy', allow_pickle=True).item()\n",
    "\n",
    "# Und_L2_Targeted_plusR = np.load('Und_L2_Targeted_plusR.npy', allow_pickle=True).item()\n",
    "# Und_L2_Untargeted_plusR = np.load('Und_L2_Untargeted_plusR.npy', allow_pickle=True).item()\n"
   ]
  },
  {
   "cell_type": "code",
   "execution_count": 32,
   "metadata": {},
   "outputs": [
    {
     "name": "stdout",
     "output_type": "stream",
     "text": [
      "Percentile : 95\n",
      "Networks    FGSM        BIM         PGD\n",
      "----------  ----------  ----------  ----------\n",
      "CapsNet     7.67/3.7    99.9/0.0    99.88/0.0\n",
      "CNN+CR      17.31/1.63  82.47/0.11  95.49/0.01\n",
      "CNN+R       17.93/2.3   87.42/0.21  95.98/0.02\n"
     ]
    }
   ],
   "source": [
    "from tabulate import tabulate\n",
    "\n",
    "def Print_Table(Und_L2_dict, percentile=95, theta=None):\n",
    "    print('Percentile :', percentile)\n",
    "    table = []\n",
    "    for network in Und_L2_dict.keys():\n",
    "        if theta is None:\n",
    "            theta = np.percentile(Und_L2_dict[network]['Clean'], percentile)\n",
    "        else:\n",
    "            theta = theta\n",
    "        Success_Rate = {key:0.0 for key in Und_L2_dict[network].keys()}\n",
    "        Undetected_Rate = {key:0.0 for key in Und_L2_dict[network].keys()}\n",
    "        for adversary in Und_L2_dict[network].keys():\n",
    "            Success_Rate[adversary] = Und_L2_dict[network][adversary].shape[0]/ 100\n",
    "            Undetected_Rate[adversary] = np.sum(Und_L2_dict[network][adversary]<=theta).item()/100\n",
    "        table.append([network, str(Success_Rate['FGSM'])+\"/\"+str(Undetected_Rate['FGSM']),str(Success_Rate['BIM'])+\"/\"+str(Undetected_Rate['BIM']),str(Success_Rate['PGD'])+\"/\"+str(Undetected_Rate['PGD'])])\n",
    "    print(tabulate(table, headers=['Networks', 'FGSM', 'BIM', 'PGD']))\n",
    "\n",
    "Und_L2_dict = {'CapsNet':Und_L2_Untargeted_Capsnet, 'CNN+CR':Und_L2_Untargeted_plusCR, 'CNN+R':Und_L2_Untargeted_plusR}\n",
    "Print_Table(Und_L2_dict)"
   ]
  },
  {
   "cell_type": "code",
   "execution_count": 33,
   "metadata": {},
   "outputs": [
    {
     "name": "stdout",
     "output_type": "stream",
     "text": [
      "Percentile : 95\n",
      "Networks    FGSM         BIM         PGD\n",
      "----------  -----------  ----------  ----------\n",
      "CapsNet     11.38/10.02  99.98/0.83  100.0/0.64\n",
      "CNN+CR      12.86/4.11   81.42/1.27  79.28/0.41\n",
      "CNN+R       12.77/3.68   67.43/1.89  63.28/0.77\n"
     ]
    }
   ],
   "source": [
    "Und_L2_dict = {'CapsNet':Und_L2_Targeted_Capsnet, 'CNN+CR':Und_L2_Targeted_plusCR, 'CNN+R':Und_L2_Targeted_plusR}\n",
    "Print_Table(Und_L2_dict)"
   ]
  },
  {
   "cell_type": "code",
   "execution_count": 6,
   "metadata": {},
   "outputs": [
    {
     "name": "stdout",
     "output_type": "stream",
     "text": [
      "Percentile : 95\n",
      "Networks    FGSM        BIM         PGD\n",
      "----------  ----------  ----------  ----------\n",
      "CapsNet     76.63/0.07  99.9/0.01   99.94/0.0\n",
      "CNN+CR      17.31/1.83  82.47/0.13  95.47/0.03\n",
      "CNN+R       17.93/2.56  87.42/0.29  95.74/0.02\n"
     ]
    }
   ],
   "source": [
    "Und_L2_dict = {'CapsNet':Und_L2_Untargeted_Capsnet, 'CNN+CR':Und_L2_Untargeted_plusCR, 'CNN+R':Und_L2_Untargeted_plusR}\n",
    "Print_Table(Und_L2_dict, theta=45)"
   ]
  },
  {
   "cell_type": "code",
   "execution_count": 7,
   "metadata": {},
   "outputs": [
    {
     "name": "stdout",
     "output_type": "stream",
     "text": [
      "Percentile : 95\n",
      "Networks    FGSM        BIM         PGD\n",
      "----------  ----------  ----------  ----------\n",
      "CapsNet     22.54/0.11  99.98/0.91  100.0/0.75\n",
      "CNN+CR      12.86/4.43  81.42/1.41  79.11/0.36\n",
      "CNN+R       12.77/3.96  67.45/2.12  63.05/0.78\n"
     ]
    }
   ],
   "source": [
    "Und_L2_dict = {'CapsNet':Und_L2_Targeted_Capsnet, 'CNN+CR':Und_L2_Targeted_plusCR, 'CNN+R':Und_L2_Targeted_plusR}\n",
    "Print_Table(Und_L2_dict, theta=45)"
   ]
  },
  {
   "cell_type": "code",
   "execution_count": null,
   "metadata": {},
   "outputs": [],
   "source": []
  }
 ],
 "metadata": {
  "kernelspec": {
   "display_name": "Python 3",
   "language": "python",
   "name": "python3"
  },
  "language_info": {
   "codemirror_mode": {
    "name": "ipython",
    "version": 3
   },
   "file_extension": ".py",
   "mimetype": "text/x-python",
   "name": "python",
   "nbconvert_exporter": "python",
   "pygments_lexer": "ipython3",
   "version": "3.7.6"
  }
 },
 "nbformat": 4,
 "nbformat_minor": 4
}
