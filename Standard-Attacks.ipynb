{
 "cells": [
  {
   "cell_type": "code",
   "execution_count": 1,
   "metadata": {},
   "outputs": [],
   "source": [
    "import torch\n",
    "import numpy as np\n",
    "import torch\n",
    "import torch.nn as nn\n",
    "import torch.nn.functional as F\n",
    "from tqdm import tqdm\n",
    "import os\n",
    "import seaborn as sns\n",
    "\n",
    "import sys\n",
    "sys.path.insert(0,'/home/gsoc0/Adversarial_CapsNet_Pytorch/')\n",
    "from model.net import *\n",
    "from model.cnn_net import *\n",
    "from utils.training import *\n",
    "from data.data import *"
   ]
  },
  {
   "cell_type": "markdown",
   "metadata": {},
   "source": [
    "## Experiment Config"
   ]
  },
  {
   "cell_type": "code",
   "execution_count": 2,
   "metadata": {},
   "outputs": [],
   "source": [
    "model_path = os.path.join(os.getcwd(), \"weights\")\n",
    "\n",
    "args = {\n",
    "    'DATASET_NAME':'mnist',\n",
    "    'num_classes':10,\n",
    "    \n",
    "    'USE_CUDA': True if torch.cuda.is_available() else False,\n",
    "    'BATCH_SIZE': 512,\n",
    "#     'N_EPOCHS': 100,\n",
    "#     'LEARNING_RATE_1': 1e-2,\n",
    "#     'LEARNING_RATE_2': 1e-2,\n",
    "#     'WEIGHTDECAY':5e-6,\n",
    "#     #Scheduler\n",
    "#     'USE_SCHEDULER':True,\n",
    "#     'sched_milestones':[14,25,30,40,50],\n",
    "#     'sched_gamma':0.1,\n",
    "    \n",
    "#     #Loss Function\n",
    "#     'LAMBDA_recon': 0.5,\n",
    "#     'LAMBDA_class': 1,\n",
    "    \n",
    "    ##For Decoder\n",
    "    'num_features':160,\n",
    "    'LReLU_negative_slope':0.1,\n",
    "    'input_height':28,\n",
    "    'input_width':28,\n",
    "    'input_channel':1,\n",
    "    'type':'plusR',\n",
    "    \n",
    "}\n",
    "\n",
    "#Setting Default Cuda Device\n",
    "torch.cuda.set_device(2)"
   ]
  },
  {
   "cell_type": "markdown",
   "metadata": {},
   "source": [
    "## Model Loading"
   ]
  },
  {
   "cell_type": "code",
   "execution_count": 3,
   "metadata": {},
   "outputs": [],
   "source": [
    "#Modified Reconstructor\n",
    "\n",
    "class Reconstructor(nn.Module):\n",
    "    def __init__(self, net, args):\n",
    "        super(Reconstructor, self).__init__()\n",
    "        self.args = args\n",
    "        self.reconstraction_layers = net.decoder.reconstraction_layers\n",
    "        self.mean = torch.tensor(0.1307)\n",
    "        self.std = torch.tensor(0.3081)\n",
    "        if(args['USE_CUDA']):\n",
    "            self.mean = self.mean.cuda()\n",
    "            self.std = self.std.cuda()\n",
    "        self.unnormalize = UnNormalize(self.mean, self.std)\n",
    "        \n",
    "    def forward(self, x, data):\n",
    "        with torch.no_grad():\n",
    "            classes = torch.sqrt((x ** 2).sum(2))\n",
    "            classes = F.softmax(classes.squeeze(), dim=1)\n",
    "            _, max_length_indices = classes.max(dim=1)\n",
    "            eye = torch.sparse.torch.eye(10)\n",
    "            if USE_CUDA:\n",
    "                eye = eye.cuda()\n",
    "            reconstructions_of_digits = []\n",
    "            list_of_indices = [max_length_indices]\n",
    "            for i, index_list in enumerate(list_of_indices):\n",
    "                masked = eye.index_select(dim=0, index=index_list.squeeze().data)\n",
    "                reconstructions_of_digits.append(self.reconstraction_layers((x * masked[:, :, None, None]).view(x.size(0), 1, -1)))\n",
    "\n",
    "            reconstructions_of_digits = torch.cat(reconstructions_of_digits, dim=1) \n",
    "            expanded_data = data.view(x.size(0), 1, -1).expand(-1, len(list_of_indices), -1)\n",
    "            unnormalized_data = self.unnormalize(expanded_data)\n",
    "            l2_distances = torch.square((unnormalized_data - reconstructions_of_digits)).sum(dim=(list(range(0, len(expanded_data.shape)))[2:]))\n",
    "            return l2_distances\n",
    "    \n",
    "    def class_conditional_recon(self, x, data):\n",
    "        with torch.no_grad():\n",
    "            classes = torch.sqrt((x ** 2).sum(2))\n",
    "            classes = F.softmax(classes.squeeze(), dim=1)\n",
    "            _, max_length_indices = classes.max(dim=1)\n",
    "            eye = torch.sparse.torch.eye(10)\n",
    "            if USE_CUDA:\n",
    "                eye = eye.cuda()\n",
    "            reconstructions_of_digits = []\n",
    "            list_of_indices = [max_length_indices]\n",
    "            for i, index_list in enumerate(list_of_indices):\n",
    "                masked = eye.index_select(dim=0, index=index_list.squeeze().data)\n",
    "                reconstructions_of_digits.append(self.reconstraction_layers((x * masked[:, :, None, None]).view(x.size(0), 1, -1)))\n",
    "\n",
    "            reconstructions_of_digits = torch.cat(reconstructions_of_digits, dim=1)\n",
    "            expanded_data = data.view(x.size(0), 1, -1).expand(-1, len(list_of_indices), -1)\n",
    "            unnormalized_data = self.unnormalize(expanded_data)\n",
    "            l2_distances = torch.square((unnormalized_data - reconstructions_of_digits)).sum(dim=(list(range(0, len(expanded_data.shape)))[2:]))\n",
    "            return l2_distances\n",
    "    \n",
    "def imshow(img):\n",
    "#     img = img * 0.3081 + 0.1307     # unnormalize\n",
    "    npimg = img.cpu().numpy()\n",
    "#     plt.imshow(np.transpose(npimg)#, (1, 2, 0)))\n",
    "    plt.imshow(npimg)\n",
    "    plt.show()"
   ]
  },
  {
   "cell_type": "code",
   "execution_count": 4,
   "metadata": {},
   "outputs": [
    {
     "data": {
      "text/plain": [
       "<All keys matched successfully>"
      ]
     },
     "execution_count": 4,
     "metadata": {},
     "output_type": "execute_result"
    }
   ],
   "source": [
    "class Config:\n",
    "    def __init__(self, dataset='mnist'):\n",
    "        # CNN (cnn)\n",
    "        self.cnn_in_channels = 1\n",
    "        self.cnn_out_channels = 12\n",
    "        self.cnn_kernel_size = 15\n",
    "\n",
    "        # Primary Capsule (pc)\n",
    "        self.pc_num_capsules = 1\n",
    "        self.pc_in_channels = 12\n",
    "        self.pc_out_channels = 16\n",
    "        self.pc_kernel_size = 8\n",
    "        self.pc_num_routes = 7 * 7\n",
    "\n",
    "        # Digit Capsule 1 (dc)\n",
    "        self.dc_num_capsules = 49\n",
    "        self.dc_num_routes = 7 * 7\n",
    "        self.dc_in_channels = 16\n",
    "        self.dc_out_channels = 16 #1\n",
    "        \n",
    "        # Digit Capsule 2 (dc)\n",
    "        self.dc_2_num_capsules = 10\n",
    "        self.dc_2_num_routes = 7 * 7\n",
    "        self.dc_2_in_channels = 16 #1\n",
    "        self.dc_2_out_channels = 16\n",
    "\n",
    "        # Decoder\n",
    "        self.input_width = 28\n",
    "        self.input_height = 28\n",
    "torch.manual_seed(1)\n",
    "config = Config()\n",
    "\n",
    "net = CapsNet(args, config)\n",
    "# capsule_net = torch.nn.DataParallel(capsule_net)\n",
    "if args['USE_CUDA']:\n",
    "    net = net.cuda()\n",
    "    \n",
    "net.load_state_dict(torch.load(os.path.join(model_path, 'CapsNet_mnist.pth'), map_location='cpu'))"
   ]
  },
  {
   "cell_type": "markdown",
   "metadata": {},
   "source": [
    "## Loading Dataset"
   ]
  },
  {
   "cell_type": "code",
   "execution_count": 5,
   "metadata": {},
   "outputs": [
    {
     "name": "stdout",
     "output_type": "stream",
     "text": [
      "tensor(-0.4242)\n",
      "tensor(2.8215)\n"
     ]
    }
   ],
   "source": [
    "trainloader, testloader = dataset(args)\n",
    "for data in trainloader:\n",
    "    print(data[0][0].min())\n",
    "    print(data[0][0].max())\n",
    "    break"
   ]
  },
  {
   "cell_type": "markdown",
   "metadata": {},
   "source": [
    "##  Untargeted WhiteBox Attack for CapsuleNet"
   ]
  },
  {
   "cell_type": "code",
   "execution_count": 6,
   "metadata": {},
   "outputs": [
    {
     "data": {
      "text/plain": [
       "tensor([1, 2, 3], dtype=torch.int16)"
      ]
     },
     "execution_count": 6,
     "metadata": {},
     "output_type": "execute_result"
    }
   ],
   "source": [
    "a = torch.tensor([], dtype=torch.int16)\n",
    "b = torch.tensor([1,2,3], dtype=torch.int16)\n",
    "torch.cat((a,b))"
   ]
  },
  {
   "cell_type": "code",
   "execution_count": 7,
   "metadata": {},
   "outputs": [],
   "source": [
    "import matplotlib.pyplot as plt\n",
    "from advertorch.attacks import LinfPGDAttack, GradientSignAttack, CarliniWagnerL2Attack, LinfBasicIterativeAttack\n",
    "\n",
    "class Model_for_Adversary(nn.Module):\n",
    "    def __init__(self, net):\n",
    "        super(Model_for_Adversary, self).__init__()\n",
    "        self.net = net\n",
    "        \n",
    "    def forward(self, x):\n",
    "        output, recons, masked = self.net(x)\n",
    "        classes = torch.sqrt((output ** 2).sum(2)).squeeze()\n",
    "        return classes\n",
    "    \n",
    "def WhiteBox_Attacks_Targeted(net, dataloader, adversary_dict, args):\n",
    "    net.eval()\n",
    "    n_batch = len(dataloader)\n",
    "    Success_Rate = {key:0.0 for key in adversary_dict.keys()}\n",
    "    Undetected_Rate = {key:0.0 for key in adversary_dict.keys()}\n",
    "    Und_l2 = {key:torch.tensor([],dtype=torch.int16).cuda() for key in adversary_dict.keys()}\n",
    "    for adversary in adversary_dict.keys():\n",
    "        for batch_id, (data, labels) in enumerate(tqdm(dataloader)):\n",
    "            target = torch.randint(0,10,size=(labels.size(0),), dtype=labels.dtype).cuda()\n",
    "            if(args['USE_CUDA']):\n",
    "                data, labels = data.cuda(), labels.cuda()\n",
    "\n",
    "            adv_data = adversary_dict[adversary].perturb(data, target)\n",
    "            with torch.no_grad():\n",
    "                output, reconstructions, max_length_indices = net(adv_data)\n",
    "                unnormalized_data = net.decoder.unnormalize(adv_data)\n",
    "                l2_distances = ((reconstructions.view(adv_data.size(0),-1)-unnormalized_data.view(adv_data.size(0), -1))**2).sum(1).squeeze().detach()\n",
    "                theta = np.percentile(l2_distances.cpu().numpy(), 95)\n",
    "                Und_l2[adversary] = torch.cat((Und_l2[adversary],l2_distances[max_length_indices == target]))\n",
    "                Success_Rate[adversary]+=torch.sum(max_length_indices == target).item()\n",
    "                Undetected_Rate[adversary]+=torch.sum(l2_distances[max_length_indices == target]<=theta).item()\n",
    "        \n",
    "        Und_l2[adversary] = Und_l2[adversary].cpu().numpy()\n",
    "        Success_Rate[adversary]/=100\n",
    "        Undetected_Rate[adversary]/=100\n",
    "    return Success_Rate, Undetected_Rate, Und_l2\n",
    "\n",
    "def WhiteBox_Attacks_Untargeted(net, dataloader, adversary_dict, args):\n",
    "    net.eval()\n",
    "    n_batch = len(dataloader)\n",
    "    Success_Rate = {key:0.0 for key in adversary_dict.keys()}\n",
    "    Undetected_Rate = {key:0.0 for key in adversary_dict.keys()}\n",
    "    Und_l2 = {key:torch.tensor([],dtype=torch.int16).cuda() for key in adversary_dict.keys()}\n",
    "    for adversary in adversary_dict.keys():\n",
    "        for batch_id, (data, labels) in enumerate(tqdm(dataloader)):\n",
    "            if(args['USE_CUDA']):\n",
    "                data, labels = data.cuda(), labels.cuda()\n",
    "\n",
    "            adv_data = adversary_dict[adversary].perturb(data)\n",
    "            with torch.no_grad():\n",
    "                output, reconstructions, max_length_indices = net(adv_data)\n",
    "                unnormalized_data = net.decoder.unnormalize(adv_data)\n",
    "                l2_distances = ((reconstructions.view(adv_data.size(0),-1)-unnormalized_data.view(adv_data.size(0), -1))**2).sum(1).squeeze().detach()\n",
    "                theta = np.percentile(l2_distances.cpu().numpy(), 95)\n",
    "                Und_l2[adversary] = torch.cat((Und_l2[adversary],l2_distances[max_length_indices != labels]))\n",
    "                Success_Rate[adversary]+=torch.sum(max_length_indices != labels).item()\n",
    "                Undetected_Rate[adversary]+=torch.sum(l2_distances[max_length_indices!=labels]<=theta).item()\n",
    "#                 print(Success_Rate[adversary])\n",
    "#                 print(Undetected_Rate[adversary])\n",
    "#                 print(theta)\n",
    "        Und_l2[adversary] = Und_l2[adversary].cpu().numpy() \n",
    "        Success_Rate[adversary]/=100\n",
    "        Undetected_Rate[adversary]/=100\n",
    "    return Success_Rate, Undetected_Rate, Und_l2"
   ]
  },
  {
   "cell_type": "code",
   "execution_count": 8,
   "metadata": {},
   "outputs": [
    {
     "name": "stderr",
     "output_type": "stream",
     "text": [
      "100%|██████████| 20/20 [36:20<00:00, 109.05s/it]\n",
      "100%|██████████| 20/20 [00:28<00:00,  1.41s/it]\n",
      "100%|██████████| 20/20 [36:31<00:00, 109.55s/it]\n"
     ]
    }
   ],
   "source": [
    "model_for_adversary = Model_for_Adversary(net)\n",
    "    \n",
    "adversary_dict = {}\n",
    "adversary_dict['PGD'] = LinfPGDAttack(\n",
    "    model_for_adversary, loss_fn=nn.CrossEntropyLoss(reduction=\"sum\"), eps=0.3,\n",
    "    nb_iter=100, eps_iter=0.01, rand_init=True, clip_min=-0.4242, clip_max=2.8215,\n",
    "    targeted=False)\n",
    "\n",
    "adversary_dict['FGSM'] = GradientSignAttack(model_for_adversary, loss_fn=nn.CrossEntropyLoss(reduction=\"sum\"), eps=0.3, clip_min=-0.4242, clip_max=2.8215, targeted=False)\n",
    "adversary_dict['BIM'] = LinfBasicIterativeAttack(model_for_adversary, loss_fn=nn.CrossEntropyLoss(reduction=\"sum\"), eps=0.05, nb_iter=100, eps_iter=0.01, clip_min=-0.4242, clip_max=2.8215, targeted=False)\n",
    "# adversary_dict['CW'] = CarliniWagnerL2Attack(model_for_adversary, num_classes=args['num_classes'], confidence=0, targeted=False, learning_rate=0.01, binary_search_steps=9, max_iterations=1000, abort_early=True, initial_const=0.001, clip_min=-0.4242, clip_max=2.8215, loss_fn=None)\n",
    "\n",
    "Success_Rate, Undetected_Rate, Und_L2 = WhiteBox_Attacks_Untargeted(net, testloader, adversary_dict, args)"
   ]
  },
  {
   "cell_type": "code",
   "execution_count": 39,
   "metadata": {},
   "outputs": [
    {
     "name": "stdout",
     "output_type": "stream",
     "text": [
      "(20,)\n",
      "(8896,)\n",
      "(20,)\n",
      "(2598,)\n",
      "(20,)\n",
      "(161,)\n"
     ]
    },
    {
     "data": {
      "image/png": "[encoded data removed]",
      "text/plain": [
       "<Figure size 432x288 with 1 Axes>"
      ]
     },
     "metadata": {},
     "output_type": "display_data"
    }
   ],
   "source": [
    "\n",
    "for adversary in adversary_dict.keys():\n",
    "    x = np.linspace(0, 100, 20)\n",
    "    y = np.array([np.sum(Und_L2[adversary]<=(1-(i_x/100))*(Und_L2[adversary].max())).item()/100 for i_x in x])\n",
    "    print(y.shape)\n",
    "    print(Und_L2[adversary].shape)\n",
    "    plt.plot(x, y, 'go-', label='line1', linewidth=2)\n",
    "# for i in x:\n",
    "#     print(i)"
   ]
  },
  {
   "cell_type": "code",
   "execution_count": 8,
   "metadata": {},
   "outputs": [
    {
     "name": "stdout",
     "output_type": "stream",
     "text": [
      "{'PGD': 0.8828, 'FGSM': 0.2664, 'BIM': 0.02}\n",
      "{'PGD': 0.8328, 'FGSM': 0.2223, 'BIM': 0.0128}\n"
     ]
    }
   ],
   "source": [
    "print(Success_Rate)\n",
    "print(Undetected_Rate)"
   ]
  },
  {
   "cell_type": "code",
   "execution_count": 8,
   "metadata": {},
   "outputs": [
    {
     "name": "stdout",
     "output_type": "stream",
     "text": [
      "{'PGD': 0.9488, 'FGSM': 0.2664, 'BIM': 0.02}\n",
      "{'PGD': 0.8984, 'FGSM': 0.2223, 'BIM': 0.0128}\n"
     ]
    }
   ],
   "source": [
    "print(Success_Rate)\n",
    "print(Undetected_Rate)"
   ]
  },
  {
   "cell_type": "code",
   "execution_count": 10,
   "metadata": {},
   "outputs": [
    {
     "name": "stdout",
     "output_type": "stream",
     "text": [
      "{'PGD': 0.1409, 'FGSM': 0.2664, 'BIM': 0.02}\n",
      "{'PGD': 0.1048, 'FGSM': 0.2223, 'BIM': 0.0128}\n"
     ]
    }
   ],
   "source": [
    "print(Success_Rate)\n",
    "print(Undetected_Rate)\n"
   ]
  },
  {
   "cell_type": "code",
   "execution_count": 40,
   "metadata": {},
   "outputs": [
    {
     "name": "stderr",
     "output_type": "stream",
     "text": [
      "100%|██████████| 20/20 [36:07<00:00, 108.36s/it]\n",
      "100%|██████████| 20/20 [00:25<00:00,  1.26s/it]\n",
      "100%|██████████| 20/20 [36:28<00:00, 109.41s/it]\n"
     ]
    }
   ],
   "source": [
    "model_for_adversary = Model_for_Adversary(net)\n",
    "    \n",
    "adversary_dict = {}\n",
    "adversary_dict['PGD'] = LinfPGDAttack(\n",
    "    model_for_adversary, loss_fn=nn.CrossEntropyLoss(reduction=\"sum\"), eps=0.3,\n",
    "    nb_iter=100, eps_iter=0.01, rand_init=True, clip_min=-0.4242, clip_max=2.8215,\n",
    "    targeted=True)\n",
    "\n",
    "adversary_dict['FGSM'] = GradientSignAttack(model_for_adversary, loss_fn=nn.CrossEntropyLoss(reduction=\"sum\"), eps=0.3, clip_min=-0.4242, clip_max=2.8215, targeted=True)\n",
    "adversary_dict['BIM'] = LinfBasicIterativeAttack(model_for_adversary, loss_fn=nn.CrossEntropyLoss(reduction=\"sum\"), eps=0.05, nb_iter=100, eps_iter=0.01, clip_min=-0.4242, clip_max=2.8215, targeted=True)\n",
    "# adversary_dict['CW'] = CarliniWagnerL2Attack(model_for_adversary, num_classes=args['num_classes'], confidence=0, targeted=False, learning_rate=0.01, binary_search_steps=9, max_iterations=1000, abort_early=True, initial_const=0.001, clip_min=-0.4242, clip_max=2.8215, loss_fn=None)\n",
    "\n",
    "Success_Rate, Undetected_Rate, Und_L2 = WhiteBox_Attacks_Targeted(net, testloader, adversary_dict, args)"
   ]
  },
  {
   "cell_type": "code",
   "execution_count": 41,
   "metadata": {},
   "outputs": [
    {
     "name": "stdout",
     "output_type": "stream",
     "text": [
      "(20,)\n",
      "(3874,)\n",
      "(20,)\n",
      "(1409,)\n",
      "(20,)\n",
      "(977,)\n"
     ]
    },
    {
     "data": {
      "image/png": "[encoded data removed]",
      "text/plain": [
       "<Figure size 432x288 with 1 Axes>"
      ]
     },
     "metadata": {},
     "output_type": "display_data"
    }
   ],
   "source": [
    "\n",
    "for adversary in adversary_dict.keys():\n",
    "    x = np.linspace(0, 100, 20)\n",
    "    y = np.array([np.sum(Und_L2[adversary]<=(1-(i_x/100))*(Und_L2[adversary].max())).item()/100 for i_x in x])\n",
    "    print(y.shape)\n",
    "    print(Und_L2[adversary].shape)\n",
    "    plt.plot(x, y, 'go-', label='line1', linewidth=2)\n",
    "# for i in x:\n",
    "#     print(i)"
   ]
  },
  {
   "cell_type": "code",
   "execution_count": 8,
   "metadata": {},
   "outputs": [
    {
     "name": "stdout",
     "output_type": "stream",
     "text": [
      "{'PGD': 32.26, 'FGSM': 21.36, 'BIM': 0.99}\n",
      "{'PGD': 27.19, 'FGSM': 17.13, 'BIM': 0.59}\n"
     ]
    }
   ],
   "source": [
    "print(Success_Rate)\n",
    "print(Undetected_Rate)\n"
   ]
  },
  {
   "cell_type": "markdown",
   "metadata": {},
   "source": [
    "## Histograms for CNN + CR"
   ]
  },
  {
   "cell_type": "code",
   "execution_count": 7,
   "metadata": {},
   "outputs": [],
   "source": [
    "args = {\n",
    "    'DATASET_NAME':'mnist',\n",
    "    'num_classes':10,\n",
    "    \n",
    "    'USE_CUDA': True if torch.cuda.is_available() else False,\n",
    "    'BATCH_SIZE': 256,\n",
    "    'N_EPOCHS': 100,\n",
    "    'LEARNING_RATE_1': 1e-2,\n",
    "    'LEARNING_RATE_2': 1e-2,\n",
    "    'WEIGHTDECAY':5e-6,\n",
    "    \n",
    "    #Scheduler\n",
    "    'USE_SCHEDULER':True,\n",
    "    'sched_milestones':[8,20,30,40,50],\n",
    "    'sched_gamma':0.1,\n",
    "    \n",
    "    #Loss Function\n",
    "    'LAMBDA_recon': 0.5,\n",
    "    'LAMBDA_class': 1,\n",
    "    \n",
    "    #For Decoder\n",
    "    'num_features':160,\n",
    "    'LReLU_negative_slope':0.1,\n",
    "    'input_height':28,\n",
    "    'input_width':28,\n",
    "    'input_channel':1,\n",
    "    'type':'plusCR',\n",
    "    \n",
    "}"
   ]
  },
  {
   "cell_type": "code",
   "execution_count": 8,
   "metadata": {},
   "outputs": [],
   "source": [
    "class Config:\n",
    "    def __init__(self, dataset='mnist'):\n",
    "        # CONV1\n",
    "        self.conv1_in = 1\n",
    "        self.conv1_out = 12\n",
    "        self.conv1_kernel_size = 15\n",
    "\n",
    "        # CONV2\n",
    "        self.conv2_in = 12\n",
    "        self.conv2_out = 16\n",
    "        self.conv2_kernel_size = 8\n",
    "\n",
    "        # FC1\n",
    "        self.fc1_in = 7 * 7 * 16\n",
    "        self.fc1_out = 784\n",
    "        \n",
    "        # FC1\n",
    "        self.fc2_in = 784\n",
    "        self.fc2_out = 160\n",
    "\n",
    "torch.manual_seed(2)\n",
    "config = Config()\n",
    "\n",
    "net = CNNnet(args, config)\n",
    "\n",
    "# net = torch.nn.DataParallel(net)\n",
    "net.load_state_dict(torch.load(os.path.join(model_path, 'CNNplusCR_mnist.pth'), map_location='cpu'))\n",
    "    \n",
    "if args['USE_CUDA']:\n",
    "    net = net.cuda()\n",
    "    "
   ]
  },
  {
   "cell_type": "code",
   "execution_count": 10,
   "metadata": {},
   "outputs": [],
   "source": [
    "import matplotlib.pyplot as plt\n",
    "from advertorch.attacks import LinfPGDAttack, GradientSignAttack, CarliniWagnerL2Attack, LinfBasicIterativeAttack\n",
    "\n",
    "class Model_for_Adversary(nn.Module):\n",
    "    def __init__(self, net):\n",
    "        super(Model_for_Adversary, self).__init__()\n",
    "        self.net = net\n",
    "        \n",
    "    def forward(self, x):\n",
    "        output, recons, masked = self.net(x)\n",
    "        classes = output.sum(2)\n",
    "        return classes\n",
    "    \n",
    "def WhiteBox_Attacks_Targeted(net, dataloader, adversary_dict, args):\n",
    "    net.eval()\n",
    "    n_batch = len(dataloader)\n",
    "    Success_Rate = {key:0.0 for key in adversary_dict.keys()}\n",
    "    Undetected_Rate = {key:0.0 for key in adversary_dict.keys()}\n",
    "    \n",
    "    for adversary in adversary_dict.keys():\n",
    "        for batch_id, (data, labels) in enumerate(tqdm(dataloader)):\n",
    "            target = torch.randint(0,10,size=(labels.size(0),), dtype=labels.dtype).cuda()\n",
    "            if(args['USE_CUDA']):\n",
    "                data, labels = data.cuda(), labels.cuda()\n",
    "\n",
    "            adv_data = adversary_dict[adversary].perturb(data, target)\n",
    "            with torch.no_grad():\n",
    "                output, reconstructions, max_length_indices = net(adv_data)\n",
    "                unnormalized_data = net.decoder.unnormalize(adv_data)\n",
    "                l2_distances = ((reconstructions.view(adv_data.size(0),-1)-unnormalized_data.view(adv_data.size(0), -1))**2).sum(1).squeeze().detach()\n",
    "                theta = np.percentile(l2_distances.cpu().numpy(), 95)\n",
    "                Success_Rate[adversary]+=torch.sum(max_length_indices != labels).item()\n",
    "                Undetected_Rate[adversary]+=torch.sum(l2_distances[max_length_indices!=labels]<=theta).item()\n",
    "        Success_Rate[adversary]/=100\n",
    "        Undetected_Rate[adversary]/=100\n",
    "    return Success_Rate, Undetected_Rate\n",
    "\n",
    "def WhiteBox_Attacks_Untargeted(net, dataloader, adversary_dict, args):\n",
    "    net.eval()\n",
    "    n_batch = len(dataloader)\n",
    "    Success_Rate = {key:0.0 for key in adversary_dict.keys()}\n",
    "    Undetected_Rate = {key:0.0 for key in adversary_dict.keys()}\n",
    "    \n",
    "    for adversary in adversary_dict.keys():\n",
    "        for batch_id, (data, labels) in enumerate(tqdm(dataloader)):\n",
    "            if(args['USE_CUDA']):\n",
    "                data, labels = data.cuda(), labels.cuda()\n",
    "\n",
    "            adv_data = adversary_dict[adversary].perturb(data)\n",
    "            with torch.no_grad():\n",
    "                output, reconstructions, max_length_indices = net(adv_data)\n",
    "                unnormalized_data = net.decoder.unnormalize(adv_data)\n",
    "                l2_distances = ((reconstructions.view(adv_data.size(0),-1)-unnormalized_data.view(adv_data.size(0), -1))**2).sum(1).squeeze().detach()\n",
    "                theta = np.percentile(l2_distances.cpu().numpy(), 95)\n",
    "                Success_Rate[adversary]+=torch.sum(max_length_indices != labels).item()\n",
    "                Undetected_Rate[adversary]+=torch.sum(l2_distances[max_length_indices!=labels]<=theta).item()\n",
    "#                 print(Success_Rate[adversary])\n",
    "#                 print(Undetected_Rate[adversary])\n",
    "#                 print(theta)\n",
    "        Success_Rate[adversary]/=100\n",
    "        Undetected_Rate[adversary]/=100\n",
    "    return Success_Rate, Undetected_Rate    \n"
   ]
  },
  {
   "cell_type": "code",
   "execution_count": 11,
   "metadata": {},
   "outputs": [
    {
     "name": "stderr",
     "output_type": "stream",
     "text": [
      "100%|██████████| 20/20 [00:30<00:00,  1.52s/it]\n",
      "100%|██████████| 20/20 [00:01<00:00, 19.01it/s]\n",
      "100%|██████████| 20/20 [00:30<00:00,  1.55s/it]\n"
     ]
    }
   ],
   "source": [
    "model_for_adversary = Model_for_Adversary(net)\n",
    "    \n",
    "adversary_dict = {}\n",
    "adversary_dict['PGD'] = LinfPGDAttack(\n",
    "    model_for_adversary, loss_fn=nn.CrossEntropyLoss(reduction=\"sum\"), eps=0.3,\n",
    "    nb_iter=100, eps_iter=0.01, rand_init=True, clip_min=-0.4242, clip_max=2.8215,\n",
    "    targeted=False)\n",
    "\n",
    "adversary_dict['FGSM'] = GradientSignAttack(model_for_adversary, loss_fn=nn.CrossEntropyLoss(reduction=\"sum\"), eps=0.3, clip_min=-0.4242, clip_max=2.8215, targeted=False)\n",
    "adversary_dict['BIM'] = LinfBasicIterativeAttack(model_for_adversary, loss_fn=nn.CrossEntropyLoss(reduction=\"sum\"), eps=0.05, nb_iter=100, eps_iter=0.01, clip_min=-0.4242, clip_max=2.8215, targeted=False)\n",
    "# adversary_dict['CW'] = CarliniWagnerL2Attack(model_for_adversary, num_classes=args['num_classes'], confidence=0, targeted=False, learning_rate=0.01, binary_search_steps=9, max_iterations=1000, abort_early=True, initial_const=0.001, clip_min=-0.4242, clip_max=2.8215, loss_fn=None)\n",
    "\n",
    "Success_Rate, Undetected_Rate = WhiteBox_Attacks_Untargeted(net, testloader, adversary_dict, args)"
   ]
  },
  {
   "cell_type": "code",
   "execution_count": 12,
   "metadata": {},
   "outputs": [
    {
     "name": "stdout",
     "output_type": "stream",
     "text": [
      "{'PGD': 73.67, 'FGSM': 31.25, 'BIM': 9.51}\n",
      "{'PGD': 68.88, 'FGSM': 27.77, 'BIM': 7.53}\n"
     ]
    }
   ],
   "source": [
    "print(Success_Rate)\n",
    "print(Undetected_Rate)\n"
   ]
  },
  {
   "cell_type": "code",
   "execution_count": 13,
   "metadata": {
    "scrolled": true
   },
   "outputs": [
    {
     "name": "stderr",
     "output_type": "stream",
     "text": [
      "100%|██████████| 20/20 [00:29<00:00,  1.47s/it]\n",
      "100%|██████████| 20/20 [00:01<00:00, 19.60it/s]\n",
      "100%|██████████| 20/20 [00:30<00:00,  1.55s/it]\n"
     ]
    }
   ],
   "source": [
    "model_for_adversary = Model_for_Adversary(net)\n",
    "    \n",
    "adversary_dict = {}\n",
    "adversary_dict['PGD'] = LinfPGDAttack(\n",
    "    model_for_adversary, loss_fn=nn.CrossEntropyLoss(reduction=\"sum\"), eps=0.3,\n",
    "    nb_iter=100, eps_iter=0.01, rand_init=True, clip_min=-0.4242, clip_max=2.8215,\n",
    "    targeted=True)\n",
    "\n",
    "adversary_dict['FGSM'] = GradientSignAttack(model_for_adversary, loss_fn=nn.CrossEntropyLoss(reduction=\"sum\"), eps=0.3, clip_min=-0.4242, clip_max=2.8215, targeted=True)\n",
    "adversary_dict['BIM'] = LinfBasicIterativeAttack(model_for_adversary, loss_fn=nn.CrossEntropyLoss(reduction=\"sum\"), eps=0.05, nb_iter=100, eps_iter=0.01, clip_min=-0.4242, clip_max=2.8215, targeted=True)\n",
    "# adversary_dict['CW'] = CarliniWagnerL2Attack(model_for_adversary, num_classes=args['num_classes'], confidence=0, targeted=False, learning_rate=0.01, binary_search_steps=9, max_iterations=1000, abort_early=True, initial_const=0.001, clip_min=-0.4242, clip_max=2.8215, loss_fn=None)\n",
    "\n",
    "Success_Rate, Undetected_Rate = WhiteBox_Attacks_Targeted(net, testloader, adversary_dict, args)"
   ]
  },
  {
   "cell_type": "code",
   "execution_count": 14,
   "metadata": {},
   "outputs": [
    {
     "name": "stdout",
     "output_type": "stream",
     "text": [
      "{'PGD': 54.23, 'FGSM': 28.09, 'BIM': 5.18}\n",
      "{'PGD': 49.86, 'FGSM': 24.99, 'BIM': 4.01}\n"
     ]
    }
   ],
   "source": [
    "print(Success_Rate)\n",
    "print(Undetected_Rate)\n"
   ]
  },
  {
   "cell_type": "markdown",
   "metadata": {},
   "source": [
    "## Histograms for CNN plus R"
   ]
  },
  {
   "cell_type": "code",
   "execution_count": 13,
   "metadata": {},
   "outputs": [],
   "source": [
    "args = {\n",
    "    'DATASET_NAME':'mnist',\n",
    "    'num_classes':10,\n",
    "    \n",
    "    'USE_CUDA': True if torch.cuda.is_available() else False,\n",
    "    'BATCH_SIZE': 256,\n",
    "    'N_EPOCHS': 100,\n",
    "    'LEARNING_RATE_1': 1e-2,\n",
    "    'LEARNING_RATE_2': 1e-2,\n",
    "    'WEIGHTDECAY':5e-6,\n",
    "    \n",
    "    #Scheduler\n",
    "    'USE_SCHEDULER':True,\n",
    "    'sched_milestones':[8,20,30,40,50],\n",
    "    'sched_gamma':0.1,\n",
    "    \n",
    "    #Loss Function\n",
    "    'LAMBDA_recon': 0.5,\n",
    "    'LAMBDA_class': 1,\n",
    "    \n",
    "    #For Decoder\n",
    "    'num_features':160,\n",
    "    'LReLU_negative_slope':0.1,\n",
    "    'input_height':28,\n",
    "    'input_width':28,\n",
    "    'input_channel':1,\n",
    "    'type':'plusR',\n",
    "    \n",
    "}"
   ]
  },
  {
   "cell_type": "code",
   "execution_count": 14,
   "metadata": {},
   "outputs": [],
   "source": [
    "class Config:\n",
    "    def __init__(self, dataset='mnist'):\n",
    "        # CONV1\n",
    "        self.conv1_in = 1\n",
    "        self.conv1_out = 12\n",
    "        self.conv1_kernel_size = 15\n",
    "\n",
    "        # CONV2\n",
    "        self.conv2_in = 12\n",
    "        self.conv2_out = 16\n",
    "        self.conv2_kernel_size = 8\n",
    "\n",
    "        # FC1\n",
    "        self.fc1_in = 7 * 7 * 16\n",
    "        self.fc1_out = 784\n",
    "        \n",
    "        # FC1\n",
    "        self.fc2_in = 784\n",
    "        self.fc2_out = 160\n",
    "\n",
    "torch.manual_seed(2)\n",
    "config = Config()\n",
    "\n",
    "net = CNNnet(args, config)\n",
    "\n",
    "# net = torch.nn.DataParallel(net)\n",
    "net.load_state_dict(torch.load(os.path.join(model_path, 'CNNplusR_mnist.pth'), map_location='cpu'))\n",
    "    \n",
    "if args['USE_CUDA']:\n",
    "    net = net.cuda()\n",
    "    "
   ]
  },
  {
   "cell_type": "code",
   "execution_count": 16,
   "metadata": {},
   "outputs": [
    {
     "name": "stderr",
     "output_type": "stream",
     "text": [
      "100%|██████████| 20/20 [00:29<00:00,  1.46s/it]\n"
     ]
    }
   ],
   "source": [
    "recon = Reconstructor(net, args)\n",
    "model_for_adversary = Model_for_Adversary(net)\n",
    "    \n",
    "adversary = LinfPGDAttack(\n",
    "    model_for_adversary, loss_fn=nn.CrossEntropyLoss(reduction=\"sum\"), eps=0.3,\n",
    "    nb_iter=1000, eps_iter=0.01, rand_init=True, clip_min=-0.4242, clip_max=2.8215,\n",
    "    targeted=False)\n",
    "\n",
    "l2_distances = L2_Distances(net, recon, testloader, adversary, args)"
   ]
  },
  {
   "cell_type": "code",
   "execution_count": 19,
   "metadata": {},
   "outputs": [
    {
     "data": {
      "text/plain": [
       "(0, 200)"
      ]
     },
     "execution_count": 19,
     "metadata": {},
     "output_type": "execute_result"
    },
    {
     "data": {
      "image/png": "[encoded data removed]",
      "text/plain": [
       "<Figure size 432x288 with 1 Axes>"
      ]
     },
     "metadata": {},
     "output_type": "display_data"
    }
   ],
   "source": [
    "clean_l2 = l2_distances[0]#[list(range(0,20000,2))]\n",
    "adversarial_l2 = l2_distances[1]#[list(range(1,19999,2))]\n",
    "\n",
    "fig, ax = plt.subplots()\n",
    "sns.set_theme()\n",
    "sns.histplot({'clean':clean_l2, 'adversarial':adversarial_l2}, bins=range(1, 200, 5), ax=ax, kde=False)\n",
    "ax.set_xlabel('l2_distances')\n",
    "ax.set_ylabel('Number of Samples')\n",
    "ax.set_title('L2 Distances of Input and Reconstructions')\n",
    "ax.set_xlim([0, 200])"
   ]
  },
  {
   "cell_type": "code",
   "execution_count": null,
   "metadata": {},
   "outputs": [],
   "source": []
  }
 ],
 "metadata": {
  "kernelspec": {
   "display_name": "Python 3",
   "language": "python",
   "name": "python3"
  },
  "language_info": {
   "codemirror_mode": {
    "name": "ipython",
    "version": 3
   },
   "file_extension": ".py",
   "mimetype": "text/x-python",
   "name": "python",
   "nbconvert_exporter": "python",
   "pygments_lexer": "ipython3",
   "version": "3.7.6"
  }
 },
 "nbformat": 4,
 "nbformat_minor": 4
}
