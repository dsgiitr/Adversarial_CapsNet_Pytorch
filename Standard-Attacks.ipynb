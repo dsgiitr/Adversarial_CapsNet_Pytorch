{
 "cells": [
  {
   "cell_type": "code",
   "execution_count": 1,
   "metadata": {},
   "outputs": [],
   "source": [
    "import torch\n",
    "import numpy as np\n",
    "import torch\n",
    "import torch.nn as nn\n",
    "import torch.nn.functional as F\n",
    "from tqdm import tqdm\n",
    "import os\n",
    "import seaborn as sns\n",
    "\n",
    "import sys\n",
    "sys.path.insert(0,'/home/gsoc0/Adversarial_CapsNet_Pytorch/')\n",
    "from model.net import *\n",
    "from model.cnn_net import *\n",
    "from utils.training import *\n",
    "from data.data import *"
   ]
  },
  {
   "cell_type": "markdown",
   "metadata": {},
   "source": [
    "## Experiment Config"
   ]
  },
  {
   "cell_type": "code",
   "execution_count": 2,
   "metadata": {},
   "outputs": [],
   "source": [
    "model_path = os.path.join(os.getcwd(), \"weights\")\n",
    "\n",
    "args = {\n",
    "    'DATASET_NAME':'mnist',\n",
    "    'num_classes':10,\n",
    "    \n",
    "    'USE_CUDA': True if torch.cuda.is_available() else False,\n",
    "    'BATCH_SIZE': 512,\n",
    "#     'N_EPOCHS': 100,\n",
    "#     'LEARNING_RATE_1': 1e-2,\n",
    "#     'LEARNING_RATE_2': 1e-2,\n",
    "#     'WEIGHTDECAY':5e-6,\n",
    "#     #Scheduler\n",
    "#     'USE_SCHEDULER':True,\n",
    "#     'sched_milestones':[14,25,30,40,50],\n",
    "#     'sched_gamma':0.1,\n",
    "    \n",
    "#     #Loss Function\n",
    "#     'LAMBDA_recon': 0.5,\n",
    "#     'LAMBDA_class': 1,\n",
    "    \n",
    "    ##For Decoder\n",
    "    'num_features':160,\n",
    "    'LReLU_negative_slope':0.1,\n",
    "    'input_height':28,\n",
    "    'input_width':28,\n",
    "    'input_channel':1,\n",
    "    'type':'plusR',\n",
    "    \n",
    "}\n",
    "\n",
    "#Setting Default Cuda Device\n",
    "torch.cuda.set_device(2)"
   ]
  },
  {
   "cell_type": "markdown",
   "metadata": {},
   "source": [
    "## Model Loading"
   ]
  },
  {
   "cell_type": "code",
   "execution_count": 3,
   "metadata": {},
   "outputs": [],
   "source": [
    "#Modified Reconstructor\n",
    "\n",
    "class Reconstructor(nn.Module):\n",
    "    def __init__(self, net, args):\n",
    "        super(Reconstructor, self).__init__()\n",
    "        self.args = args\n",
    "        self.reconstraction_layers = net.decoder.reconstraction_layers\n",
    "        self.mean = torch.tensor(0.1307)\n",
    "        self.std = torch.tensor(0.3081)\n",
    "        if(args['USE_CUDA']):\n",
    "            self.mean = self.mean.cuda()\n",
    "            self.std = self.std.cuda()\n",
    "        self.unnormalize = UnNormalize(self.mean, self.std)\n",
    "        \n",
    "    def forward(self, x, data):\n",
    "        with torch.no_grad():\n",
    "            classes = torch.sqrt((x ** 2).sum(2))\n",
    "            classes = F.softmax(classes.squeeze(), dim=1)\n",
    "            _, max_length_indices = classes.max(dim=1)\n",
    "            eye = torch.sparse.torch.eye(10)\n",
    "            if USE_CUDA:\n",
    "                eye = eye.cuda()\n",
    "            reconstructions_of_digits = []\n",
    "            list_of_indices = [max_length_indices]\n",
    "            for i, index_list in enumerate(list_of_indices):\n",
    "                masked = eye.index_select(dim=0, index=index_list.squeeze().data)\n",
    "                reconstructions_of_digits.append(self.reconstraction_layers((x * masked[:, :, None, None]).view(x.size(0), 1, -1)))\n",
    "\n",
    "            reconstructions_of_digits = torch.cat(reconstructions_of_digits, dim=1) \n",
    "            expanded_data = data.view(x.size(0), 1, -1).expand(-1, len(list_of_indices), -1)\n",
    "            unnormalized_data = self.unnormalize(expanded_data)\n",
    "            l2_distances = torch.square((unnormalized_data - reconstructions_of_digits)).sum(dim=(list(range(0, len(expanded_data.shape)))[2:]))\n",
    "            return l2_distances\n",
    "    \n",
    "    def class_conditional_recon(self, x, data):\n",
    "        with torch.no_grad():\n",
    "            classes = torch.sqrt((x ** 2).sum(2))\n",
    "            classes = F.softmax(classes.squeeze(), dim=1)\n",
    "            _, max_length_indices = classes.max(dim=1)\n",
    "            eye = torch.sparse.torch.eye(10)\n",
    "            if USE_CUDA:\n",
    "                eye = eye.cuda()\n",
    "            reconstructions_of_digits = []\n",
    "            list_of_indices = [max_length_indices]\n",
    "            for i, index_list in enumerate(list_of_indices):\n",
    "                masked = eye.index_select(dim=0, index=index_list.squeeze().data)\n",
    "                reconstructions_of_digits.append(self.reconstraction_layers((x * masked[:, :, None, None]).view(x.size(0), 1, -1)))\n",
    "\n",
    "            reconstructions_of_digits = torch.cat(reconstructions_of_digits, dim=1)\n",
    "            expanded_data = data.view(x.size(0), 1, -1).expand(-1, len(list_of_indices), -1)\n",
    "            unnormalized_data = self.unnormalize(expanded_data)\n",
    "            l2_distances = torch.square((unnormalized_data - reconstructions_of_digits)).sum(dim=(list(range(0, len(expanded_data.shape)))[2:]))\n",
    "            return l2_distances\n",
    "    \n",
    "def imshow(img):\n",
    "#     img = img * 0.3081 + 0.1307     # unnormalize\n",
    "    npimg = img.cpu().numpy()\n",
    "#     plt.imshow(np.transpose(npimg)#, (1, 2, 0)))\n",
    "    plt.imshow(npimg)\n",
    "    plt.show()"
   ]
  },
  {
   "cell_type": "code",
   "execution_count": 4,
   "metadata": {},
   "outputs": [
    {
     "data": {
      "text/plain": [
       "<All keys matched successfully>"
      ]
     },
     "execution_count": 4,
     "metadata": {},
     "output_type": "execute_result"
    }
   ],
   "source": [
    "class Config:\n",
    "    def __init__(self, dataset='mnist'):\n",
    "        # CNN (cnn)\n",
    "        self.cnn_in_channels = 1\n",
    "        self.cnn_out_channels = 12\n",
    "        self.cnn_kernel_size = 15\n",
    "\n",
    "        # Primary Capsule (pc)\n",
    "        self.pc_num_capsules = 1\n",
    "        self.pc_in_channels = 12\n",
    "        self.pc_out_channels = 16\n",
    "        self.pc_kernel_size = 8\n",
    "        self.pc_num_routes = 7 * 7\n",
    "\n",
    "        # Digit Capsule 1 (dc)\n",
    "        self.dc_num_capsules = 49\n",
    "        self.dc_num_routes = 7 * 7\n",
    "        self.dc_in_channels = 16\n",
    "        self.dc_out_channels = 16 #1\n",
    "        \n",
    "        # Digit Capsule 2 (dc)\n",
    "        self.dc_2_num_capsules = 10\n",
    "        self.dc_2_num_routes = 7 * 7\n",
    "        self.dc_2_in_channels = 16 #1\n",
    "        self.dc_2_out_channels = 16\n",
    "\n",
    "        # Decoder\n",
    "        self.input_width = 28\n",
    "        self.input_height = 28\n",
    "torch.manual_seed(1)\n",
    "config = Config()\n",
    "\n",
    "net = CapsNet(args, config)\n",
    "# capsule_net = torch.nn.DataParallel(capsule_net)\n",
    "if args['USE_CUDA']:\n",
    "    net = net.cuda()\n",
    "    \n",
    "net.load_state_dict(torch.load(os.path.join(model_path, 'CapsNet_mnist.pth'), map_location='cpu'))"
   ]
  },
  {
   "cell_type": "markdown",
   "metadata": {},
   "source": [
    "## Loading Dataset"
   ]
  },
  {
   "cell_type": "code",
   "execution_count": 5,
   "metadata": {},
   "outputs": [
    {
     "name": "stdout",
     "output_type": "stream",
     "text": [
      "tensor(-0.4242)\n",
      "tensor(2.8215)\n"
     ]
    }
   ],
   "source": [
    "trainloader, testloader = dataset(args)\n",
    "for data in trainloader:\n",
    "    print(data[0][0].min())\n",
    "    print(data[0][0].max())\n",
    "    break"
   ]
  },
  {
   "cell_type": "markdown",
   "metadata": {},
   "source": [
    "##  Untargeted WhiteBox Attack for CapsuleNet"
   ]
  },
  {
   "cell_type": "code",
   "execution_count": 6,
   "metadata": {},
   "outputs": [
    {
     "data": {
      "text/plain": [
       "tensor([1, 2, 3], dtype=torch.int16)"
      ]
     },
     "execution_count": 6,
     "metadata": {},
     "output_type": "execute_result"
    }
   ],
   "source": [
    "a = torch.tensor([], dtype=torch.int16)\n",
    "b = torch.tensor([1,2,3], dtype=torch.int16)\n",
    "torch.cat((a,b))"
   ]
  },
  {
   "cell_type": "code",
   "execution_count": 7,
   "metadata": {},
   "outputs": [],
   "source": [
    "import matplotlib.pyplot as plt\n",
    "from advertorch.attacks import LinfPGDAttack, GradientSignAttack, CarliniWagnerL2Attack, LinfBasicIterativeAttack\n",
    "\n",
    "class Model_for_Adversary(nn.Module):\n",
    "    def __init__(self, net):\n",
    "        super(Model_for_Adversary, self).__init__()\n",
    "        self.net = net\n",
    "        \n",
    "    def forward(self, x):\n",
    "        output, recons, masked = self.net(x)\n",
    "        classes = torch.sqrt((output ** 2).sum(2)).squeeze()\n",
    "        return classes\n",
    "    \n",
    "def WhiteBox_Attacks_Targeted(net, dataloader, adversary_dict, args):\n",
    "    net.eval()\n",
    "    n_batch = len(dataloader)\n",
    "    Success_Rate = {key:0.0 for key in adversary_dict.keys()}\n",
    "    Undetected_Rate = {key:0.0 for key in adversary_dict.keys()}\n",
    "    Und_l2 = {key:torch.tensor([],dtype=torch.int16).cuda() for key in adversary_dict.keys()}\n",
    "    for adversary in adversary_dict.keys():\n",
    "        for batch_id, (data, labels) in enumerate(tqdm(dataloader)):\n",
    "            target = torch.randint(0,10,size=(labels.size(0),), dtype=labels.dtype).cuda()\n",
    "            if(args['USE_CUDA']):\n",
    "                data, labels = data.cuda(), labels.cuda()\n",
    "            adv_data = adversary_dict[adversary].perturb(data, target)\n",
    "            with torch.no_grad():\n",
    "                output, reconstructions, max_length_indices = net(adv_data)\n",
    "                unnormalized_data = net.decoder.unnormalize(adv_data)\n",
    "                l2_distances = ((reconstructions.view(adv_data.size(0),-1)-unnormalized_data.view(adv_data.size(0), -1))**2).sum(1).squeeze().detach()\n",
    "                theta = np.percentile(l2_distances.cpu().numpy(), 95)\n",
    "                if(adversary=='Clean'):\n",
    "                    Und_l2[adversary] = torch.cat((Und_l2[adversary],l2_distances))\n",
    "                else:\n",
    "                    Und_l2[adversary] = torch.cat((Und_l2[adversary],l2_distances[max_length_indices == target]))\n",
    "                Success_Rate[adversary]+=torch.sum(max_length_indices == target).item()\n",
    "                Undetected_Rate[adversary]+=torch.sum(l2_distances[max_length_indices == target]<=theta).item()\n",
    "        \n",
    "        Und_l2[adversary] = Und_l2[adversary].cpu().numpy()\n",
    "        Success_Rate[adversary]/=100\n",
    "        Undetected_Rate[adversary]/=100\n",
    "    return Success_Rate, Undetected_Rate, Und_l2\n",
    "\n",
    "def WhiteBox_Attacks_Untargeted(net, dataloader, adversary_dict, args):\n",
    "    net.eval()\n",
    "    n_batch = len(dataloader)\n",
    "    Success_Rate = {key:0.0 for key in adversary_dict.keys()}\n",
    "    Undetected_Rate = {key:0.0 for key in adversary_dict.keys()}\n",
    "    Und_l2 = {key:torch.tensor([],dtype=torch.int16).cuda() for key in adversary_dict.keys()}\n",
    "    for adversary in adversary_dict.keys():\n",
    "        for batch_id, (data, labels) in enumerate(tqdm(dataloader)):\n",
    "            if(args['USE_CUDA']):\n",
    "                data, labels = data.cuda(), labels.cuda()\n",
    "\n",
    "            adv_data = adversary_dict[adversary].perturb(data)\n",
    "            with torch.no_grad():\n",
    "                output, reconstructions, max_length_indices = net(adv_data)\n",
    "                unnormalized_data = net.decoder.unnormalize(adv_data)\n",
    "                l2_distances = ((reconstructions.view(adv_data.size(0),-1)-unnormalized_data.view(adv_data.size(0), -1))**2).sum(1).squeeze().detach()\n",
    "                theta = np.percentile(l2_distances.cpu().numpy(), 95)\n",
    "                if(adversary=='Clean'):\n",
    "                    Und_l2[adversary] = torch.cat((Und_l2[adversary],l2_distances))\n",
    "                else:\n",
    "                    Und_l2[adversary] = torch.cat((Und_l2[adversary],l2_distances[max_length_indices != labels]))\n",
    "                Success_Rate[adversary]+=torch.sum(max_length_indices != labels).item()\n",
    "                Undetected_Rate[adversary]+=torch.sum(l2_distances[max_length_indices!=labels]<=theta).item()\n",
    "#                 print(Success_Rate[adversary])\n",
    "#                 print(Undetected_Rate[adversary])\n",
    "#                 print(theta)\n",
    "        Und_l2[adversary] = Und_l2[adversary].cpu().numpy() \n",
    "        Success_Rate[adversary]/=100\n",
    "        Undetected_Rate[adversary]/=100\n",
    "    return Success_Rate, Undetected_Rate, Und_l2"
   ]
  },
  {
   "cell_type": "code",
   "execution_count": 8,
   "metadata": {},
   "outputs": [],
   "source": [
    "from advertorch.attacks.base import Attack, LabelMixin\n",
    "from advertorch.utils import clamp\n",
    "\n",
    "class CleanAttack(Attack, LabelMixin):\n",
    "    def __init__(self, clip_min=0., clip_max=1.):\n",
    "        super(CleanAttack, self).__init__(None,None,clip_min, clip_max)\n",
    "\n",
    "    def perturb(self, x, y=None):\n",
    "        xadv = x.requires_grad_()\n",
    "        xadv = clamp(xadv, self.clip_min, self.clip_max)\n",
    "        return xadv.detach()\n",
    "    \n",
    "def Attack_Table(L2_Distances, theta_percentile):\n",
    "    theta = np.percentile(L2_Distances['Clean'], theta_percentile)\n",
    "    Success_Rate = {key:0.0 for key in L2_Distances.keys()}\n",
    "    Undetected_Rate = {key:0.0 for key in L2_Distances.keys()}\n",
    "    for adversary in L2_Distances.keys():\n",
    "        Success_Rate[adversary] = L2_Distances[adversary].shape[0]/ 100\n",
    "        Undetected_Rate[adversary] = np.sum(L2_Distances[adversary]<=theta).item()/100\n",
    "    \n",
    "#     print(\"---------------------------------------------------------\")\n",
    "    print(theta, \":\", theta_percentile ,\"   \", Success_Rate['Clean'],\"/\",Undetected_Rate['Clean'],\"----\",Success_Rate['FGSM'],\"/\",Undetected_Rate['FGSM'],\"----\",Success_Rate['BIM'],\"/\",Undetected_Rate['BIM'],\"----\",Success_Rate['PGD'],\"/\",Undetected_Rate['PGD'])"
   ]
  },
  {
   "cell_type": "code",
   "execution_count": 9,
   "metadata": {},
   "outputs": [
    {
     "name": "stderr",
     "output_type": "stream",
     "text": [
      "100%|██████████| 20/20 [00:09<00:00,  2.12it/s]\n",
      "100%|██████████| 20/20 [36:01<00:00, 108.08s/it]\n",
      "100%|██████████| 20/20 [00:28<00:00,  1.41s/it]\n",
      "100%|██████████| 20/20 [36:21<00:00, 109.07s/it]\n"
     ]
    }
   ],
   "source": [
    "model_for_adversary = Model_for_Adversary(net)\n",
    "    \n",
    "adversary_dict = {}\n",
    "adversary_dict['Clean'] = CleanAttack(clip_min=-0.4242, clip_max=2.8215)\n",
    "adversary_dict['PGD'] = LinfPGDAttack(\n",
    "    model_for_adversary, loss_fn=nn.CrossEntropyLoss(reduction=\"sum\"), eps=0.3,\n",
    "    nb_iter=100, eps_iter=0.01, rand_init=True, clip_min=-0.4242, clip_max=2.8215,\n",
    "    targeted=False)\n",
    "\n",
    "adversary_dict['FGSM'] = GradientSignAttack(model_for_adversary, loss_fn=nn.CrossEntropyLoss(reduction=\"sum\"), eps=0.3, clip_min=-0.4242, clip_max=2.8215, targeted=False)\n",
    "adversary_dict['BIM'] = LinfBasicIterativeAttack(model_for_adversary, loss_fn=nn.CrossEntropyLoss(reduction=\"sum\"), eps=0.05, nb_iter=100, eps_iter=0.01, clip_min=-0.4242, clip_max=2.8215, targeted=False)\n",
    "# adversary_dict['CW'] = CarliniWagnerL2Attack(model_for_adversary, num_classes=args['num_classes'], confidence=0, targeted=False, learning_rate=0.01, binary_search_steps=9, max_iterations=1000, abort_early=True, initial_const=0.001, clip_min=-0.4242, clip_max=2.8215, loss_fn=None)\n",
    "\n",
    "Success_Rate, Undetected_Rate, Und_L2 = WhiteBox_Attacks_Untargeted(net, testloader, adversary_dict, args)"
   ]
  },
  {
   "cell_type": "code",
   "execution_count": 15,
   "metadata": {},
   "outputs": [
    {
     "name": "stdout",
     "output_type": "stream",
     "text": [
      "43.48819847106934\n"
     ]
    },
    {
     "data": {
      "image/png": "[encoded data removed]",
      "text/plain": [
       "<Figure size 432x288 with 1 Axes>"
      ]
     },
     "metadata": {
      "needs_background": "light"
     },
     "output_type": "display_data"
    }
   ],
   "source": [
    "print(np.percentile(Und_L2['Clean'],95))\n",
    "\n",
    "for adversary in adversary_dict.keys():\n",
    "    if(adversary!='Clean'):\n",
    "        x = np.linspace(0, 100, 20)\n",
    "        z = np.array([np.sum(Und_L2['Clean']>((i_x/100))*(np.percentile(Und_L2['Clean'],95))).item()/100 for i_x in x])\n",
    "        y = np.array([np.sum(Und_L2[adversary]<=((i_x/100))*(np.percentile(Und_L2['Clean'],95))).item()/100 for i_x in x])\n",
    "        plt.plot(z, y, 'go-', label='line1', linewidth=2)"
   ]
  },
  {
   "cell_type": "code",
   "execution_count": 17,
   "metadata": {},
   "outputs": [
    {
     "name": "stdout",
     "output_type": "stream",
     "text": [
      "theta-----------percentile----Clean--------------FGSM------------BIM------------PGD\n",
      "1.7025811672210693 : 0     100.0 / 0.01 ---- 25.98 / 0.0 ---- 1.61 / 0.0 ---- 88.96 / 0.0\n",
      "3.8161891365051273 : 1     100.0 / 1.0 ---- 25.98 / 0.0 ---- 1.61 / 0.0 ---- 88.96 / 0.0\n",
      "4.287948904037476 : 2     100.0 / 2.0 ---- 25.98 / 0.0 ---- 1.61 / 0.0 ---- 88.96 / 0.0\n",
      "4.706687207221984 : 3     100.0 / 3.0 ---- 25.98 / 0.0 ---- 1.61 / 0.0 ---- 88.96 / 0.0\n",
      "5.059657096862794 : 4     100.0 / 4.0 ---- 25.98 / 0.0 ---- 1.61 / 0.0 ---- 88.96 / 0.0\n",
      "5.452166986465454 : 5     100.0 / 5.0 ---- 25.98 / 0.0 ---- 1.61 / 0.0 ---- 88.96 / 0.0\n",
      "5.836488723754883 : 6     100.0 / 6.0 ---- 25.98 / 0.0 ---- 1.61 / 0.0 ---- 88.96 / 0.0\n",
      "6.2953118896484375 : 7     100.0 / 7.0 ---- 25.98 / 0.0 ---- 1.61 / 0.0 ---- 88.96 / 0.0\n",
      "6.593777332305908 : 8     100.0 / 8.0 ---- 25.98 / 0.0 ---- 1.61 / 0.0 ---- 88.96 / 0.0\n",
      "7.0715208339691165 : 9     100.0 / 9.0 ---- 25.98 / 0.0 ---- 1.61 / 0.0 ---- 88.96 / 0.0\n",
      "7.578340482711793 : 10     100.0 / 10.0 ---- 25.98 / 0.0 ---- 1.61 / 0.0 ---- 88.96 / 0.0\n",
      "8.065590524673462 : 11     100.0 / 11.0 ---- 25.98 / 0.0 ---- 1.61 / 0.0 ---- 88.96 / 0.0\n",
      "8.482130966186523 : 12     100.0 / 12.0 ---- 25.98 / 0.0 ---- 1.61 / 0.0 ---- 88.96 / 0.0\n",
      "8.888611345291137 : 13     100.0 / 13.0 ---- 25.98 / 0.0 ---- 1.61 / 0.0 ---- 88.96 / 0.0\n",
      "9.285559310913087 : 14     100.0 / 14.0 ---- 25.98 / 0.0 ---- 1.61 / 0.0 ---- 88.96 / 0.0\n",
      "9.679251098632813 : 15     100.0 / 15.0 ---- 25.98 / 0.0 ---- 1.61 / 0.0 ---- 88.96 / 0.0\n",
      "10.00681495666504 : 16     100.0 / 16.0 ---- 25.98 / 0.0 ---- 1.61 / 0.0 ---- 88.96 / 0.0\n",
      "10.311792821884156 : 17     100.0 / 17.0 ---- 25.98 / 0.0 ---- 1.61 / 0.0 ---- 88.96 / 0.0\n",
      "10.671775398254395 : 18     100.0 / 18.0 ---- 25.98 / 0.0 ---- 1.61 / 0.0 ---- 88.96 / 0.0\n",
      "10.979128637313844 : 19     100.0 / 19.0 ---- 25.98 / 0.0 ---- 1.61 / 0.0 ---- 88.96 / 0.0\n",
      "11.210785865783693 : 20     100.0 / 20.0 ---- 25.98 / 0.0 ---- 1.61 / 0.0 ---- 88.96 / 0.0\n",
      "11.47946722984314 : 21     100.0 / 21.0 ---- 25.98 / 0.0 ---- 1.61 / 0.0 ---- 88.96 / 0.0\n",
      "11.731123619079591 : 22     100.0 / 22.0 ---- 25.98 / 0.0 ---- 1.61 / 0.0 ---- 88.96 / 0.0\n",
      "11.954437961578368 : 23     100.0 / 23.0 ---- 25.98 / 0.0 ---- 1.61 / 0.0 ---- 88.96 / 0.0\n",
      "12.20520652770996 : 24     100.0 / 24.0 ---- 25.98 / 0.0 ---- 1.61 / 0.0 ---- 88.96 / 0.0\n",
      "12.465521812438965 : 25     100.0 / 25.0 ---- 25.98 / 0.0 ---- 1.61 / 0.0 ---- 88.96 / 0.0\n",
      "12.704181118011475 : 26     100.0 / 26.0 ---- 25.98 / 0.0 ---- 1.61 / 0.0 ---- 88.96 / 0.0\n",
      "12.935868186950682 : 27     100.0 / 27.0 ---- 25.98 / 0.0 ---- 1.61 / 0.0 ---- 88.96 / 0.0\n",
      "13.156625213623048 : 28     100.0 / 28.0 ---- 25.98 / 0.0 ---- 1.61 / 0.0 ---- 88.96 / 0.0\n",
      "13.353091192245483 : 29     100.0 / 29.0 ---- 25.98 / 0.0 ---- 1.61 / 0.0 ---- 88.96 / 0.0\n",
      "13.615705299377442 : 30     100.0 / 30.0 ---- 25.98 / 0.01 ---- 1.61 / 0.0 ---- 88.96 / 0.0\n",
      "13.80679461479187 : 31     100.0 / 31.0 ---- 25.98 / 0.01 ---- 1.61 / 0.0 ---- 88.96 / 0.0\n",
      "14.045513916015626 : 32     100.0 / 32.0 ---- 25.98 / 0.01 ---- 1.61 / 0.0 ---- 88.96 / 0.0\n",
      "14.257535820007325 : 33     100.0 / 33.0 ---- 25.98 / 0.01 ---- 1.61 / 0.0 ---- 88.96 / 0.0\n",
      "14.450509490966798 : 34     100.0 / 34.0 ---- 25.98 / 0.01 ---- 1.61 / 0.0 ---- 88.96 / 0.0\n",
      "14.678179454803463 : 35     100.0 / 35.0 ---- 25.98 / 0.02 ---- 1.61 / 0.01 ---- 88.96 / 0.0\n",
      "14.906586380004882 : 36     100.0 / 36.0 ---- 25.98 / 0.02 ---- 1.61 / 0.01 ---- 88.96 / 0.0\n",
      "15.12337890625 : 37     100.0 / 37.0 ---- 25.98 / 0.02 ---- 1.61 / 0.01 ---- 88.96 / 0.0\n",
      "15.342659282684327 : 38     100.0 / 38.0 ---- 25.98 / 0.02 ---- 1.61 / 0.01 ---- 88.96 / 0.0\n",
      "15.557591161727906 : 39     100.0 / 39.0 ---- 25.98 / 0.02 ---- 1.61 / 0.01 ---- 88.96 / 0.0\n",
      "15.733736228942872 : 40     100.0 / 40.0 ---- 25.98 / 0.02 ---- 1.61 / 0.01 ---- 88.96 / 0.0\n",
      "15.955112342834472 : 41     100.0 / 41.0 ---- 25.98 / 0.02 ---- 1.61 / 0.01 ---- 88.96 / 0.0\n",
      "16.16531936645508 : 42     100.0 / 42.0 ---- 25.98 / 0.02 ---- 1.61 / 0.01 ---- 88.96 / 0.0\n",
      "16.383656158447266 : 43     100.0 / 43.0 ---- 25.98 / 0.02 ---- 1.61 / 0.02 ---- 88.96 / 0.0\n",
      "16.643562240600588 : 44     100.0 / 44.0 ---- 25.98 / 0.02 ---- 1.61 / 0.02 ---- 88.96 / 0.0\n",
      "16.864645385742186 : 45     100.0 / 45.0 ---- 25.98 / 0.02 ---- 1.61 / 0.02 ---- 88.96 / 0.0\n",
      "17.066826210021972 : 46     100.0 / 46.0 ---- 25.98 / 0.02 ---- 1.61 / 0.02 ---- 88.96 / 0.0\n",
      "17.31871534347534 : 47     100.0 / 47.0 ---- 25.98 / 0.02 ---- 1.61 / 0.03 ---- 88.96 / 0.0\n",
      "17.524869232177736 : 48     100.0 / 48.0 ---- 25.98 / 0.02 ---- 1.61 / 0.03 ---- 88.96 / 0.0\n",
      "17.76607988357544 : 49     100.0 / 49.0 ---- 25.98 / 0.02 ---- 1.61 / 0.04 ---- 88.96 / 0.0\n",
      "18.00928783416748 : 50     100.0 / 50.0 ---- 25.98 / 0.03 ---- 1.61 / 0.04 ---- 88.96 / 0.0\n",
      "18.232361221313475 : 51     100.0 / 51.0 ---- 25.98 / 0.03 ---- 1.61 / 0.06 ---- 88.96 / 0.0\n",
      "18.49757522583008 : 52     100.0 / 52.0 ---- 25.98 / 0.04 ---- 1.61 / 0.07 ---- 88.96 / 0.0\n",
      "18.733574581146243 : 53     100.0 / 53.0 ---- 25.98 / 0.04 ---- 1.61 / 0.07 ---- 88.96 / 0.0\n",
      "18.976952362060548 : 54     100.0 / 54.0 ---- 25.98 / 0.04 ---- 1.61 / 0.09 ---- 88.96 / 0.0\n",
      "19.284416389465335 : 55     100.0 / 55.0 ---- 25.98 / 0.05 ---- 1.61 / 0.1 ---- 88.96 / 0.0\n",
      "19.55856719970703 : 56     100.0 / 56.0 ---- 25.98 / 0.05 ---- 1.61 / 0.11 ---- 88.96 / 0.01\n",
      "19.80825916290283 : 57     100.0 / 57.0 ---- 25.98 / 0.06 ---- 1.61 / 0.11 ---- 88.96 / 0.01\n",
      "20.03528995513916 : 58     100.0 / 58.0 ---- 25.98 / 0.08 ---- 1.61 / 0.11 ---- 88.96 / 0.01\n",
      "20.256866607666016 : 59     100.0 / 59.0 ---- 25.98 / 0.08 ---- 1.61 / 0.13 ---- 88.96 / 0.01\n",
      "20.580389404296874 : 60     100.0 / 60.0 ---- 25.98 / 0.11 ---- 1.61 / 0.13 ---- 88.96 / 0.01\n",
      "20.874776191711426 : 61     100.0 / 61.0 ---- 25.98 / 0.15 ---- 1.61 / 0.13 ---- 88.96 / 0.01\n",
      "21.11099311828613 : 62     100.0 / 62.0 ---- 25.98 / 0.16 ---- 1.61 / 0.14 ---- 88.96 / 0.02\n",
      "21.354556541442868 : 63     100.0 / 63.0 ---- 25.98 / 0.16 ---- 1.61 / 0.15 ---- 88.96 / 0.02\n",
      "21.702957305908203 : 64     100.0 / 64.0 ---- 25.98 / 0.22 ---- 1.61 / 0.16 ---- 88.96 / 0.02\n",
      "22.11586790084839 : 65     100.0 / 65.0 ---- 25.98 / 0.24 ---- 1.61 / 0.18 ---- 88.96 / 0.06\n",
      "22.450708618164064 : 66     100.0 / 66.0 ---- 25.98 / 0.26 ---- 1.61 / 0.21 ---- 88.96 / 0.07\n",
      "22.742059097290042 : 67     100.0 / 67.0 ---- 25.98 / 0.3 ---- 1.61 / 0.22 ---- 88.96 / 0.07\n",
      "23.02871368408203 : 68     100.0 / 68.0 ---- 25.98 / 0.36 ---- 1.61 / 0.24 ---- 88.96 / 0.08\n",
      "23.421835365295408 : 69     100.0 / 69.0 ---- 25.98 / 0.38 ---- 1.61 / 0.24 ---- 88.96 / 0.08\n",
      "23.81440773010254 : 70     100.0 / 70.0 ---- 25.98 / 0.43 ---- 1.61 / 0.25 ---- 88.96 / 0.08\n",
      "24.204197311401366 : 71     100.0 / 71.0 ---- 25.98 / 0.52 ---- 1.61 / 0.26 ---- 88.96 / 0.08\n",
      "24.569070892333986 : 72     100.0 / 72.0 ---- 25.98 / 0.55 ---- 1.61 / 0.27 ---- 88.96 / 0.11\n",
      "24.971985492706295 : 73     100.0 / 73.0 ---- 25.98 / 0.6 ---- 1.61 / 0.27 ---- 88.96 / 0.12\n",
      "25.4302653503418 : 74     100.0 / 74.0 ---- 25.98 / 0.64 ---- 1.61 / 0.27 ---- 88.96 / 0.12\n",
      "25.822673797607422 : 75     100.0 / 75.0 ---- 25.98 / 0.72 ---- 1.61 / 0.27 ---- 88.96 / 0.12\n",
      "26.273953704833986 : 76     100.0 / 76.0 ---- 25.98 / 0.86 ---- 1.61 / 0.29 ---- 88.96 / 0.14\n",
      "26.757142543792725 : 77     100.0 / 77.0 ---- 25.98 / 0.92 ---- 1.61 / 0.31 ---- 88.96 / 0.15\n",
      "27.20389965057373 : 78     100.0 / 78.0 ---- 25.98 / 1.07 ---- 1.61 / 0.33 ---- 88.96 / 0.15\n",
      "27.596512336730957 : 79     100.0 / 79.0 ---- 25.98 / 1.21 ---- 1.61 / 0.33 ---- 88.96 / 0.18\n",
      "28.042115783691408 : 80     100.0 / 80.0 ---- 25.98 / 1.35 ---- 1.61 / 0.36 ---- 88.96 / 0.2\n",
      "28.568709888458255 : 81     100.0 / 81.0 ---- 25.98 / 1.56 ---- 1.61 / 0.39 ---- 88.96 / 0.23\n",
      "29.080122795104984 : 82     100.0 / 82.0 ---- 25.98 / 1.7 ---- 1.61 / 0.4 ---- 88.96 / 0.26\n",
      "29.65487071990967 : 83     100.0 / 83.0 ---- 25.98 / 1.83 ---- 1.61 / 0.42 ---- 88.96 / 0.26\n",
      "30.295313568115233 : 84     100.0 / 84.0 ---- 25.98 / 2.01 ---- 1.61 / 0.46 ---- 88.96 / 0.27\n",
      "30.987303829193117 : 85     100.0 / 85.0 ---- 25.98 / 2.19 ---- 1.61 / 0.5 ---- 88.96 / 0.31\n",
      "31.78602111816406 : 86     100.0 / 86.0 ---- 25.98 / 2.61 ---- 1.61 / 0.52 ---- 88.96 / 0.42\n",
      "32.65872322082518 : 87     100.0 / 87.0 ---- 25.98 / 2.95 ---- 1.61 / 0.53 ---- 88.96 / 0.48\n",
      "33.36220855712891 : 88     100.0 / 88.0 ---- 25.98 / 3.2 ---- 1.61 / 0.53 ---- 88.96 / 0.54\n",
      "34.51204349517823 : 89     100.0 / 89.0 ---- 25.98 / 3.71 ---- 1.61 / 0.61 ---- 88.96 / 0.62\n",
      "35.49769821166993 : 90     100.0 / 90.0 ---- 25.98 / 4.27 ---- 1.61 / 0.65 ---- 88.96 / 0.78\n",
      "36.65324825286866 : 91     100.0 / 91.0 ---- 25.98 / 4.78 ---- 1.61 / 0.66 ---- 88.96 / 0.91\n",
      "37.91901412963867 : 92     100.0 / 92.0 ---- 25.98 / 5.38 ---- 1.61 / 0.71 ---- 88.96 / 1.14\n",
      "39.47018123626709 : 93     100.0 / 93.0 ---- 25.98 / 6.17 ---- 1.61 / 0.74 ---- 88.96 / 1.31\n",
      "41.53059364318847 : 94     100.0 / 94.0 ---- 25.98 / 7.36 ---- 1.61 / 0.81 ---- 88.96 / 1.71\n",
      "43.48819847106934 : 95     100.0 / 95.0 ---- 25.98 / 8.66 ---- 1.61 / 0.86 ---- 88.96 / 2.11\n",
      "45.7792402648925 : 96     100.0 / 96.0 ---- 25.98 / 10.19 ---- 1.61 / 0.99 ---- 88.96 / 2.69\n",
      "48.72581954956053 : 97     100.0 / 97.0 ---- 25.98 / 11.95 ---- 1.61 / 1.05 ---- 88.96 / 3.59\n",
      "53.180614471435575 : 98     100.0 / 98.0 ---- 25.98 / 14.79 ---- 1.61 / 1.22 ---- 88.96 / 5.15\n",
      "59.44030559539798 : 99     100.0 / 99.0 ---- 25.98 / 18.22 ---- 1.61 / 1.31 ---- 88.96 / 7.71\n",
      "104.002197265625 : 100     100.0 / 100.0 ---- 25.98 / 25.81 ---- 1.61 / 1.61 ---- 88.96 / 32.35\n"
     ]
    }
   ],
   "source": [
    "# Und_L2_Untargeted_Capsnet = Und_L2\n",
    "print('theta-----------percentile----Clean--------------FGSM------------BIM------------PGD')\n",
    "for i in range(0,101):\n",
    "    Attack_Table(Und_L2, i)"
   ]
  },
  {
   "cell_type": "code",
   "execution_count": 18,
   "metadata": {},
   "outputs": [
    {
     "name": "stderr",
     "output_type": "stream",
     "text": [
      "100%|██████████| 20/20 [00:03<00:00,  5.76it/s]\n",
      "100%|██████████| 20/20 [35:55<00:00, 107.78s/it]\n",
      "100%|██████████| 20/20 [00:25<00:00,  1.25s/it]\n",
      "100%|██████████| 20/20 [36:18<00:00, 108.93s/it]\n"
     ]
    }
   ],
   "source": [
    "model_for_adversary = Model_for_Adversary(net)\n",
    "    \n",
    "adversary_dict = {}\n",
    "adversary_dict['Clean'] = CleanAttack(clip_min=-0.4242, clip_max=2.8215)\n",
    "adversary_dict['PGD'] = LinfPGDAttack(\n",
    "    model_for_adversary, loss_fn=nn.CrossEntropyLoss(reduction=\"sum\"), eps=0.3,\n",
    "    nb_iter=100, eps_iter=0.01, rand_init=True, clip_min=-0.4242, clip_max=2.8215,\n",
    "    targeted=True)\n",
    "\n",
    "adversary_dict['FGSM'] = GradientSignAttack(model_for_adversary, loss_fn=nn.CrossEntropyLoss(reduction=\"sum\"), eps=0.3, clip_min=-0.4242, clip_max=2.8215, targeted=True)\n",
    "adversary_dict['BIM'] = LinfBasicIterativeAttack(model_for_adversary, loss_fn=nn.CrossEntropyLoss(reduction=\"sum\"), eps=0.05, nb_iter=100, eps_iter=0.01, clip_min=-0.4242, clip_max=2.8215, targeted=True)\n",
    "# adversary_dict['CW'] = CarliniWagnerL2Attack(model_for_adversary, num_classes=args['num_classes'], confidence=0, targeted=False, learning_rate=0.01, binary_search_steps=9, max_iterations=1000, abort_early=True, initial_const=0.001, clip_min=-0.4242, clip_max=2.8215, loss_fn=None)\n",
    "\n",
    "Success_Rate, Undetected_Rate, Und_L2 = WhiteBox_Attacks_Targeted(net, testloader, adversary_dict, args)"
   ]
  },
  {
   "cell_type": "code",
   "execution_count": 21,
   "metadata": {},
   "outputs": [
    {
     "data": {
      "image/png": "[encoded data removed]",
      "text/plain": [
       "<Figure size 432x288 with 1 Axes>"
      ]
     },
     "metadata": {
      "needs_background": "light"
     },
     "output_type": "display_data"
    }
   ],
   "source": [
    "for adversary in adversary_dict.keys():\n",
    "    if(adversary!='Clean'):\n",
    "        x = np.linspace(0, 100, 20)\n",
    "        z = np.array([np.sum(Und_L2['Clean']>((i_x/100))*((np.percentile(Und_L2['Clean'],95)))).item()/100 for i_x in x])\n",
    "        y = np.array([np.sum(Und_L2[adversary]<=((i_x/100))*((np.percentile(Und_L2['Clean'],95)))).item()/100 for i_x in x])\n",
    "        plt.plot(z, y, 'go-', label='line1', linewidth=2)"
   ]
  },
  {
   "cell_type": "code",
   "execution_count": 22,
   "metadata": {},
   "outputs": [
    {
     "name": "stdout",
     "output_type": "stream",
     "text": [
      "1.7025811672210693 : 0     100.0 / 0.01 ---- 14.34 / 0.0 ---- 10.26 / 0.0 ---- 38.8 / 0.0\n",
      "3.8161891365051273 : 1     100.0 / 1.0 ---- 14.34 / 0.0 ---- 10.26 / 0.1 ---- 38.8 / 0.0\n",
      "4.287948904037476 : 2     100.0 / 2.0 ---- 14.34 / 0.0 ---- 10.26 / 0.15 ---- 38.8 / 0.0\n",
      "4.706687207221984 : 3     100.0 / 3.0 ---- 14.34 / 0.0 ---- 10.26 / 0.22 ---- 38.8 / 0.0\n",
      "5.059657096862794 : 4     100.0 / 4.0 ---- 14.34 / 0.0 ---- 10.26 / 0.29 ---- 38.8 / 0.0\n",
      "5.452166986465454 : 5     100.0 / 5.0 ---- 14.34 / 0.0 ---- 10.26 / 0.41 ---- 38.8 / 0.0\n",
      "5.836488723754883 : 6     100.0 / 6.0 ---- 14.34 / 0.0 ---- 10.26 / 0.5 ---- 38.8 / 0.0\n",
      "6.2953118896484375 : 7     100.0 / 7.0 ---- 14.34 / 0.0 ---- 10.26 / 0.66 ---- 38.8 / 0.0\n",
      "6.593777332305908 : 8     100.0 / 8.0 ---- 14.34 / 0.0 ---- 10.26 / 0.76 ---- 38.8 / 0.0\n",
      "7.0715208339691165 : 9     100.0 / 9.0 ---- 14.34 / 0.02 ---- 10.26 / 0.88 ---- 38.8 / 0.0\n",
      "7.578340482711793 : 10     100.0 / 10.0 ---- 14.34 / 0.04 ---- 10.26 / 0.98 ---- 38.8 / 0.0\n",
      "8.065590524673462 : 11     100.0 / 11.0 ---- 14.34 / 0.04 ---- 10.26 / 1.09 ---- 38.8 / 0.0\n",
      "8.482130966186523 : 12     100.0 / 12.0 ---- 14.34 / 0.07 ---- 10.26 / 1.17 ---- 38.8 / 0.01\n",
      "8.888611345291137 : 13     100.0 / 13.0 ---- 14.34 / 0.13 ---- 10.26 / 1.24 ---- 38.8 / 0.02\n",
      "9.285559310913087 : 14     100.0 / 14.0 ---- 14.34 / 0.17 ---- 10.26 / 1.28 ---- 38.8 / 0.04\n",
      "9.679251098632813 : 15     100.0 / 15.0 ---- 14.34 / 0.21 ---- 10.26 / 1.34 ---- 38.8 / 0.07\n",
      "10.00681495666504 : 16     100.0 / 16.0 ---- 14.34 / 0.22 ---- 10.26 / 1.44 ---- 38.8 / 0.11\n",
      "10.311792821884156 : 17     100.0 / 17.0 ---- 14.34 / 0.26 ---- 10.26 / 1.54 ---- 38.8 / 0.15\n",
      "10.671775398254395 : 18     100.0 / 18.0 ---- 14.34 / 0.35 ---- 10.26 / 1.68 ---- 38.8 / 0.19\n",
      "10.979128637313844 : 19     100.0 / 19.0 ---- 14.34 / 0.38 ---- 10.26 / 1.71 ---- 38.8 / 0.22\n",
      "11.210785865783693 : 20     100.0 / 20.0 ---- 14.34 / 0.47 ---- 10.26 / 1.76 ---- 38.8 / 0.26\n",
      "11.47946722984314 : 21     100.0 / 21.0 ---- 14.34 / 0.5 ---- 10.26 / 1.87 ---- 38.8 / 0.27\n",
      "11.731123619079591 : 22     100.0 / 22.0 ---- 14.34 / 0.56 ---- 10.26 / 1.91 ---- 38.8 / 0.33\n",
      "11.954437961578368 : 23     100.0 / 23.0 ---- 14.34 / 0.6 ---- 10.26 / 1.95 ---- 38.8 / 0.36\n",
      "12.20520652770996 : 24     100.0 / 24.0 ---- 14.34 / 0.62 ---- 10.26 / 2.01 ---- 38.8 / 0.39\n",
      "12.465521812438965 : 25     100.0 / 25.0 ---- 14.34 / 0.64 ---- 10.26 / 2.13 ---- 38.8 / 0.44\n",
      "12.704181118011475 : 26     100.0 / 26.0 ---- 14.34 / 0.66 ---- 10.26 / 2.23 ---- 38.8 / 0.48\n",
      "12.935868186950682 : 27     100.0 / 27.0 ---- 14.34 / 0.67 ---- 10.26 / 2.3 ---- 38.8 / 0.57\n",
      "13.156625213623048 : 28     100.0 / 28.0 ---- 14.34 / 0.69 ---- 10.26 / 2.41 ---- 38.8 / 0.64\n",
      "13.353091192245483 : 29     100.0 / 29.0 ---- 14.34 / 0.72 ---- 10.26 / 2.47 ---- 38.8 / 0.66\n",
      "13.615705299377442 : 30     100.0 / 30.0 ---- 14.34 / 0.77 ---- 10.26 / 2.65 ---- 38.8 / 0.71\n",
      "13.80679461479187 : 31     100.0 / 31.0 ---- 14.34 / 0.81 ---- 10.26 / 2.73 ---- 38.8 / 0.74\n",
      "14.045513916015626 : 32     100.0 / 32.0 ---- 14.34 / 0.87 ---- 10.26 / 2.85 ---- 38.8 / 0.77\n",
      "14.257535820007325 : 33     100.0 / 33.0 ---- 14.34 / 0.89 ---- 10.26 / 3.0 ---- 38.8 / 0.8\n",
      "14.450509490966798 : 34     100.0 / 34.0 ---- 14.34 / 0.93 ---- 10.26 / 3.11 ---- 38.8 / 0.83\n",
      "14.678179454803463 : 35     100.0 / 35.0 ---- 14.34 / 0.97 ---- 10.26 / 3.2 ---- 38.8 / 0.88\n",
      "14.906586380004882 : 36     100.0 / 36.0 ---- 14.34 / 1.0 ---- 10.26 / 3.3 ---- 38.8 / 0.92\n",
      "15.12337890625 : 37     100.0 / 37.0 ---- 14.34 / 1.02 ---- 10.26 / 3.4 ---- 38.8 / 0.96\n",
      "15.342659282684327 : 38     100.0 / 38.0 ---- 14.34 / 1.03 ---- 10.26 / 3.49 ---- 38.8 / 0.99\n",
      "15.557591161727906 : 39     100.0 / 39.0 ---- 14.34 / 1.05 ---- 10.26 / 3.55 ---- 38.8 / 1.01\n",
      "15.733736228942872 : 40     100.0 / 40.0 ---- 14.34 / 1.08 ---- 10.26 / 3.62 ---- 38.8 / 1.04\n",
      "15.955112342834472 : 41     100.0 / 41.0 ---- 14.34 / 1.15 ---- 10.26 / 3.76 ---- 38.8 / 1.08\n",
      "16.16531936645508 : 42     100.0 / 42.0 ---- 14.34 / 1.19 ---- 10.26 / 3.85 ---- 38.8 / 1.1\n",
      "16.383656158447266 : 43     100.0 / 43.0 ---- 14.34 / 1.23 ---- 10.26 / 3.95 ---- 38.8 / 1.13\n",
      "16.643562240600588 : 44     100.0 / 44.0 ---- 14.34 / 1.28 ---- 10.26 / 4.09 ---- 38.8 / 1.15\n",
      "16.864645385742186 : 45     100.0 / 45.0 ---- 14.34 / 1.35 ---- 10.26 / 4.19 ---- 38.8 / 1.17\n",
      "17.066826210021972 : 46     100.0 / 46.0 ---- 14.34 / 1.37 ---- 10.26 / 4.27 ---- 38.8 / 1.2\n",
      "17.31871534347534 : 47     100.0 / 47.0 ---- 14.34 / 1.42 ---- 10.26 / 4.4 ---- 38.8 / 1.22\n",
      "17.524869232177736 : 48     100.0 / 48.0 ---- 14.34 / 1.44 ---- 10.26 / 4.56 ---- 38.8 / 1.24\n",
      "17.76607988357544 : 49     100.0 / 49.0 ---- 14.34 / 1.53 ---- 10.26 / 4.65 ---- 38.8 / 1.26\n",
      "18.00928783416748 : 50     100.0 / 50.0 ---- 14.34 / 1.58 ---- 10.26 / 4.74 ---- 38.8 / 1.31\n",
      "18.232361221313475 : 51     100.0 / 51.0 ---- 14.34 / 1.67 ---- 10.26 / 4.86 ---- 38.8 / 1.34\n",
      "18.49757522583008 : 52     100.0 / 52.0 ---- 14.34 / 1.72 ---- 10.26 / 4.96 ---- 38.8 / 1.39\n",
      "18.733574581146243 : 53     100.0 / 53.0 ---- 14.34 / 1.74 ---- 10.26 / 4.99 ---- 38.8 / 1.4\n",
      "18.976952362060548 : 54     100.0 / 54.0 ---- 14.34 / 1.81 ---- 10.26 / 5.1 ---- 38.8 / 1.41\n",
      "19.284416389465335 : 55     100.0 / 55.0 ---- 14.34 / 1.86 ---- 10.26 / 5.2 ---- 38.8 / 1.45\n",
      "19.55856719970703 : 56     100.0 / 56.0 ---- 14.34 / 1.96 ---- 10.26 / 5.34 ---- 38.8 / 1.49\n",
      "19.80825916290283 : 57     100.0 / 57.0 ---- 14.34 / 2.01 ---- 10.26 / 5.42 ---- 38.8 / 1.52\n",
      "20.03528995513916 : 58     100.0 / 58.0 ---- 14.34 / 2.08 ---- 10.26 / 5.5 ---- 38.8 / 1.57\n",
      "20.256866607666016 : 59     100.0 / 59.0 ---- 14.34 / 2.18 ---- 10.26 / 5.57 ---- 38.8 / 1.59\n",
      "20.580389404296874 : 60     100.0 / 60.0 ---- 14.34 / 2.27 ---- 10.26 / 5.75 ---- 38.8 / 1.65\n",
      "20.874776191711426 : 61     100.0 / 61.0 ---- 14.34 / 2.4 ---- 10.26 / 5.82 ---- 38.8 / 1.72\n",
      "21.11099311828613 : 62     100.0 / 62.0 ---- 14.34 / 2.48 ---- 10.26 / 5.89 ---- 38.8 / 1.78\n",
      "21.354556541442868 : 63     100.0 / 63.0 ---- 14.34 / 2.53 ---- 10.26 / 5.99 ---- 38.8 / 1.82\n",
      "21.702957305908203 : 64     100.0 / 64.0 ---- 14.34 / 2.71 ---- 10.26 / 6.13 ---- 38.8 / 1.91\n",
      "22.11586790084839 : 65     100.0 / 65.0 ---- 14.34 / 2.8 ---- 10.26 / 6.26 ---- 38.8 / 1.97\n",
      "22.450708618164064 : 66     100.0 / 66.0 ---- 14.34 / 2.94 ---- 10.26 / 6.39 ---- 38.8 / 2.04\n",
      "22.742059097290042 : 67     100.0 / 67.0 ---- 14.34 / 3.06 ---- 10.26 / 6.48 ---- 38.8 / 2.08\n",
      "23.02871368408203 : 68     100.0 / 68.0 ---- 14.34 / 3.12 ---- 10.26 / 6.58 ---- 38.8 / 2.14\n",
      "23.421835365295408 : 69     100.0 / 69.0 ---- 14.34 / 3.26 ---- 10.26 / 6.74 ---- 38.8 / 2.24\n",
      "23.81440773010254 : 70     100.0 / 70.0 ---- 14.34 / 3.47 ---- 10.26 / 6.8 ---- 38.8 / 2.38\n",
      "24.204197311401366 : 71     100.0 / 71.0 ---- 14.34 / 3.59 ---- 10.26 / 6.93 ---- 38.8 / 2.49\n",
      "24.569070892333986 : 72     100.0 / 72.0 ---- 14.34 / 3.72 ---- 10.26 / 7.04 ---- 38.8 / 2.55\n",
      "24.971985492706295 : 73     100.0 / 73.0 ---- 14.34 / 3.86 ---- 10.26 / 7.17 ---- 38.8 / 2.71\n",
      "25.4302653503418 : 74     100.0 / 74.0 ---- 14.34 / 4.08 ---- 10.26 / 7.26 ---- 38.8 / 2.86\n",
      "25.822673797607422 : 75     100.0 / 75.0 ---- 14.34 / 4.21 ---- 10.26 / 7.33 ---- 38.8 / 2.99\n",
      "26.273953704833986 : 76     100.0 / 76.0 ---- 14.34 / 4.4 ---- 10.26 / 7.44 ---- 38.8 / 3.12\n",
      "26.757142543792725 : 77     100.0 / 77.0 ---- 14.34 / 4.6 ---- 10.26 / 7.61 ---- 38.8 / 3.35\n",
      "27.20389965057373 : 78     100.0 / 78.0 ---- 14.34 / 4.77 ---- 10.26 / 7.76 ---- 38.8 / 3.44\n",
      "27.596512336730957 : 79     100.0 / 79.0 ---- 14.34 / 4.92 ---- 10.26 / 7.83 ---- 38.8 / 3.62\n",
      "28.042115783691408 : 80     100.0 / 80.0 ---- 14.34 / 5.11 ---- 10.26 / 7.92 ---- 38.8 / 3.86\n",
      "28.568709888458255 : 81     100.0 / 81.0 ---- 14.34 / 5.29 ---- 10.26 / 8.06 ---- 38.8 / 4.04\n",
      "29.080122795104984 : 82     100.0 / 82.0 ---- 14.34 / 5.46 ---- 10.26 / 8.15 ---- 38.8 / 4.22\n",
      "29.65487071990967 : 83     100.0 / 83.0 ---- 14.34 / 5.66 ---- 10.26 / 8.24 ---- 38.8 / 4.38\n",
      "30.295313568115233 : 84     100.0 / 84.0 ---- 14.34 / 5.94 ---- 10.26 / 8.31 ---- 38.8 / 4.58\n",
      "30.987303829193117 : 85     100.0 / 85.0 ---- 14.34 / 6.24 ---- 10.26 / 8.4 ---- 38.8 / 4.88\n",
      "31.78602111816406 : 86     100.0 / 86.0 ---- 14.34 / 6.56 ---- 10.26 / 8.53 ---- 38.8 / 5.21\n",
      "32.65872322082518 : 87     100.0 / 87.0 ---- 14.34 / 6.85 ---- 10.26 / 8.62 ---- 38.8 / 5.62\n",
      "33.36220855712891 : 88     100.0 / 88.0 ---- 14.34 / 7.13 ---- 10.26 / 8.74 ---- 38.8 / 5.85\n",
      "34.51204349517823 : 89     100.0 / 89.0 ---- 14.34 / 7.5 ---- 10.26 / 8.85 ---- 38.8 / 6.27\n",
      "35.49769821166993 : 90     100.0 / 90.0 ---- 14.34 / 7.84 ---- 10.26 / 8.97 ---- 38.8 / 6.67\n",
      "36.65324825286866 : 91     100.0 / 91.0 ---- 14.34 / 8.21 ---- 10.26 / 9.07 ---- 38.8 / 7.13\n",
      "37.91901412963867 : 92     100.0 / 92.0 ---- 14.34 / 8.71 ---- 10.26 / 9.22 ---- 38.8 / 7.65\n",
      "39.47018123626709 : 93     100.0 / 93.0 ---- 14.34 / 9.13 ---- 10.26 / 9.4 ---- 38.8 / 8.28\n",
      "41.53059364318847 : 94     100.0 / 94.0 ---- 14.34 / 9.59 ---- 10.26 / 9.47 ---- 38.8 / 9.3\n",
      "43.48819847106934 : 95     100.0 / 95.0 ---- 14.34 / 10.0 ---- 10.26 / 9.57 ---- 38.8 / 10.09\n",
      "45.7792402648925 : 96     100.0 / 96.0 ---- 14.34 / 10.49 ---- 10.26 / 9.7 ---- 38.8 / 11.06\n",
      "48.72581954956053 : 97     100.0 / 97.0 ---- 14.34 / 11.03 ---- 10.26 / 9.88 ---- 38.8 / 12.45\n",
      "53.180614471435575 : 98     100.0 / 98.0 ---- 14.34 / 11.77 ---- 10.26 / 10.05 ---- 38.8 / 14.64\n",
      "59.44030559539798 : 99     100.0 / 99.0 ---- 14.34 / 12.48 ---- 10.26 / 10.09 ---- 38.8 / 17.92\n"
     ]
    }
   ],
   "source": [
    "# Und_L2_Targeted_Capsnet = Und_L2\n",
    "for i in range(0,100):\n",
    "    Attack_Table(Und_L2, i)"
   ]
  },
  {
   "cell_type": "code",
   "execution_count": 25,
   "metadata": {},
   "outputs": [],
   "source": [
    "np.save('Und_L2_Targeted_Capsnet.npy', Und_L2_Targeted_Capsnet)\n",
    "np.save('Und_L2_Untargeted_Capsnet.npy', Und_L2_Untargeted_Capsnet)"
   ]
  },
  {
   "cell_type": "markdown",
   "metadata": {},
   "source": [
    "## Histograms for CNN + CR"
   ]
  },
  {
   "cell_type": "code",
   "execution_count": 26,
   "metadata": {},
   "outputs": [],
   "source": [
    "args = {\n",
    "    'DATASET_NAME':'mnist',\n",
    "    'num_classes':10,\n",
    "    \n",
    "    'USE_CUDA': True if torch.cuda.is_available() else False,\n",
    "    'BATCH_SIZE': 256,\n",
    "    'N_EPOCHS': 100,\n",
    "    'LEARNING_RATE_1': 1e-2,\n",
    "    'LEARNING_RATE_2': 1e-2,\n",
    "    'WEIGHTDECAY':5e-6,\n",
    "    \n",
    "    #Scheduler\n",
    "    'USE_SCHEDULER':True,\n",
    "    'sched_milestones':[8,20,30,40,50],\n",
    "    'sched_gamma':0.1,\n",
    "    \n",
    "    #Loss Function\n",
    "    'LAMBDA_recon': 0.5,\n",
    "    'LAMBDA_class': 1,\n",
    "    \n",
    "    #For Decoder\n",
    "    'num_features':160,\n",
    "    'LReLU_negative_slope':0.1,\n",
    "    'input_height':28,\n",
    "    'input_width':28,\n",
    "    'input_channel':1,\n",
    "    'type':'plusCR',\n",
    "    \n",
    "}"
   ]
  },
  {
   "cell_type": "code",
   "execution_count": 27,
   "metadata": {},
   "outputs": [],
   "source": [
    "class Config:\n",
    "    def __init__(self, dataset='mnist'):\n",
    "        # CONV1\n",
    "        self.conv1_in = 1\n",
    "        self.conv1_out = 12\n",
    "        self.conv1_kernel_size = 15\n",
    "\n",
    "        # CONV2\n",
    "        self.conv2_in = 12\n",
    "        self.conv2_out = 16\n",
    "        self.conv2_kernel_size = 8\n",
    "\n",
    "        # FC1\n",
    "        self.fc1_in = 7 * 7 * 16\n",
    "        self.fc1_out = 784\n",
    "        \n",
    "        # FC1\n",
    "        self.fc2_in = 784\n",
    "        self.fc2_out = 160\n",
    "\n",
    "torch.manual_seed(2)\n",
    "config = Config()\n",
    "\n",
    "net = CNNnet(args, config)\n",
    "\n",
    "# net = torch.nn.DataParallel(net)\n",
    "net.load_state_dict(torch.load(os.path.join(model_path, 'CNNplusCR_mnist.pth'), map_location='cpu'))\n",
    "    \n",
    "if args['USE_CUDA']:\n",
    "    net = net.cuda()\n",
    "    "
   ]
  },
  {
   "cell_type": "code",
   "execution_count": 28,
   "metadata": {},
   "outputs": [],
   "source": [
    "import matplotlib.pyplot as plt\n",
    "from advertorch.attacks import LinfPGDAttack, GradientSignAttack, CarliniWagnerL2Attack, LinfBasicIterativeAttack\n",
    "\n",
    "class Model_for_Adversary(nn.Module):\n",
    "    def __init__(self, net):\n",
    "        super(Model_for_Adversary, self).__init__()\n",
    "        self.net = net\n",
    "        \n",
    "    def forward(self, x):\n",
    "        output, recons, masked = self.net(x)\n",
    "        classes = output.sum(2)\n",
    "        return classes\n",
    "    \n",
    "# def WhiteBox_Attacks_Targeted(net, dataloader, adversary_dict, args):\n",
    "#     net.eval()\n",
    "#     n_batch = len(dataloader)\n",
    "#     Success_Rate = {key:0.0 for key in adversary_dict.keys()}\n",
    "#     Undetected_Rate = {key:0.0 for key in adversary_dict.keys()}\n",
    "#     Und_l2 = {key:torch.tensor([],dtype=torch.int16).cuda() for key in adversary_dict.keys()}\n",
    "#     for adversary in adversary_dict.keys():\n",
    "#         for batch_id, (data, labels) in enumerate(tqdm(dataloader)):\n",
    "#             target = torch.randint(0,10,size=(labels.size(0),), dtype=labels.dtype).cuda()\n",
    "#             if(args['USE_CUDA']):\n",
    "#                 data, labels = data.cuda(), labels.cuda()\n",
    "\n",
    "#             adv_data = adversary_dict[adversary].perturb(data, target)\n",
    "#             with torch.no_grad():\n",
    "#                 output, reconstructions, max_length_indices = net(adv_data)\n",
    "#                 unnormalized_data = net.decoder.unnormalize(adv_data)\n",
    "#                 l2_distances = ((reconstructions.view(adv_data.size(0),-1)-unnormalized_data.view(adv_data.size(0), -1))**2).sum(1).squeeze().detach()\n",
    "#                 theta = np.percentile(l2_distances.cpu().numpy(), 95)\n",
    "#                 Und_l2[adversary] = torch.cat((Und_l2[adversary],l2_distances[max_length_indices == target]))\n",
    "#                 Success_Rate[adversary]+=torch.sum(max_length_indices == target).item()\n",
    "#                 Undetected_Rate[adversary]+=torch.sum(l2_distances[max_length_indices==target]<=theta).item()\n",
    "#         Und_l2[adversary] = Und_l2[adversary].cpu().numpy()\n",
    "#         Success_Rate[adversary]/=100\n",
    "#         Undetected_Rate[adversary]/=100\n",
    "#     return Success_Rate, Undetected_Rate, Und_l2\n",
    "\n",
    "# def WhiteBox_Attacks_Untargeted(net, dataloader, adversary_dict, args):\n",
    "#     net.eval()\n",
    "#     n_batch = len(dataloader)\n",
    "#     Success_Rate = {key:0.0 for key in adversary_dict.keys()}\n",
    "#     Undetected_Rate = {key:0.0 for key in adversary_dict.keys()}\n",
    "#     Und_l2 = {key:torch.tensor([],dtype=torch.int16).cuda() for key in adversary_dict.keys()}\n",
    "#     for adversary in adversary_dict.keys():\n",
    "#         for batch_id, (data, labels) in enumerate(tqdm(dataloader)):\n",
    "#             if(args['USE_CUDA']):\n",
    "#                 data, labels = data.cuda(), labels.cuda()\n",
    "\n",
    "#             adv_data = adversary_dict[adversary].perturb(data)\n",
    "#             with torch.no_grad():\n",
    "#                 output, reconstructions, max_length_indices = net(adv_data)\n",
    "#                 unnormalized_data = net.decoder.unnormalize(adv_data)\n",
    "#                 l2_distances = ((reconstructions.view(adv_data.size(0),-1)-unnormalized_data.view(adv_data.size(0), -1))**2).sum(1).squeeze().detach()\n",
    "#                 theta = np.percentile(l2_distances.cpu().numpy(), 95)\n",
    "#                 Und_l2[adversary] = torch.cat((Und_l2[adversary],l2_distances[max_length_indices != labels]))\n",
    "#                 Success_Rate[adversary]+=torch.sum(max_length_indices != labels).item()\n",
    "#                 Undetected_Rate[adversary]+=torch.sum(l2_distances[max_length_indices!=labels]<=theta).item()\n",
    "# #                 print(Success_Rate[adversary])\n",
    "# #                 print(Undetected_Rate[adversary])\n",
    "# #                 print(theta)\n",
    "#         Und_l2[adversary] = Und_l2[adversary].cpu().numpy() \n",
    "#         Success_Rate[adversary]/=100\n",
    "#         Undetected_Rate[adversary]/=100\n",
    "#     return Success_Rate, Undetected_Rate, Und_l2 \n"
   ]
  },
  {
   "cell_type": "code",
   "execution_count": 29,
   "metadata": {},
   "outputs": [
    {
     "name": "stderr",
     "output_type": "stream",
     "text": [
      "100%|██████████| 20/20 [00:01<00:00, 10.71it/s]\n",
      "100%|██████████| 20/20 [00:29<00:00,  1.48s/it]\n",
      "100%|██████████| 20/20 [00:01<00:00, 19.77it/s]\n",
      "100%|██████████| 20/20 [00:29<00:00,  1.50s/it]\n"
     ]
    }
   ],
   "source": [
    "from advertorch.attacks.base import Attack, LabelMixin\n",
    "from advertorch.utils import clamp\n",
    "\n",
    "class CleanAttack(Attack, LabelMixin):\n",
    "    def __init__(self, clip_min=0., clip_max=1.):\n",
    "        super(CleanAttack, self).__init__(None, None, clip_min, clip_max)\n",
    "        self.clip_min = clip_min\n",
    "        self.clip_max = clip_max\n",
    "        self.targeted = False\n",
    "\n",
    "    def perturb(self, x, y=None):\n",
    "        xadv = x.requires_grad_()\n",
    "        xadv = clamp(xadv, self.clip_min, self.clip_max)\n",
    "        return xadv.detach()\n",
    "    \n",
    "model_for_adversary = Model_for_Adversary(net)\n",
    "    \n",
    "adversary_dict = {}\n",
    "adversary_dict['Clean'] = CleanAttack( clip_min=-0.4242, clip_max=2.8215)\n",
    "adversary_dict['PGD'] = LinfPGDAttack(\n",
    "    model_for_adversary, loss_fn=nn.CrossEntropyLoss(reduction=\"sum\"), eps=0.3,\n",
    "    nb_iter=100, eps_iter=0.01, rand_init=True, clip_min=-0.4242, clip_max=2.8215,\n",
    "    targeted=False)\n",
    "\n",
    "adversary_dict['FGSM'] = GradientSignAttack(model_for_adversary, loss_fn=nn.CrossEntropyLoss(reduction=\"sum\"), eps=0.3, clip_min=-0.4242, clip_max=2.8215, targeted=False)\n",
    "adversary_dict['BIM'] = LinfBasicIterativeAttack(model_for_adversary, loss_fn=nn.CrossEntropyLoss(reduction=\"sum\"), eps=0.05, nb_iter=100, eps_iter=0.01, clip_min=-0.4242, clip_max=2.8215, targeted=False)\n",
    "# adversary_dict['CW'] = CarliniWagnerL2Attack(model_for_adversary, num_classes=args['num_classes'], confidence=0, targeted=False, learning_rate=0.01, binary_search_steps=9, max_iterations=1000, abort_early=True, initial_const=0.001, clip_min=-0.4242, clip_max=2.8215, loss_fn=None)\n",
    "\n",
    "Success_Rate, Undetected_Rate, Und_L2 = WhiteBox_Attacks_Untargeted(net, testloader, adversary_dict, args)"
   ]
  },
  {
   "cell_type": "code",
   "execution_count": 30,
   "metadata": {},
   "outputs": [
    {
     "data": {
      "image/png": "[encoded data removed]",
      "text/plain": [
       "<Figure size 432x288 with 1 Axes>"
      ]
     },
     "metadata": {
      "needs_background": "light"
     },
     "output_type": "display_data"
    }
   ],
   "source": [
    "# Und_L2_Untargeted_plusCR = Und_L2\n",
    "for adversary in adversary_dict.keys():\n",
    "    if(adversary!='Clean'):\n",
    "        x = np.linspace(0, 100, 20)\n",
    "        z = np.array([np.sum(Und_L2['Clean']>((i_x/100))*(np.percentile(Und_L2['Clean'],95))).item()/100 for i_x in x])\n",
    "        y = np.array([np.sum(Und_L2[adversary]<=((i_x/100))*(np.percentile(Und_L2['Clean'],95))).item()/100 for i_x in x])\n",
    "        plt.plot(z, y, 'go-', label='line1', linewidth=2)"
   ]
  },
  {
   "cell_type": "code",
   "execution_count": 31,
   "metadata": {},
   "outputs": [
    {
     "name": "stdout",
     "output_type": "stream",
     "text": [
      "2.7746849060058594 : 0     100.0 / 0.01 ---- 31.25 / 0.0 ---- 9.51 / 0.0 ---- 73.67 / 0.0\n",
      "8.515640020370485 : 1     100.0 / 1.0 ---- 31.25 / 0.0 ---- 9.51 / 0.0 ---- 73.67 / 0.0\n",
      "10.074842834472657 : 2     100.0 / 2.0 ---- 31.25 / 0.0 ---- 9.51 / 0.0 ---- 73.67 / 0.0\n",
      "11.546662330627441 : 3     100.0 / 3.0 ---- 31.25 / 0.0 ---- 9.51 / 0.0 ---- 73.67 / 0.0\n",
      "13.100967102050781 : 4     100.0 / 4.0 ---- 31.25 / 0.01 ---- 9.51 / 0.0 ---- 73.67 / 0.0\n",
      "14.224589586257935 : 5     100.0 / 5.0 ---- 31.25 / 0.01 ---- 9.51 / 0.0 ---- 73.67 / 0.0\n",
      "15.400987033843993 : 6     100.0 / 6.0 ---- 31.25 / 0.01 ---- 9.51 / 0.0 ---- 73.67 / 0.0\n",
      "16.461653347015382 : 7     100.0 / 7.0 ---- 31.25 / 0.01 ---- 9.51 / 0.0 ---- 73.67 / 0.0\n",
      "17.647092437744142 : 8     100.0 / 8.0 ---- 31.25 / 0.02 ---- 9.51 / 0.0 ---- 73.67 / 0.01\n",
      "18.75111270904541 : 9     100.0 / 9.0 ---- 31.25 / 0.02 ---- 9.51 / 0.01 ---- 73.67 / 0.01\n",
      "19.805533409118652 : 10     100.0 / 10.0 ---- 31.25 / 0.02 ---- 9.51 / 0.01 ---- 73.67 / 0.02\n",
      "20.68025379180908 : 11     100.0 / 11.0 ---- 31.25 / 0.03 ---- 9.51 / 0.01 ---- 73.67 / 0.02\n",
      "21.617152099609374 : 12     100.0 / 12.0 ---- 31.25 / 0.05 ---- 9.51 / 0.01 ---- 73.67 / 0.02\n",
      "22.466613960266113 : 13     100.0 / 13.0 ---- 31.25 / 0.07 ---- 9.51 / 0.02 ---- 73.67 / 0.03\n",
      "23.333695068359376 : 14     100.0 / 14.0 ---- 31.25 / 0.08 ---- 9.51 / 0.02 ---- 73.67 / 0.05\n",
      "24.136037254333495 : 15     100.0 / 15.0 ---- 31.25 / 0.1 ---- 9.51 / 0.03 ---- 73.67 / 0.06\n",
      "24.944164276123047 : 16     100.0 / 16.0 ---- 31.25 / 0.11 ---- 9.51 / 0.04 ---- 73.67 / 0.08\n",
      "25.606516914367674 : 17     100.0 / 17.0 ---- 31.25 / 0.11 ---- 9.51 / 0.04 ---- 73.67 / 0.08\n",
      "26.281262130737304 : 18     100.0 / 18.0 ---- 31.25 / 0.12 ---- 9.51 / 0.05 ---- 73.67 / 0.1\n",
      "26.96210988998413 : 19     100.0 / 19.0 ---- 31.25 / 0.13 ---- 9.51 / 0.05 ---- 73.67 / 0.13\n",
      "27.703244018554688 : 20     100.0 / 20.0 ---- 31.25 / 0.15 ---- 9.51 / 0.08 ---- 73.67 / 0.14\n",
      "28.27797267913818 : 21     100.0 / 21.0 ---- 31.25 / 0.17 ---- 9.51 / 0.12 ---- 73.67 / 0.18\n",
      "29.08923168182373 : 22     100.0 / 22.0 ---- 31.25 / 0.19 ---- 9.51 / 0.15 ---- 73.67 / 0.2\n",
      "29.889974422454834 : 23     100.0 / 23.0 ---- 31.25 / 0.23 ---- 9.51 / 0.18 ---- 73.67 / 0.25\n",
      "30.484470062255856 : 24     100.0 / 24.0 ---- 31.25 / 0.23 ---- 9.51 / 0.18 ---- 73.67 / 0.28\n",
      "31.10537052154541 : 25     100.0 / 25.0 ---- 31.25 / 0.27 ---- 9.51 / 0.2 ---- 73.67 / 0.34\n",
      "31.806464767456056 : 26     100.0 / 26.0 ---- 31.25 / 0.33 ---- 9.51 / 0.21 ---- 73.67 / 0.41\n",
      "32.516153717041014 : 27     100.0 / 27.0 ---- 31.25 / 0.36 ---- 9.51 / 0.23 ---- 73.67 / 0.48\n",
      "33.14704818725586 : 28     100.0 / 28.0 ---- 31.25 / 0.42 ---- 9.51 / 0.25 ---- 73.67 / 0.54\n",
      "33.814752883911126 : 29     100.0 / 29.0 ---- 31.25 / 0.45 ---- 9.51 / 0.3 ---- 73.67 / 0.66\n",
      "34.49502944946288 : 30     100.0 / 30.0 ---- 31.25 / 0.52 ---- 9.51 / 0.31 ---- 73.67 / 0.73\n",
      "35.156890106201175 : 31     100.0 / 31.0 ---- 31.25 / 0.53 ---- 9.51 / 0.34 ---- 73.67 / 0.86\n",
      "35.78680633544922 : 32     100.0 / 32.0 ---- 31.25 / 0.57 ---- 9.51 / 0.39 ---- 73.67 / 1.0\n",
      "36.446316986083986 : 33     100.0 / 33.0 ---- 31.25 / 0.6 ---- 9.51 / 0.41 ---- 73.67 / 1.08\n",
      "37.030288238525394 : 34     100.0 / 34.0 ---- 31.25 / 0.68 ---- 9.51 / 0.45 ---- 73.67 / 1.18\n",
      "37.54524059295654 : 35     100.0 / 35.0 ---- 31.25 / 0.75 ---- 9.51 / 0.48 ---- 73.67 / 1.19\n",
      "38.079267272949224 : 36     100.0 / 36.0 ---- 31.25 / 0.82 ---- 9.51 / 0.54 ---- 73.67 / 1.27\n",
      "38.60024909973144 : 37     100.0 / 37.0 ---- 31.25 / 0.91 ---- 9.51 / 0.56 ---- 73.67 / 1.38\n",
      "39.244817886352536 : 38     100.0 / 38.0 ---- 31.25 / 0.98 ---- 9.51 / 0.57 ---- 73.67 / 1.51\n",
      "39.776434402465824 : 39     100.0 / 39.0 ---- 31.25 / 1.05 ---- 9.51 / 0.59 ---- 73.67 / 1.64\n",
      "40.31428756713867 : 40     100.0 / 40.0 ---- 31.25 / 1.16 ---- 9.51 / 0.61 ---- 73.67 / 1.77\n",
      "40.873103065490724 : 41     100.0 / 41.0 ---- 31.25 / 1.24 ---- 9.51 / 0.64 ---- 73.67 / 1.9\n",
      "41.45714393615722 : 42     100.0 / 42.0 ---- 31.25 / 1.31 ---- 9.51 / 0.67 ---- 73.67 / 2.04\n",
      "41.97027267456055 : 43     100.0 / 43.0 ---- 31.25 / 1.43 ---- 9.51 / 0.7 ---- 73.67 / 2.17\n",
      "42.590729522705075 : 44     100.0 / 44.0 ---- 31.25 / 1.54 ---- 9.51 / 0.78 ---- 73.67 / 2.38\n",
      "43.22928028106689 : 45     100.0 / 45.0 ---- 31.25 / 1.62 ---- 9.51 / 0.82 ---- 73.67 / 2.49\n",
      "43.79301033020019 : 46     100.0 / 46.0 ---- 31.25 / 1.76 ---- 9.51 / 0.82 ---- 73.67 / 2.62\n",
      "44.40771842956543 : 47     100.0 / 47.0 ---- 31.25 / 1.87 ---- 9.51 / 0.91 ---- 73.67 / 2.97\n",
      "44.97940551757812 : 48     100.0 / 48.0 ---- 31.25 / 1.97 ---- 9.51 / 0.95 ---- 73.67 / 3.24\n",
      "45.521131172180176 : 49     100.0 / 49.0 ---- 31.25 / 2.04 ---- 9.51 / 1.0 ---- 73.67 / 3.44\n",
      "46.12642478942871 : 50     100.0 / 50.0 ---- 31.25 / 2.25 ---- 9.51 / 1.05 ---- 73.67 / 3.65\n",
      "46.75130111694335 : 51     100.0 / 51.0 ---- 31.25 / 2.37 ---- 9.51 / 1.11 ---- 73.67 / 3.9\n",
      "47.30379638671876 : 52     100.0 / 52.0 ---- 31.25 / 2.52 ---- 9.51 / 1.18 ---- 73.67 / 4.04\n",
      "47.89283199310303 : 53     100.0 / 53.0 ---- 31.25 / 2.64 ---- 9.51 / 1.24 ---- 73.67 / 4.27\n",
      "48.3965055847168 : 54     100.0 / 54.0 ---- 31.25 / 2.75 ---- 9.51 / 1.26 ---- 73.67 / 4.42\n",
      "48.96751117706299 : 55     100.0 / 55.0 ---- 31.25 / 2.93 ---- 9.51 / 1.35 ---- 73.67 / 4.72\n",
      "49.62687088012696 : 56     100.0 / 56.0 ---- 31.25 / 3.16 ---- 9.51 / 1.41 ---- 73.67 / 5.14\n",
      "50.303109588623045 : 57     100.0 / 57.0 ---- 31.25 / 3.36 ---- 9.51 / 1.48 ---- 73.67 / 5.41\n",
      "50.830842132568336 : 58     100.0 / 58.0 ---- 31.25 / 3.49 ---- 9.51 / 1.55 ---- 73.67 / 5.68\n",
      "51.378532791137694 : 59     100.0 / 59.0 ---- 31.25 / 3.62 ---- 9.51 / 1.55 ---- 73.67 / 6.0\n",
      "52.01376113891601 : 60     100.0 / 60.0 ---- 31.25 / 3.86 ---- 9.51 / 1.61 ---- 73.67 / 6.41\n",
      "52.68742134094237 : 61     100.0 / 61.0 ---- 31.25 / 4.07 ---- 9.51 / 1.67 ---- 73.67 / 6.79\n",
      "53.2547900390625 : 62     100.0 / 62.0 ---- 31.25 / 4.32 ---- 9.51 / 1.74 ---- 73.67 / 7.22\n",
      "53.967601280212406 : 63     100.0 / 63.0 ---- 31.25 / 4.62 ---- 9.51 / 1.8 ---- 73.67 / 7.58\n",
      "54.76216461181642 : 64     100.0 / 64.0 ---- 31.25 / 4.89 ---- 9.51 / 1.88 ---- 73.67 / 8.16\n",
      "55.498649024963385 : 65     100.0 / 65.0 ---- 31.25 / 5.16 ---- 9.51 / 1.97 ---- 73.67 / 8.64\n",
      "56.21144493103028 : 66     100.0 / 66.0 ---- 31.25 / 5.38 ---- 9.51 / 2.06 ---- 73.67 / 9.01\n",
      "56.847974700927736 : 67     100.0 / 67.0 ---- 31.25 / 5.67 ---- 9.51 / 2.13 ---- 73.67 / 9.36\n",
      "57.61223175048828 : 68     100.0 / 68.0 ---- 31.25 / 5.92 ---- 9.51 / 2.19 ---- 73.67 / 9.98\n",
      "58.29096160888671 : 69     100.0 / 69.0 ---- 31.25 / 6.19 ---- 9.51 / 2.24 ---- 73.67 / 10.5\n",
      "59.10442352294922 : 70     100.0 / 70.0 ---- 31.25 / 6.58 ---- 9.51 / 2.28 ---- 73.67 / 11.22\n",
      "60.03507171630859 : 71     100.0 / 71.0 ---- 31.25 / 7.0 ---- 9.51 / 2.38 ---- 73.67 / 12.15\n",
      "60.757173156738276 : 72     100.0 / 72.0 ---- 31.25 / 7.29 ---- 9.51 / 2.55 ---- 73.67 / 12.76\n",
      "61.478829498291006 : 73     100.0 / 73.0 ---- 31.25 / 7.63 ---- 9.51 / 2.7 ---- 73.67 / 13.44\n",
      "62.47547019958496 : 74     100.0 / 74.0 ---- 31.25 / 8.08 ---- 9.51 / 2.8 ---- 73.67 / 14.28\n",
      "63.36193561553955 : 75     100.0 / 75.0 ---- 31.25 / 8.56 ---- 9.51 / 2.88 ---- 73.67 / 14.96\n",
      "64.343310546875 : 76     100.0 / 76.0 ---- 31.25 / 9.06 ---- 9.51 / 3.01 ---- 73.67 / 15.92\n",
      "65.23594024658203 : 77     100.0 / 77.0 ---- 31.25 / 9.43 ---- 9.51 / 3.07 ---- 73.67 / 16.65\n",
      "66.2147737121582 : 78     100.0 / 78.0 ---- 31.25 / 9.84 ---- 9.51 / 3.24 ---- 73.67 / 17.68\n",
      "67.12719802856445 : 79     100.0 / 79.0 ---- 31.25 / 10.24 ---- 9.51 / 3.42 ---- 73.67 / 18.63\n",
      "68.01257934570313 : 80     100.0 / 80.0 ---- 31.25 / 10.67 ---- 9.51 / 3.56 ---- 73.67 / 19.59\n",
      "69.10615837097168 : 81     100.0 / 81.0 ---- 31.25 / 11.14 ---- 9.51 / 3.83 ---- 73.67 / 20.99\n",
      "70.32841033935547 : 82     100.0 / 82.0 ---- 31.25 / 11.83 ---- 9.51 / 4.06 ---- 73.67 / 22.27\n",
      "71.51100494384765 : 83     100.0 / 83.0 ---- 31.25 / 12.51 ---- 9.51 / 4.26 ---- 73.67 / 23.58\n",
      "72.64313781738281 : 84     100.0 / 84.0 ---- 31.25 / 13.07 ---- 9.51 / 4.47 ---- 73.67 / 24.74\n",
      "74.0175365447998 : 85     100.0 / 85.0 ---- 31.25 / 13.87 ---- 9.51 / 4.64 ---- 73.67 / 26.27\n",
      "75.28662399291991 : 86     100.0 / 86.0 ---- 31.25 / 14.53 ---- 9.51 / 4.8 ---- 73.67 / 27.7\n",
      "76.67752143859862 : 87     100.0 / 87.0 ---- 31.25 / 15.18 ---- 9.51 / 4.97 ---- 73.67 / 29.22\n",
      "78.55611145019532 : 88     100.0 / 88.0 ---- 31.25 / 16.21 ---- 9.51 / 5.26 ---- 73.67 / 31.36\n",
      "80.41644332885744 : 89     100.0 / 89.0 ---- 31.25 / 17.14 ---- 9.51 / 5.52 ---- 73.67 / 33.16\n",
      "82.28877487182618 : 90     100.0 / 90.0 ---- 31.25 / 18.19 ---- 9.51 / 5.82 ---- 73.67 / 35.61\n",
      "84.50210372924805 : 91     100.0 / 91.0 ---- 31.25 / 19.1 ---- 9.51 / 6.07 ---- 73.67 / 38.1\n",
      "86.88557189941406 : 92     100.0 / 92.0 ---- 31.25 / 20.32 ---- 9.51 / 6.37 ---- 73.67 / 40.94\n",
      "89.45489006042479 : 93     100.0 / 93.0 ---- 31.25 / 21.32 ---- 9.51 / 6.64 ---- 73.67 / 43.75\n",
      "92.08520538330073 : 94     100.0 / 94.0 ---- 31.25 / 22.46 ---- 9.51 / 6.89 ---- 73.67 / 46.41\n",
      "95.3958015441894 : 95     100.0 / 95.0 ---- 31.25 / 23.61 ---- 9.51 / 7.21 ---- 73.67 / 49.7\n",
      "99.91288146972637 : 96     100.0 / 96.0 ---- 31.25 / 24.88 ---- 9.51 / 7.6 ---- 73.67 / 53.7\n",
      "105.13967544555658 : 97     100.0 / 97.0 ---- 31.25 / 26.42 ---- 9.51 / 7.89 ---- 73.67 / 58.04\n",
      "111.54011810302737 : 98     100.0 / 98.0 ---- 31.25 / 28.02 ---- 9.51 / 8.32 ---- 73.67 / 62.39\n",
      "120.94232124328619 : 99     100.0 / 99.0 ---- 31.25 / 29.41 ---- 9.51 / 8.78 ---- 73.67 / 67.19\n"
     ]
    }
   ],
   "source": [
    "for i in range(0,100):\n",
    "    Attack_Table(Und_L2, i)"
   ]
  },
  {
   "cell_type": "code",
   "execution_count": 32,
   "metadata": {
    "scrolled": true
   },
   "outputs": [
    {
     "name": "stderr",
     "output_type": "stream",
     "text": [
      "100%|██████████| 20/20 [00:00<00:00, 20.28it/s]\n",
      "100%|██████████| 20/20 [00:29<00:00,  1.47s/it]\n",
      "100%|██████████| 20/20 [00:01<00:00, 19.29it/s]\n",
      "100%|██████████| 20/20 [00:31<00:00,  1.58s/it]\n"
     ]
    }
   ],
   "source": [
    "model_for_adversary = Model_for_Adversary(net)\n",
    "    \n",
    "adversary_dict = {}\n",
    "adversary_dict['Clean'] = CleanAttack( clip_min=-0.4242, clip_max=2.8215)\n",
    "adversary_dict['PGD'] = LinfPGDAttack(\n",
    "    model_for_adversary, loss_fn=nn.CrossEntropyLoss(reduction=\"sum\"), eps=0.3,\n",
    "    nb_iter=100, eps_iter=0.01, rand_init=True, clip_min=-0.4242, clip_max=2.8215,\n",
    "    targeted=True)\n",
    "\n",
    "adversary_dict['FGSM'] = GradientSignAttack(model_for_adversary, loss_fn=nn.CrossEntropyLoss(reduction=\"sum\"), eps=0.3, clip_min=-0.4242, clip_max=2.8215, targeted=True)\n",
    "adversary_dict['BIM'] = LinfBasicIterativeAttack(model_for_adversary, loss_fn=nn.CrossEntropyLoss(reduction=\"sum\"), eps=0.05, nb_iter=100, eps_iter=0.01, clip_min=-0.4242, clip_max=2.8215, targeted=True)\n",
    "# adversary_dict['CW'] = CarliniWagnerL2Attack(model_for_adversary, num_classes=args['num_classes'], confidence=0, targeted=False, learning_rate=0.01, binary_search_steps=9, max_iterations=1000, abort_early=True, initial_const=0.001, clip_min=-0.4242, clip_max=2.8215, loss_fn=None)\n",
    "\n",
    "Success_Rate, Undetected_Rate, Und_L2 = WhiteBox_Attacks_Targeted(net, testloader, adversary_dict, args)"
   ]
  },
  {
   "cell_type": "code",
   "execution_count": 33,
   "metadata": {},
   "outputs": [
    {
     "data": {
      "image/png": "[encoded data removed]",
      "text/plain": [
       "<Figure size 432x288 with 1 Axes>"
      ]
     },
     "metadata": {
      "needs_background": "light"
     },
     "output_type": "display_data"
    }
   ],
   "source": [
    "# Und_L2_Targeted_plusCR = Und_L2\n",
    "for adversary in adversary_dict.keys():\n",
    "    if(adversary!='Clean'):\n",
    "        x = np.linspace(0, 100, 20)\n",
    "        z = np.array([np.sum(Und_L2['Clean']>((i_x/100))*(np.percentile(Und_L2['Clean'],95))).item()/100 for i_x in x])\n",
    "        y = np.array([np.sum(Und_L2[adversary]<=((i_x/100))*(np.percentile(Und_L2['Clean'],95))).item()/100 for i_x in x])\n",
    "        plt.plot(z, y, 'go-', label='line1', linewidth=2)"
   ]
  },
  {
   "cell_type": "code",
   "execution_count": 34,
   "metadata": {},
   "outputs": [
    {
     "name": "stdout",
     "output_type": "stream",
     "text": [
      "2.7746849060058594 : 0     100.0 / 0.01 ---- 15.78 / 0.0 ---- 11.8 / 0.0 ---- 48.19 / 0.0\n",
      "8.515640020370485 : 1     100.0 / 1.0 ---- 15.78 / 0.0 ---- 11.8 / 0.11 ---- 48.19 / 0.0\n",
      "10.074842834472657 : 2     100.0 / 2.0 ---- 15.78 / 0.0 ---- 11.8 / 0.26 ---- 48.19 / 0.02\n",
      "11.546662330627441 : 3     100.0 / 3.0 ---- 15.78 / 0.02 ---- 11.8 / 0.37 ---- 48.19 / 0.05\n",
      "13.100967102050781 : 4     100.0 / 4.0 ---- 15.78 / 0.06 ---- 11.8 / 0.5 ---- 48.19 / 0.11\n",
      "14.224589586257935 : 5     100.0 / 5.0 ---- 15.78 / 0.09 ---- 11.8 / 0.66 ---- 48.19 / 0.15\n",
      "15.400987033843993 : 6     100.0 / 6.0 ---- 15.78 / 0.13 ---- 11.8 / 0.83 ---- 48.19 / 0.21\n",
      "16.461653347015382 : 7     100.0 / 7.0 ---- 15.78 / 0.15 ---- 11.8 / 0.92 ---- 48.19 / 0.28\n",
      "17.647092437744142 : 8     100.0 / 8.0 ---- 15.78 / 0.2 ---- 11.8 / 0.98 ---- 48.19 / 0.38\n",
      "18.75111270904541 : 9     100.0 / 9.0 ---- 15.78 / 0.26 ---- 11.8 / 1.1 ---- 48.19 / 0.45\n",
      "19.805533409118652 : 10     100.0 / 10.0 ---- 15.78 / 0.33 ---- 11.8 / 1.18 ---- 48.19 / 0.52\n",
      "20.68025379180908 : 11     100.0 / 11.0 ---- 15.78 / 0.37 ---- 11.8 / 1.21 ---- 48.19 / 0.62\n",
      "21.617152099609374 : 12     100.0 / 12.0 ---- 15.78 / 0.42 ---- 11.8 / 1.33 ---- 48.19 / 0.67\n",
      "22.466613960266113 : 13     100.0 / 13.0 ---- 15.78 / 0.49 ---- 11.8 / 1.42 ---- 48.19 / 0.73\n",
      "23.333695068359376 : 14     100.0 / 14.0 ---- 15.78 / 0.55 ---- 11.8 / 1.53 ---- 48.19 / 0.79\n",
      "24.136037254333495 : 15     100.0 / 15.0 ---- 15.78 / 0.59 ---- 11.8 / 1.67 ---- 48.19 / 0.86\n",
      "24.944164276123047 : 16     100.0 / 16.0 ---- 15.78 / 0.62 ---- 11.8 / 1.79 ---- 48.19 / 0.99\n",
      "25.606516914367674 : 17     100.0 / 17.0 ---- 15.78 / 0.65 ---- 11.8 / 1.87 ---- 48.19 / 1.05\n",
      "26.281262130737304 : 18     100.0 / 18.0 ---- 15.78 / 0.71 ---- 11.8 / 2.0 ---- 48.19 / 1.09\n",
      "26.96210988998413 : 19     100.0 / 19.0 ---- 15.78 / 0.74 ---- 11.8 / 2.06 ---- 48.19 / 1.14\n",
      "27.703244018554688 : 20     100.0 / 20.0 ---- 15.78 / 0.8 ---- 11.8 / 2.17 ---- 48.19 / 1.28\n",
      "28.27797267913818 : 21     100.0 / 21.0 ---- 15.78 / 0.85 ---- 11.8 / 2.27 ---- 48.19 / 1.33\n",
      "29.08923168182373 : 22     100.0 / 22.0 ---- 15.78 / 0.99 ---- 11.8 / 2.42 ---- 48.19 / 1.43\n",
      "29.889974422454834 : 23     100.0 / 23.0 ---- 15.78 / 1.11 ---- 11.8 / 2.5 ---- 48.19 / 1.52\n",
      "30.484470062255856 : 24     100.0 / 24.0 ---- 15.78 / 1.16 ---- 11.8 / 2.6 ---- 48.19 / 1.61\n",
      "31.10537052154541 : 25     100.0 / 25.0 ---- 15.78 / 1.2 ---- 11.8 / 2.73 ---- 48.19 / 1.64\n",
      "31.806464767456056 : 26     100.0 / 26.0 ---- 15.78 / 1.3 ---- 11.8 / 2.83 ---- 48.19 / 1.77\n",
      "32.516153717041014 : 27     100.0 / 27.0 ---- 15.78 / 1.44 ---- 11.8 / 2.97 ---- 48.19 / 1.87\n",
      "33.14704818725586 : 28     100.0 / 28.0 ---- 15.78 / 1.52 ---- 11.8 / 3.09 ---- 48.19 / 2.01\n",
      "33.814752883911126 : 29     100.0 / 29.0 ---- 15.78 / 1.61 ---- 11.8 / 3.21 ---- 48.19 / 2.1\n",
      "34.49502944946288 : 30     100.0 / 30.0 ---- 15.78 / 1.68 ---- 11.8 / 3.31 ---- 48.19 / 2.2\n",
      "35.156890106201175 : 31     100.0 / 31.0 ---- 15.78 / 1.78 ---- 11.8 / 3.39 ---- 48.19 / 2.31\n",
      "35.78680633544922 : 32     100.0 / 32.0 ---- 15.78 / 1.89 ---- 11.8 / 3.5 ---- 48.19 / 2.45\n",
      "36.446316986083986 : 33     100.0 / 33.0 ---- 15.78 / 2.01 ---- 11.8 / 3.61 ---- 48.19 / 2.59\n",
      "37.030288238525394 : 34     100.0 / 34.0 ---- 15.78 / 2.13 ---- 11.8 / 3.68 ---- 48.19 / 2.72\n",
      "37.54524059295654 : 35     100.0 / 35.0 ---- 15.78 / 2.24 ---- 11.8 / 3.82 ---- 48.19 / 2.83\n",
      "38.079267272949224 : 36     100.0 / 36.0 ---- 15.78 / 2.34 ---- 11.8 / 3.98 ---- 48.19 / 2.95\n",
      "38.60024909973144 : 37     100.0 / 37.0 ---- 15.78 / 2.36 ---- 11.8 / 4.07 ---- 48.19 / 3.1\n",
      "39.244817886352536 : 38     100.0 / 38.0 ---- 15.78 / 2.46 ---- 11.8 / 4.17 ---- 48.19 / 3.26\n",
      "39.776434402465824 : 39     100.0 / 39.0 ---- 15.78 / 2.53 ---- 11.8 / 4.34 ---- 48.19 / 3.39\n",
      "40.31428756713867 : 40     100.0 / 40.0 ---- 15.78 / 2.65 ---- 11.8 / 4.45 ---- 48.19 / 3.53\n",
      "40.873103065490724 : 41     100.0 / 41.0 ---- 15.78 / 2.74 ---- 11.8 / 4.51 ---- 48.19 / 3.69\n",
      "41.45714393615722 : 42     100.0 / 42.0 ---- 15.78 / 2.82 ---- 11.8 / 4.66 ---- 48.19 / 3.88\n",
      "41.97027267456055 : 43     100.0 / 43.0 ---- 15.78 / 2.92 ---- 11.8 / 4.72 ---- 48.19 / 3.96\n",
      "42.590729522705075 : 44     100.0 / 44.0 ---- 15.78 / 2.99 ---- 11.8 / 4.8 ---- 48.19 / 4.19\n",
      "43.22928028106689 : 45     100.0 / 45.0 ---- 15.78 / 3.11 ---- 11.8 / 4.92 ---- 48.19 / 4.39\n",
      "43.79301033020019 : 46     100.0 / 46.0 ---- 15.78 / 3.24 ---- 11.8 / 5.0 ---- 48.19 / 4.6\n",
      "44.40771842956543 : 47     100.0 / 47.0 ---- 15.78 / 3.36 ---- 11.8 / 5.06 ---- 48.19 / 4.84\n",
      "44.97940551757812 : 48     100.0 / 48.0 ---- 15.78 / 3.44 ---- 11.8 / 5.2 ---- 48.19 / 5.1\n",
      "45.521131172180176 : 49     100.0 / 49.0 ---- 15.78 / 3.55 ---- 11.8 / 5.31 ---- 48.19 / 5.23\n",
      "46.12642478942871 : 50     100.0 / 50.0 ---- 15.78 / 3.62 ---- 11.8 / 5.45 ---- 48.19 / 5.43\n",
      "46.75130111694335 : 51     100.0 / 51.0 ---- 15.78 / 3.73 ---- 11.8 / 5.61 ---- 48.19 / 5.71\n",
      "47.30379638671876 : 52     100.0 / 52.0 ---- 15.78 / 3.91 ---- 11.8 / 5.69 ---- 48.19 / 5.88\n",
      "47.89283199310303 : 53     100.0 / 53.0 ---- 15.78 / 3.99 ---- 11.8 / 5.79 ---- 48.19 / 6.18\n",
      "48.3965055847168 : 54     100.0 / 54.0 ---- 15.78 / 4.07 ---- 11.8 / 5.89 ---- 48.19 / 6.41\n",
      "48.96751117706299 : 55     100.0 / 55.0 ---- 15.78 / 4.18 ---- 11.8 / 6.0 ---- 48.19 / 6.74\n",
      "49.62687088012696 : 56     100.0 / 56.0 ---- 15.78 / 4.38 ---- 11.8 / 6.11 ---- 48.19 / 7.0\n",
      "50.303109588623045 : 57     100.0 / 57.0 ---- 15.78 / 4.45 ---- 11.8 / 6.24 ---- 48.19 / 7.37\n",
      "50.830842132568336 : 58     100.0 / 58.0 ---- 15.78 / 4.54 ---- 11.8 / 6.32 ---- 48.19 / 7.71\n",
      "51.378532791137694 : 59     100.0 / 59.0 ---- 15.78 / 4.72 ---- 11.8 / 6.41 ---- 48.19 / 8.0\n",
      "52.01376113891601 : 60     100.0 / 60.0 ---- 15.78 / 4.83 ---- 11.8 / 6.49 ---- 48.19 / 8.31\n",
      "52.68742134094237 : 61     100.0 / 61.0 ---- 15.78 / 5.1 ---- 11.8 / 6.63 ---- 48.19 / 8.6\n",
      "53.2547900390625 : 62     100.0 / 62.0 ---- 15.78 / 5.21 ---- 11.8 / 6.73 ---- 48.19 / 8.88\n",
      "53.967601280212406 : 63     100.0 / 63.0 ---- 15.78 / 5.38 ---- 11.8 / 6.84 ---- 48.19 / 9.17\n",
      "54.76216461181642 : 64     100.0 / 64.0 ---- 15.78 / 5.49 ---- 11.8 / 7.02 ---- 48.19 / 9.45\n",
      "55.498649024963385 : 65     100.0 / 65.0 ---- 15.78 / 5.63 ---- 11.8 / 7.11 ---- 48.19 / 9.78\n",
      "56.21144493103028 : 66     100.0 / 66.0 ---- 15.78 / 5.73 ---- 11.8 / 7.25 ---- 48.19 / 10.12\n",
      "56.847974700927736 : 67     100.0 / 67.0 ---- 15.78 / 5.9 ---- 11.8 / 7.35 ---- 48.19 / 10.49\n",
      "57.61223175048828 : 68     100.0 / 68.0 ---- 15.78 / 6.11 ---- 11.8 / 7.42 ---- 48.19 / 10.9\n",
      "58.29096160888671 : 69     100.0 / 69.0 ---- 15.78 / 6.27 ---- 11.8 / 7.56 ---- 48.19 / 11.27\n",
      "59.10442352294922 : 70     100.0 / 70.0 ---- 15.78 / 6.5 ---- 11.8 / 7.77 ---- 48.19 / 11.7\n",
      "60.03507171630859 : 71     100.0 / 71.0 ---- 15.78 / 6.69 ---- 11.8 / 7.93 ---- 48.19 / 12.3\n",
      "60.757173156738276 : 72     100.0 / 72.0 ---- 15.78 / 6.88 ---- 11.8 / 8.03 ---- 48.19 / 12.72\n",
      "61.478829498291006 : 73     100.0 / 73.0 ---- 15.78 / 7.19 ---- 11.8 / 8.21 ---- 48.19 / 13.15\n",
      "62.47547019958496 : 74     100.0 / 74.0 ---- 15.78 / 7.36 ---- 11.8 / 8.36 ---- 48.19 / 13.89\n",
      "63.36193561553955 : 75     100.0 / 75.0 ---- 15.78 / 7.61 ---- 11.8 / 8.49 ---- 48.19 / 14.3\n",
      "64.343310546875 : 76     100.0 / 76.0 ---- 15.78 / 7.85 ---- 11.8 / 8.61 ---- 48.19 / 14.85\n",
      "65.23594024658203 : 77     100.0 / 77.0 ---- 15.78 / 8.05 ---- 11.8 / 8.75 ---- 48.19 / 15.46\n",
      "66.2147737121582 : 78     100.0 / 78.0 ---- 15.78 / 8.27 ---- 11.8 / 8.8 ---- 48.19 / 16.1\n",
      "67.12719802856445 : 79     100.0 / 79.0 ---- 15.78 / 8.43 ---- 11.8 / 8.91 ---- 48.19 / 16.78\n",
      "68.01257934570313 : 80     100.0 / 80.0 ---- 15.78 / 8.61 ---- 11.8 / 9.0 ---- 48.19 / 17.36\n",
      "69.10615837097168 : 81     100.0 / 81.0 ---- 15.78 / 8.91 ---- 11.8 / 9.14 ---- 48.19 / 18.23\n",
      "70.32841033935547 : 82     100.0 / 82.0 ---- 15.78 / 9.12 ---- 11.8 / 9.22 ---- 48.19 / 18.96\n",
      "71.51100494384765 : 83     100.0 / 83.0 ---- 15.78 / 9.41 ---- 11.8 / 9.39 ---- 48.19 / 19.68\n",
      "72.64313781738281 : 84     100.0 / 84.0 ---- 15.78 / 9.7 ---- 11.8 / 9.46 ---- 48.19 / 20.52\n",
      "74.0175365447998 : 85     100.0 / 85.0 ---- 15.78 / 10.0 ---- 11.8 / 9.58 ---- 48.19 / 21.32\n",
      "75.28662399291991 : 86     100.0 / 86.0 ---- 15.78 / 10.27 ---- 11.8 / 9.68 ---- 48.19 / 22.05\n",
      "76.67752143859862 : 87     100.0 / 87.0 ---- 15.78 / 10.46 ---- 11.8 / 9.83 ---- 48.19 / 23.17\n",
      "78.55611145019532 : 88     100.0 / 88.0 ---- 15.78 / 10.77 ---- 11.8 / 9.95 ---- 48.19 / 24.44\n",
      "80.41644332885744 : 89     100.0 / 89.0 ---- 15.78 / 11.11 ---- 11.8 / 10.08 ---- 48.19 / 25.55\n",
      "82.28877487182618 : 90     100.0 / 90.0 ---- 15.78 / 11.45 ---- 11.8 / 10.21 ---- 48.19 / 26.66\n",
      "84.50210372924805 : 91     100.0 / 91.0 ---- 15.78 / 11.89 ---- 11.8 / 10.39 ---- 48.19 / 28.17\n",
      "86.88557189941406 : 92     100.0 / 92.0 ---- 15.78 / 12.2 ---- 11.8 / 10.57 ---- 48.19 / 29.6\n",
      "89.45489006042479 : 93     100.0 / 93.0 ---- 15.78 / 12.55 ---- 11.8 / 10.67 ---- 48.19 / 30.96\n",
      "92.08520538330073 : 94     100.0 / 94.0 ---- 15.78 / 12.99 ---- 11.8 / 10.84 ---- 48.19 / 32.4\n",
      "95.3958015441894 : 95     100.0 / 95.0 ---- 15.78 / 13.37 ---- 11.8 / 10.94 ---- 48.19 / 34.06\n",
      "99.91288146972637 : 96     100.0 / 96.0 ---- 15.78 / 13.86 ---- 11.8 / 11.11 ---- 48.19 / 36.14\n",
      "105.13967544555658 : 97     100.0 / 97.0 ---- 15.78 / 14.29 ---- 11.8 / 11.29 ---- 48.19 / 38.24\n",
      "111.54011810302737 : 98     100.0 / 98.0 ---- 15.78 / 14.82 ---- 11.8 / 11.4 ---- 48.19 / 40.77\n",
      "120.94232124328619 : 99     100.0 / 99.0 ---- 15.78 / 15.2 ---- 11.8 / 11.58 ---- 48.19 / 43.32\n"
     ]
    }
   ],
   "source": [
    "for i in range(0,100):\n",
    "    Attack_Table(Und_L2, i)"
   ]
  },
  {
   "cell_type": "code",
   "execution_count": 35,
   "metadata": {},
   "outputs": [],
   "source": [
    "np.save('Und_L2_Targeted_plusCR.npy', Und_L2_Targeted_plusCR)\n",
    "np.save('Und_L2_Untargeted_plusCR.npy', Und_L2_Untargeted_plusCR)"
   ]
  },
  {
   "cell_type": "markdown",
   "metadata": {},
   "source": [
    "## Histograms for CNN plus R"
   ]
  },
  {
   "cell_type": "code",
   "execution_count": 36,
   "metadata": {},
   "outputs": [],
   "source": [
    "args = {\n",
    "    'DATASET_NAME':'mnist',\n",
    "    'num_classes':10,\n",
    "    \n",
    "    'USE_CUDA': True if torch.cuda.is_available() else False,\n",
    "    'BATCH_SIZE': 256,\n",
    "    'N_EPOCHS': 100,\n",
    "    'LEARNING_RATE_1': 1e-2,\n",
    "    'LEARNING_RATE_2': 1e-2,\n",
    "    'WEIGHTDECAY':5e-6,\n",
    "    \n",
    "    #Scheduler\n",
    "    'USE_SCHEDULER':True,\n",
    "    'sched_milestones':[8,20,30,40,50],\n",
    "    'sched_gamma':0.1,\n",
    "    \n",
    "    #Loss Function\n",
    "    'LAMBDA_recon': 0.5,\n",
    "    'LAMBDA_class': 1,\n",
    "    \n",
    "    #For Decoder\n",
    "    'num_features':160,\n",
    "    'LReLU_negative_slope':0.1,\n",
    "    'input_height':28,\n",
    "    'input_width':28,\n",
    "    'input_channel':1,\n",
    "    'type':'plusR',\n",
    "    \n",
    "}"
   ]
  },
  {
   "cell_type": "code",
   "execution_count": 37,
   "metadata": {},
   "outputs": [],
   "source": [
    "class Config:\n",
    "    def __init__(self, dataset='mnist'):\n",
    "        # CONV1\n",
    "        self.conv1_in = 1\n",
    "        self.conv1_out = 12\n",
    "        self.conv1_kernel_size = 15\n",
    "\n",
    "        # CONV2\n",
    "        self.conv2_in = 12\n",
    "        self.conv2_out = 16\n",
    "        self.conv2_kernel_size = 8\n",
    "\n",
    "        # FC1\n",
    "        self.fc1_in = 7 * 7 * 16\n",
    "        self.fc1_out = 784\n",
    "        \n",
    "        # FC1\n",
    "        self.fc2_in = 784\n",
    "        self.fc2_out = 160\n",
    "\n",
    "torch.manual_seed(2)\n",
    "config = Config()\n",
    "\n",
    "net = CNNnet(args, config)\n",
    "\n",
    "# net = torch.nn.DataParallel(net)\n",
    "net.load_state_dict(torch.load(os.path.join(model_path, 'CNNplusR_mnist.pth'), map_location='cpu'))\n",
    "    \n",
    "if args['USE_CUDA']:\n",
    "    net = net.cuda()\n",
    "    "
   ]
  },
  {
   "cell_type": "code",
   "execution_count": 38,
   "metadata": {},
   "outputs": [
    {
     "name": "stderr",
     "output_type": "stream",
     "text": [
      "100%|██████████| 20/20 [00:01<00:00, 19.89it/s]\n",
      "100%|██████████| 20/20 [00:29<00:00,  1.47s/it]\n",
      "100%|██████████| 20/20 [00:01<00:00, 19.77it/s]\n",
      "100%|██████████| 20/20 [00:33<00:00,  1.70s/it]\n"
     ]
    }
   ],
   "source": [
    "model_for_adversary = Model_for_Adversary(net)\n",
    "    \n",
    "adversary_dict = {}\n",
    "adversary_dict['Clean'] = CleanAttack( clip_min=-0.4242, clip_max=2.8215)\n",
    "adversary_dict['PGD'] = LinfPGDAttack(\n",
    "    model_for_adversary, loss_fn=nn.CrossEntropyLoss(reduction=\"sum\"), eps=0.3,\n",
    "    nb_iter=100, eps_iter=0.01, rand_init=True, clip_min=-0.4242, clip_max=2.8215,\n",
    "    targeted=False)\n",
    "\n",
    "adversary_dict['FGSM'] = GradientSignAttack(model_for_adversary, loss_fn=nn.CrossEntropyLoss(reduction=\"sum\"), eps=0.3, clip_min=-0.4242, clip_max=2.8215, targeted=False)\n",
    "adversary_dict['BIM'] = LinfBasicIterativeAttack(model_for_adversary, loss_fn=nn.CrossEntropyLoss(reduction=\"sum\"), eps=0.05, nb_iter=100, eps_iter=0.01, clip_min=-0.4242, clip_max=2.8215, targeted=False)\n",
    "# adversary_dict['CW'] = CarliniWagnerL2Attack(model_for_adversary, num_classes=args['num_classes'], confidence=0, targeted=False, learning_rate=0.01, binary_search_steps=9, max_iterations=1000, abort_early=True, initial_const=0.001, clip_min=-0.4242, clip_max=2.8215, loss_fn=None)\n",
    "\n",
    "Success_Rate, Undetected_Rate, Und_L2 = WhiteBox_Attacks_Untargeted(net, testloader, adversary_dict, args)"
   ]
  },
  {
   "cell_type": "code",
   "execution_count": 39,
   "metadata": {},
   "outputs": [
    {
     "data": {
      "image/png": "[encoded data removed]",
      "text/plain": [
       "<Figure size 432x288 with 1 Axes>"
      ]
     },
     "metadata": {
      "needs_background": "light"
     },
     "output_type": "display_data"
    }
   ],
   "source": [
    "# Und_L2_Untargeted_plusR = Und_L2\n",
    "for adversary in adversary_dict.keys():\n",
    "    if(adversary!='Clean'):\n",
    "        x = np.linspace(0, 100, 20)\n",
    "        z = np.array([np.sum(Und_L2['Clean']>((i_x/100))*(np.percentile(Und_L2['Clean'],95))).item()/100 for i_x in x])\n",
    "        y = np.array([np.sum(Und_L2[adversary]<=((i_x/100))*(np.percentile(Und_L2['Clean'],95))).item()/100 for i_x in x])\n",
    "        plt.plot(z, y, 'go-', label='line1', linewidth=2)"
   ]
  },
  {
   "cell_type": "code",
   "execution_count": 40,
   "metadata": {},
   "outputs": [
    {
     "name": "stdout",
     "output_type": "stream",
     "text": [
      "2.1299262046813965 : 0     100.0 / 0.01 ---- 36.36 / 0.0 ---- 8.66 / 0.0 ---- 78.11 / 0.0\n",
      "5.590380229949951 : 1     100.0 / 1.0 ---- 36.36 / 0.0 ---- 8.66 / 0.0 ---- 78.11 / 0.0\n",
      "6.821966943740845 : 2     100.0 / 2.0 ---- 36.36 / 0.0 ---- 8.66 / 0.0 ---- 78.11 / 0.0\n",
      "7.849604763984679 : 3     100.0 / 3.0 ---- 36.36 / 0.0 ---- 8.66 / 0.0 ---- 78.11 / 0.0\n",
      "8.8331063079834 : 4     100.0 / 4.0 ---- 36.36 / 0.0 ---- 8.66 / 0.0 ---- 78.11 / 0.0\n",
      "9.799901819229127 : 5     100.0 / 5.0 ---- 36.36 / 0.0 ---- 8.66 / 0.0 ---- 78.11 / 0.0\n",
      "10.852643413543701 : 6     100.0 / 6.0 ---- 36.36 / 0.0 ---- 8.66 / 0.0 ---- 78.11 / 0.0\n",
      "12.15001693725586 : 7     100.0 / 7.0 ---- 36.36 / 0.0 ---- 8.66 / 0.0 ---- 78.11 / 0.0\n",
      "13.676363105773927 : 8     100.0 / 8.0 ---- 36.36 / 0.0 ---- 8.66 / 0.0 ---- 78.11 / 0.0\n",
      "15.289839935302734 : 9     100.0 / 9.0 ---- 36.36 / 0.0 ---- 8.66 / 0.0 ---- 78.11 / 0.0\n",
      "17.031292343139647 : 10     100.0 / 10.0 ---- 36.36 / 0.0 ---- 8.66 / 0.03 ---- 78.11 / 0.0\n",
      "18.476395072937017 : 11     100.0 / 11.0 ---- 36.36 / 0.0 ---- 8.66 / 0.03 ---- 78.11 / 0.0\n",
      "19.831168518066406 : 12     100.0 / 12.0 ---- 36.36 / 0.0 ---- 8.66 / 0.03 ---- 78.11 / 0.01\n",
      "21.146411666870122 : 13     100.0 / 13.0 ---- 36.36 / 0.02 ---- 8.66 / 0.04 ---- 78.11 / 0.03\n",
      "22.231582260131837 : 14     100.0 / 14.0 ---- 36.36 / 0.04 ---- 8.66 / 0.07 ---- 78.11 / 0.03\n",
      "23.49317684173584 : 15     100.0 / 15.0 ---- 36.36 / 0.07 ---- 8.66 / 0.09 ---- 78.11 / 0.06\n",
      "24.555426025390627 : 16     100.0 / 16.0 ---- 36.36 / 0.08 ---- 8.66 / 0.12 ---- 78.11 / 0.09\n",
      "25.59392671585083 : 17     100.0 / 17.0 ---- 36.36 / 0.11 ---- 8.66 / 0.13 ---- 78.11 / 0.12\n",
      "26.490922622680664 : 18     100.0 / 18.0 ---- 36.36 / 0.13 ---- 8.66 / 0.15 ---- 78.11 / 0.17\n",
      "27.548628082275393 : 19     100.0 / 19.0 ---- 36.36 / 0.17 ---- 8.66 / 0.17 ---- 78.11 / 0.2\n",
      "28.353364181518565 : 20     100.0 / 20.0 ---- 36.36 / 0.19 ---- 8.66 / 0.21 ---- 78.11 / 0.22\n",
      "29.239098892211913 : 21     100.0 / 21.0 ---- 36.36 / 0.24 ---- 8.66 / 0.25 ---- 78.11 / 0.29\n",
      "30.031334609985354 : 22     100.0 / 22.0 ---- 36.36 / 0.32 ---- 8.66 / 0.35 ---- 78.11 / 0.34\n",
      "30.834467334747313 : 23     100.0 / 23.0 ---- 36.36 / 0.38 ---- 8.66 / 0.37 ---- 78.11 / 0.42\n",
      "31.634782485961914 : 24     100.0 / 24.0 ---- 36.36 / 0.43 ---- 8.66 / 0.4 ---- 78.11 / 0.51\n",
      "32.33063983917236 : 25     100.0 / 25.0 ---- 36.36 / 0.45 ---- 8.66 / 0.43 ---- 78.11 / 0.56\n",
      "33.00199325561523 : 26     100.0 / 26.0 ---- 36.36 / 0.52 ---- 8.66 / 0.49 ---- 78.11 / 0.62\n",
      "33.62403678894043 : 27     100.0 / 27.0 ---- 36.36 / 0.61 ---- 8.66 / 0.52 ---- 78.11 / 0.69\n",
      "34.29861999511719 : 28     100.0 / 28.0 ---- 36.36 / 0.67 ---- 8.66 / 0.59 ---- 78.11 / 0.81\n",
      "34.84740936279296 : 29     100.0 / 29.0 ---- 36.36 / 0.77 ---- 8.66 / 0.62 ---- 78.11 / 0.96\n",
      "35.486663055419925 : 30     100.0 / 30.0 ---- 36.36 / 0.83 ---- 8.66 / 0.63 ---- 78.11 / 1.09\n",
      "36.1459253692627 : 31     100.0 / 31.0 ---- 36.36 / 0.88 ---- 8.66 / 0.7 ---- 78.11 / 1.19\n",
      "36.736973724365235 : 32     100.0 / 32.0 ---- 36.36 / 0.95 ---- 8.66 / 0.74 ---- 78.11 / 1.32\n",
      "37.39972023010254 : 33     100.0 / 33.0 ---- 36.36 / 1.07 ---- 8.66 / 0.77 ---- 78.11 / 1.49\n",
      "38.003725204467784 : 34     100.0 / 34.0 ---- 36.36 / 1.17 ---- 8.66 / 0.83 ---- 78.11 / 1.66\n",
      "38.59276294708252 : 35     100.0 / 35.0 ---- 36.36 / 1.24 ---- 8.66 / 0.85 ---- 78.11 / 1.91\n",
      "39.321756744384764 : 36     100.0 / 36.0 ---- 36.36 / 1.37 ---- 8.66 / 0.91 ---- 78.11 / 2.17\n",
      "39.87122402191162 : 37     100.0 / 37.0 ---- 36.36 / 1.44 ---- 8.66 / 0.95 ---- 78.11 / 2.26\n",
      "40.44703285217285 : 38     100.0 / 38.0 ---- 36.36 / 1.54 ---- 8.66 / 1.01 ---- 78.11 / 2.42\n",
      "40.9456713104248 : 39     100.0 / 39.0 ---- 36.36 / 1.65 ---- 8.66 / 1.03 ---- 78.11 / 2.58\n",
      "41.45876998901368 : 40     100.0 / 40.0 ---- 36.36 / 1.74 ---- 8.66 / 1.08 ---- 78.11 / 2.7\n",
      "42.108018951416014 : 41     100.0 / 41.0 ---- 36.36 / 1.9 ---- 8.66 / 1.15 ---- 78.11 / 2.98\n",
      "42.64771453857422 : 42     100.0 / 42.0 ---- 36.36 / 2.07 ---- 8.66 / 1.19 ---- 78.11 / 3.14\n",
      "43.23201759338379 : 43     100.0 / 43.0 ---- 36.36 / 2.26 ---- 8.66 / 1.27 ---- 78.11 / 3.3\n",
      "43.78390228271485 : 44     100.0 / 44.0 ---- 36.36 / 2.47 ---- 8.66 / 1.29 ---- 78.11 / 3.44\n",
      "44.523830604553225 : 45     100.0 / 45.0 ---- 36.36 / 2.79 ---- 8.66 / 1.36 ---- 78.11 / 3.83\n",
      "45.17081924438476 : 46     100.0 / 46.0 ---- 36.36 / 3.05 ---- 8.66 / 1.39 ---- 78.11 / 4.18\n",
      "45.79375072479248 : 47     100.0 / 47.0 ---- 36.36 / 3.23 ---- 8.66 / 1.49 ---- 78.11 / 4.47\n",
      "46.375943908691404 : 48     100.0 / 48.0 ---- 36.36 / 3.42 ---- 8.66 / 1.56 ---- 78.11 / 4.75\n",
      "46.96402114868164 : 49     100.0 / 49.0 ---- 36.36 / 3.68 ---- 8.66 / 1.61 ---- 78.11 / 5.1\n",
      "47.68365287780762 : 50     100.0 / 50.0 ---- 36.36 / 3.99 ---- 8.66 / 1.7 ---- 78.11 / 5.61\n",
      "48.26457695007325 : 51     100.0 / 51.0 ---- 36.36 / 4.17 ---- 8.66 / 1.75 ---- 78.11 / 6.01\n",
      "48.7749154663086 : 52     100.0 / 52.0 ---- 36.36 / 4.35 ---- 8.66 / 1.78 ---- 78.11 / 6.19\n",
      "49.52574722290039 : 53     100.0 / 53.0 ---- 36.36 / 4.66 ---- 8.66 / 1.86 ---- 78.11 / 6.62\n",
      "50.1538436126709 : 54     100.0 / 54.0 ---- 36.36 / 4.95 ---- 8.66 / 1.96 ---- 78.11 / 7.21\n",
      "50.720395469665526 : 55     100.0 / 55.0 ---- 36.36 / 5.16 ---- 8.66 / 2.02 ---- 78.11 / 7.68\n",
      "51.411913909912116 : 56     100.0 / 56.0 ---- 36.36 / 5.39 ---- 8.66 / 2.12 ---- 78.11 / 8.17\n",
      "52.036111602783194 : 57     100.0 / 57.0 ---- 36.36 / 5.66 ---- 8.66 / 2.19 ---- 78.11 / 8.58\n",
      "52.70568725585936 : 58     100.0 / 58.0 ---- 36.36 / 6.03 ---- 8.66 / 2.26 ---- 78.11 / 9.02\n",
      "53.35166522979736 : 59     100.0 / 59.0 ---- 36.36 / 6.31 ---- 8.66 / 2.32 ---- 78.11 / 9.49\n",
      "53.974989318847655 : 60     100.0 / 60.0 ---- 36.36 / 6.64 ---- 8.66 / 2.41 ---- 78.11 / 10.07\n",
      "54.65464073181152 : 61     100.0 / 61.0 ---- 36.36 / 7.0 ---- 8.66 / 2.51 ---- 78.11 / 10.67\n",
      "55.21419982910156 : 62     100.0 / 62.0 ---- 36.36 / 7.32 ---- 8.66 / 2.56 ---- 78.11 / 11.1\n",
      "55.88200721740722 : 63     100.0 / 63.0 ---- 36.36 / 7.69 ---- 8.66 / 2.64 ---- 78.11 / 11.54\n",
      "56.47402542114258 : 64     100.0 / 64.0 ---- 36.36 / 8.04 ---- 8.66 / 2.73 ---- 78.11 / 12.18\n",
      "57.09829158782959 : 65     100.0 / 65.0 ---- 36.36 / 8.36 ---- 8.66 / 2.75 ---- 78.11 / 12.62\n",
      "57.860902099609376 : 66     100.0 / 66.0 ---- 36.36 / 8.76 ---- 8.66 / 2.86 ---- 78.11 / 13.37\n",
      "58.610966796875005 : 67     100.0 / 67.0 ---- 36.36 / 9.24 ---- 8.66 / 2.94 ---- 78.11 / 14.13\n",
      "59.34683654785157 : 68     100.0 / 68.0 ---- 36.36 / 9.75 ---- 8.66 / 3.04 ---- 78.11 / 14.75\n",
      "60.26000457763672 : 69     100.0 / 69.0 ---- 36.36 / 10.29 ---- 8.66 / 3.16 ---- 78.11 / 15.75\n",
      "61.15011138916015 : 70     100.0 / 70.0 ---- 36.36 / 10.77 ---- 8.66 / 3.26 ---- 78.11 / 16.69\n",
      "61.988702621459964 : 71     100.0 / 71.0 ---- 36.36 / 11.25 ---- 8.66 / 3.39 ---- 78.11 / 17.59\n",
      "62.808786926269526 : 72     100.0 / 72.0 ---- 36.36 / 11.8 ---- 8.66 / 3.5 ---- 78.11 / 18.41\n",
      "63.611260948181155 : 73     100.0 / 73.0 ---- 36.36 / 12.19 ---- 8.66 / 3.59 ---- 78.11 / 19.27\n",
      "64.26404510498047 : 74     100.0 / 74.0 ---- 36.36 / 12.58 ---- 8.66 / 3.65 ---- 78.11 / 19.92\n",
      "65.07716178894043 : 75     100.0 / 75.0 ---- 36.36 / 13.09 ---- 8.66 / 3.76 ---- 78.11 / 20.77\n",
      "65.72466369628907 : 76     100.0 / 76.0 ---- 36.36 / 13.58 ---- 8.66 / 3.8 ---- 78.11 / 21.59\n",
      "66.74771545410158 : 77     100.0 / 77.0 ---- 36.36 / 14.26 ---- 8.66 / 3.98 ---- 78.11 / 22.67\n",
      "67.81391311645508 : 78     100.0 / 78.0 ---- 36.36 / 14.91 ---- 8.66 / 4.15 ---- 78.11 / 24.15\n",
      "68.62903388977051 : 79     100.0 / 79.0 ---- 36.36 / 15.42 ---- 8.66 / 4.25 ---- 78.11 / 24.97\n",
      "69.46987457275391 : 80     100.0 / 80.0 ---- 36.36 / 15.89 ---- 8.66 / 4.4 ---- 78.11 / 26.08\n",
      "70.65547164916993 : 81     100.0 / 81.0 ---- 36.36 / 16.68 ---- 8.66 / 4.58 ---- 78.11 / 27.5\n",
      "71.88859817504883 : 82     100.0 / 82.0 ---- 36.36 / 17.46 ---- 8.66 / 4.67 ---- 78.11 / 29.0\n",
      "73.00967498779298 : 83     100.0 / 83.0 ---- 36.36 / 18.08 ---- 8.66 / 4.88 ---- 78.11 / 30.21\n",
      "74.42798828125 : 84     100.0 / 84.0 ---- 36.36 / 18.77 ---- 8.66 / 5.03 ---- 78.11 / 32.03\n",
      "75.64007720947265 : 85     100.0 / 85.0 ---- 36.36 / 19.64 ---- 8.66 / 5.17 ---- 78.11 / 33.54\n",
      "76.80983093261719 : 86     100.0 / 86.0 ---- 36.36 / 20.29 ---- 8.66 / 5.29 ---- 78.11 / 34.85\n",
      "78.08577255249023 : 87     100.0 / 87.0 ---- 36.36 / 21.0 ---- 8.66 / 5.41 ---- 78.11 / 36.58\n",
      "79.56088928222657 : 88     100.0 / 88.0 ---- 36.36 / 21.92 ---- 8.66 / 5.57 ---- 78.11 / 38.42\n",
      "81.17887832641604 : 89     100.0 / 89.0 ---- 36.36 / 22.79 ---- 8.66 / 5.76 ---- 78.11 / 40.33\n",
      "82.777685546875 : 90     100.0 / 90.0 ---- 36.36 / 23.66 ---- 8.66 / 5.96 ---- 78.11 / 42.47\n",
      "84.19734893798828 : 91     100.0 / 91.0 ---- 36.36 / 24.4 ---- 8.66 / 6.09 ---- 78.11 / 43.93\n",
      "86.40222656249999 : 92     100.0 / 92.0 ---- 36.36 / 25.55 ---- 8.66 / 6.24 ---- 78.11 / 46.46\n",
      "88.53558059692382 : 93     100.0 / 93.0 ---- 36.36 / 26.57 ---- 8.66 / 6.42 ---- 78.11 / 49.14\n",
      "91.25041519165038 : 94     100.0 / 94.0 ---- 36.36 / 28.04 ---- 8.66 / 6.76 ---- 78.11 / 52.28\n",
      "94.30480346679677 : 95     100.0 / 95.0 ---- 36.36 / 29.42 ---- 8.66 / 7.08 ---- 78.11 / 55.41\n",
      "97.99997924804686 : 96     100.0 / 96.0 ---- 36.36 / 30.9 ---- 8.66 / 7.33 ---- 78.11 / 59.1\n",
      "101.75068023681625 : 97     100.0 / 97.0 ---- 36.36 / 32.01 ---- 8.66 / 7.5 ---- 78.11 / 62.51\n",
      "108.27090194702151 : 98     100.0 / 98.0 ---- 36.36 / 33.6 ---- 8.66 / 7.88 ---- 78.11 / 66.73\n",
      "116.92997879028323 : 99     100.0 / 99.0 ---- 36.36 / 34.98 ---- 8.66 / 8.24 ---- 78.11 / 71.26\n"
     ]
    }
   ],
   "source": [
    "for i in range(0,100):\n",
    "    Attack_Table(Und_L2, i)"
   ]
  },
  {
   "cell_type": "code",
   "execution_count": 41,
   "metadata": {},
   "outputs": [
    {
     "name": "stderr",
     "output_type": "stream",
     "text": [
      "100%|██████████| 20/20 [00:01<00:00, 19.35it/s]\n",
      "100%|██████████| 20/20 [00:31<00:00,  1.56s/it]\n",
      "100%|██████████| 20/20 [00:01<00:00, 19.99it/s]\n",
      "100%|██████████| 20/20 [00:34<00:00,  1.71s/it]\n"
     ]
    }
   ],
   "source": [
    "model_for_adversary = Model_for_Adversary(net)\n",
    "    \n",
    "adversary_dict = {}\n",
    "adversary_dict['Clean'] = CleanAttack( clip_min=-0.4242, clip_max=2.8215)\n",
    "adversary_dict['PGD'] = LinfPGDAttack(\n",
    "    model_for_adversary, loss_fn=nn.CrossEntropyLoss(reduction=\"sum\"), eps=0.3,\n",
    "    nb_iter=100, eps_iter=0.01, rand_init=True, clip_min=-0.4242, clip_max=2.8215,\n",
    "    targeted=True)\n",
    "\n",
    "adversary_dict['FGSM'] = GradientSignAttack(model_for_adversary, loss_fn=nn.CrossEntropyLoss(reduction=\"sum\"), eps=0.3, clip_min=-0.4242, clip_max=2.8215, targeted=True)\n",
    "adversary_dict['BIM'] = LinfBasicIterativeAttack(model_for_adversary, loss_fn=nn.CrossEntropyLoss(reduction=\"sum\"), eps=0.05, nb_iter=100, eps_iter=0.01, clip_min=-0.4242, clip_max=2.8215, targeted=True)\n",
    "# adversary_dict['CW'] = CarliniWagnerL2Attack(model_for_adversary, num_classes=args['num_classes'], confidence=0, targeted=False, learning_rate=0.01, binary_search_steps=9, max_iterations=1000, abort_early=True, initial_const=0.001, clip_min=-0.4242, clip_max=2.8215, loss_fn=None)\n",
    "\n",
    "Success_Rate, Undetected_Rate, Und_L2 = WhiteBox_Attacks_Targeted(net, testloader, adversary_dict, args)"
   ]
  },
  {
   "cell_type": "code",
   "execution_count": 42,
   "metadata": {},
   "outputs": [
    {
     "data": {
      "image/png": "[encoded data removed]",
      "text/plain": [
       "<Figure size 432x288 with 1 Axes>"
      ]
     },
     "metadata": {
      "needs_background": "light"
     },
     "output_type": "display_data"
    }
   ],
   "source": [
    "# Und_L2_Targeted_plusR = Und_L2\n",
    "for adversary in adversary_dict.keys():\n",
    "    if(adversary!='Clean'):\n",
    "        x = np.linspace(0, 100, 20)\n",
    "        z = np.array([np.sum(Und_L2['Clean']>((i_x/100))*(np.percentile(Und_L2['Clean'],95))).item()/100 for i_x in x])\n",
    "        y = np.array([np.sum(Und_L2[adversary]<=((i_x/100))*(np.percentile(Und_L2['Clean'],95))).item()/100 for i_x in x])\n",
    "        plt.plot(z, y, 'go-', label='line1', linewidth=2)"
   ]
  },
  {
   "cell_type": "code",
   "execution_count": 43,
   "metadata": {},
   "outputs": [
    {
     "name": "stdout",
     "output_type": "stream",
     "text": [
      "2.1299262046813965 : 0     100.0 / 0.01 ---- 16.14 / 0.0 ---- 11.7 / 0.0 ---- 40.42 / 0.0\n",
      "5.590380229949951 : 1     100.0 / 1.0 ---- 16.14 / 0.0 ---- 11.7 / 0.17 ---- 40.42 / 0.0\n",
      "6.821966943740845 : 2     100.0 / 2.0 ---- 16.14 / 0.02 ---- 11.7 / 0.27 ---- 40.42 / 0.01\n",
      "7.849604763984679 : 3     100.0 / 3.0 ---- 16.14 / 0.04 ---- 11.7 / 0.36 ---- 40.42 / 0.06\n",
      "8.8331063079834 : 4     100.0 / 4.0 ---- 16.14 / 0.06 ---- 11.7 / 0.44 ---- 40.42 / 0.12\n",
      "9.799901819229127 : 5     100.0 / 5.0 ---- 16.14 / 0.08 ---- 11.7 / 0.59 ---- 40.42 / 0.17\n",
      "10.852643413543701 : 6     100.0 / 6.0 ---- 16.14 / 0.13 ---- 11.7 / 0.73 ---- 40.42 / 0.23\n",
      "12.15001693725586 : 7     100.0 / 7.0 ---- 16.14 / 0.18 ---- 11.7 / 0.82 ---- 40.42 / 0.27\n",
      "13.676363105773927 : 8     100.0 / 8.0 ---- 16.14 / 0.32 ---- 11.7 / 0.96 ---- 40.42 / 0.39\n",
      "15.289839935302734 : 9     100.0 / 9.0 ---- 16.14 / 0.41 ---- 11.7 / 1.07 ---- 40.42 / 0.48\n",
      "17.031292343139647 : 10     100.0 / 10.0 ---- 16.14 / 0.46 ---- 11.7 / 1.17 ---- 40.42 / 0.57\n",
      "18.476395072937017 : 11     100.0 / 11.0 ---- 16.14 / 0.57 ---- 11.7 / 1.28 ---- 40.42 / 0.7\n",
      "19.831168518066406 : 12     100.0 / 12.0 ---- 16.14 / 0.68 ---- 11.7 / 1.4 ---- 40.42 / 0.78\n",
      "21.146411666870122 : 13     100.0 / 13.0 ---- 16.14 / 0.73 ---- 11.7 / 1.48 ---- 40.42 / 0.9\n",
      "22.231582260131837 : 14     100.0 / 14.0 ---- 16.14 / 0.77 ---- 11.7 / 1.57 ---- 40.42 / 0.97\n",
      "23.49317684173584 : 15     100.0 / 15.0 ---- 16.14 / 0.84 ---- 11.7 / 1.68 ---- 40.42 / 1.04\n",
      "24.555426025390627 : 16     100.0 / 16.0 ---- 16.14 / 0.9 ---- 11.7 / 1.74 ---- 40.42 / 1.08\n",
      "25.59392671585083 : 17     100.0 / 17.0 ---- 16.14 / 0.94 ---- 11.7 / 1.81 ---- 40.42 / 1.14\n",
      "26.490922622680664 : 18     100.0 / 18.0 ---- 16.14 / 0.97 ---- 11.7 / 1.89 ---- 40.42 / 1.26\n",
      "27.548628082275393 : 19     100.0 / 19.0 ---- 16.14 / 1.03 ---- 11.7 / 2.05 ---- 40.42 / 1.46\n",
      "28.353364181518565 : 20     100.0 / 20.0 ---- 16.14 / 1.07 ---- 11.7 / 2.1 ---- 40.42 / 1.58\n",
      "29.239098892211913 : 21     100.0 / 21.0 ---- 16.14 / 1.13 ---- 11.7 / 2.21 ---- 40.42 / 1.74\n",
      "30.031334609985354 : 22     100.0 / 22.0 ---- 16.14 / 1.21 ---- 11.7 / 2.3 ---- 40.42 / 1.86\n",
      "30.834467334747313 : 23     100.0 / 23.0 ---- 16.14 / 1.26 ---- 11.7 / 2.41 ---- 40.42 / 1.97\n",
      "31.634782485961914 : 24     100.0 / 24.0 ---- 16.14 / 1.31 ---- 11.7 / 2.57 ---- 40.42 / 2.06\n",
      "32.33063983917236 : 25     100.0 / 25.0 ---- 16.14 / 1.34 ---- 11.7 / 2.64 ---- 40.42 / 2.24\n",
      "33.00199325561523 : 26     100.0 / 26.0 ---- 16.14 / 1.38 ---- 11.7 / 2.8 ---- 40.42 / 2.39\n",
      "33.62403678894043 : 27     100.0 / 27.0 ---- 16.14 / 1.44 ---- 11.7 / 2.87 ---- 40.42 / 2.5\n",
      "34.29861999511719 : 28     100.0 / 28.0 ---- 16.14 / 1.56 ---- 11.7 / 3.0 ---- 40.42 / 2.63\n",
      "34.84740936279296 : 29     100.0 / 29.0 ---- 16.14 / 1.64 ---- 11.7 / 3.11 ---- 40.42 / 2.71\n",
      "35.486663055419925 : 30     100.0 / 30.0 ---- 16.14 / 1.73 ---- 11.7 / 3.21 ---- 40.42 / 2.91\n",
      "36.1459253692627 : 31     100.0 / 31.0 ---- 16.14 / 1.86 ---- 11.7 / 3.28 ---- 40.42 / 3.18\n",
      "36.736973724365235 : 32     100.0 / 32.0 ---- 16.14 / 1.9 ---- 11.7 / 3.46 ---- 40.42 / 3.35\n",
      "37.39972023010254 : 33     100.0 / 33.0 ---- 16.14 / 1.97 ---- 11.7 / 3.6 ---- 40.42 / 3.57\n",
      "38.003725204467784 : 34     100.0 / 34.0 ---- 16.14 / 2.07 ---- 11.7 / 3.71 ---- 40.42 / 3.73\n",
      "38.59276294708252 : 35     100.0 / 35.0 ---- 16.14 / 2.22 ---- 11.7 / 3.76 ---- 40.42 / 3.97\n",
      "39.321756744384764 : 36     100.0 / 36.0 ---- 16.14 / 2.35 ---- 11.7 / 3.89 ---- 40.42 / 4.29\n",
      "39.87122402191162 : 37     100.0 / 37.0 ---- 16.14 / 2.45 ---- 11.7 / 4.03 ---- 40.42 / 4.45\n",
      "40.44703285217285 : 38     100.0 / 38.0 ---- 16.14 / 2.56 ---- 11.7 / 4.16 ---- 40.42 / 4.63\n",
      "40.9456713104248 : 39     100.0 / 39.0 ---- 16.14 / 2.65 ---- 11.7 / 4.23 ---- 40.42 / 4.81\n",
      "41.45876998901368 : 40     100.0 / 40.0 ---- 16.14 / 2.72 ---- 11.7 / 4.27 ---- 40.42 / 4.95\n",
      "42.108018951416014 : 41     100.0 / 41.0 ---- 16.14 / 2.85 ---- 11.7 / 4.42 ---- 40.42 / 5.22\n",
      "42.64771453857422 : 42     100.0 / 42.0 ---- 16.14 / 2.92 ---- 11.7 / 4.53 ---- 40.42 / 5.42\n",
      "43.23201759338379 : 43     100.0 / 43.0 ---- 16.14 / 3.01 ---- 11.7 / 4.67 ---- 40.42 / 5.6\n",
      "43.78390228271485 : 44     100.0 / 44.0 ---- 16.14 / 3.07 ---- 11.7 / 4.77 ---- 40.42 / 5.8\n",
      "44.523830604553225 : 45     100.0 / 45.0 ---- 16.14 / 3.25 ---- 11.7 / 4.85 ---- 40.42 / 6.15\n",
      "45.17081924438476 : 46     100.0 / 46.0 ---- 16.14 / 3.4 ---- 11.7 / 4.97 ---- 40.42 / 6.34\n",
      "45.79375072479248 : 47     100.0 / 47.0 ---- 16.14 / 3.53 ---- 11.7 / 5.06 ---- 40.42 / 6.59\n",
      "46.375943908691404 : 48     100.0 / 48.0 ---- 16.14 / 3.61 ---- 11.7 / 5.24 ---- 40.42 / 6.83\n",
      "46.96402114868164 : 49     100.0 / 49.0 ---- 16.14 / 3.77 ---- 11.7 / 5.35 ---- 40.42 / 7.1\n",
      "47.68365287780762 : 50     100.0 / 50.0 ---- 16.14 / 3.93 ---- 11.7 / 5.49 ---- 40.42 / 7.37\n",
      "48.26457695007325 : 51     100.0 / 51.0 ---- 16.14 / 4.03 ---- 11.7 / 5.6 ---- 40.42 / 7.62\n",
      "48.7749154663086 : 52     100.0 / 52.0 ---- 16.14 / 4.12 ---- 11.7 / 5.68 ---- 40.42 / 7.79\n",
      "49.52574722290039 : 53     100.0 / 53.0 ---- 16.14 / 4.28 ---- 11.7 / 5.85 ---- 40.42 / 8.1\n",
      "50.1538436126709 : 54     100.0 / 54.0 ---- 16.14 / 4.44 ---- 11.7 / 5.94 ---- 40.42 / 8.42\n",
      "50.720395469665526 : 55     100.0 / 55.0 ---- 16.14 / 4.51 ---- 11.7 / 6.07 ---- 40.42 / 8.68\n",
      "51.411913909912116 : 56     100.0 / 56.0 ---- 16.14 / 4.65 ---- 11.7 / 6.18 ---- 40.42 / 9.05\n",
      "52.036111602783194 : 57     100.0 / 57.0 ---- 16.14 / 4.85 ---- 11.7 / 6.24 ---- 40.42 / 9.4\n",
      "52.70568725585936 : 58     100.0 / 58.0 ---- 16.14 / 5.04 ---- 11.7 / 6.41 ---- 40.42 / 9.78\n",
      "53.35166522979736 : 59     100.0 / 59.0 ---- 16.14 / 5.23 ---- 11.7 / 6.61 ---- 40.42 / 10.13\n",
      "53.974989318847655 : 60     100.0 / 60.0 ---- 16.14 / 5.38 ---- 11.7 / 6.68 ---- 40.42 / 10.42\n",
      "54.65464073181152 : 61     100.0 / 61.0 ---- 16.14 / 5.6 ---- 11.7 / 6.75 ---- 40.42 / 10.7\n",
      "55.21419982910156 : 62     100.0 / 62.0 ---- 16.14 / 5.8 ---- 11.7 / 6.89 ---- 40.42 / 10.92\n",
      "55.88200721740722 : 63     100.0 / 63.0 ---- 16.14 / 5.98 ---- 11.7 / 7.03 ---- 40.42 / 11.31\n",
      "56.47402542114258 : 64     100.0 / 64.0 ---- 16.14 / 6.1 ---- 11.7 / 7.13 ---- 40.42 / 11.64\n",
      "57.09829158782959 : 65     100.0 / 65.0 ---- 16.14 / 6.31 ---- 11.7 / 7.19 ---- 40.42 / 11.98\n",
      "57.860902099609376 : 66     100.0 / 66.0 ---- 16.14 / 6.55 ---- 11.7 / 7.32 ---- 40.42 / 12.36\n",
      "58.610966796875005 : 67     100.0 / 67.0 ---- 16.14 / 6.73 ---- 11.7 / 7.45 ---- 40.42 / 12.75\n",
      "59.34683654785157 : 68     100.0 / 68.0 ---- 16.14 / 6.9 ---- 11.7 / 7.59 ---- 40.42 / 13.08\n",
      "60.26000457763672 : 69     100.0 / 69.0 ---- 16.14 / 7.07 ---- 11.7 / 7.74 ---- 40.42 / 13.53\n",
      "61.15011138916015 : 70     100.0 / 70.0 ---- 16.14 / 7.21 ---- 11.7 / 7.87 ---- 40.42 / 14.04\n",
      "61.988702621459964 : 71     100.0 / 71.0 ---- 16.14 / 7.39 ---- 11.7 / 7.97 ---- 40.42 / 14.49\n",
      "62.808786926269526 : 72     100.0 / 72.0 ---- 16.14 / 7.59 ---- 11.7 / 8.08 ---- 40.42 / 14.95\n",
      "63.611260948181155 : 73     100.0 / 73.0 ---- 16.14 / 7.81 ---- 11.7 / 8.19 ---- 40.42 / 15.41\n",
      "64.26404510498047 : 74     100.0 / 74.0 ---- 16.14 / 8.01 ---- 11.7 / 8.29 ---- 40.42 / 15.72\n",
      "65.07716178894043 : 75     100.0 / 75.0 ---- 16.14 / 8.16 ---- 11.7 / 8.43 ---- 40.42 / 16.12\n",
      "65.72466369628907 : 76     100.0 / 76.0 ---- 16.14 / 8.31 ---- 11.7 / 8.5 ---- 40.42 / 16.5\n",
      "66.74771545410158 : 77     100.0 / 77.0 ---- 16.14 / 8.62 ---- 11.7 / 8.65 ---- 40.42 / 16.92\n",
      "67.81391311645508 : 78     100.0 / 78.0 ---- 16.14 / 8.94 ---- 11.7 / 8.82 ---- 40.42 / 17.48\n",
      "68.62903388977051 : 79     100.0 / 79.0 ---- 16.14 / 9.09 ---- 11.7 / 8.93 ---- 40.42 / 17.96\n",
      "69.46987457275391 : 80     100.0 / 80.0 ---- 16.14 / 9.31 ---- 11.7 / 9.0 ---- 40.42 / 18.41\n",
      "70.65547164916993 : 81     100.0 / 81.0 ---- 16.14 / 9.7 ---- 11.7 / 9.1 ---- 40.42 / 19.13\n",
      "71.88859817504883 : 82     100.0 / 82.0 ---- 16.14 / 9.98 ---- 11.7 / 9.23 ---- 40.42 / 19.83\n",
      "73.00967498779298 : 83     100.0 / 83.0 ---- 16.14 / 10.26 ---- 11.7 / 9.35 ---- 40.42 / 20.44\n",
      "74.42798828125 : 84     100.0 / 84.0 ---- 16.14 / 10.63 ---- 11.7 / 9.51 ---- 40.42 / 21.15\n",
      "75.64007720947265 : 85     100.0 / 85.0 ---- 16.14 / 10.92 ---- 11.7 / 9.6 ---- 40.42 / 21.75\n",
      "76.80983093261719 : 86     100.0 / 86.0 ---- 16.14 / 11.25 ---- 11.7 / 9.74 ---- 40.42 / 22.53\n",
      "78.08577255249023 : 87     100.0 / 87.0 ---- 16.14 / 11.57 ---- 11.7 / 9.92 ---- 40.42 / 23.27\n",
      "79.56088928222657 : 88     100.0 / 88.0 ---- 16.14 / 11.86 ---- 11.7 / 10.08 ---- 40.42 / 24.01\n",
      "81.17887832641604 : 89     100.0 / 89.0 ---- 16.14 / 12.24 ---- 11.7 / 10.13 ---- 40.42 / 25.04\n",
      "82.777685546875 : 90     100.0 / 90.0 ---- 16.14 / 12.52 ---- 11.7 / 10.24 ---- 40.42 / 25.94\n",
      "84.19734893798828 : 91     100.0 / 91.0 ---- 16.14 / 12.72 ---- 11.7 / 10.35 ---- 40.42 / 26.85\n",
      "86.40222656249999 : 92     100.0 / 92.0 ---- 16.14 / 13.04 ---- 11.7 / 10.51 ---- 40.42 / 27.96\n",
      "88.53558059692382 : 93     100.0 / 93.0 ---- 16.14 / 13.31 ---- 11.7 / 10.66 ---- 40.42 / 28.89\n",
      "91.25041519165038 : 94     100.0 / 94.0 ---- 16.14 / 13.74 ---- 11.7 / 10.81 ---- 40.42 / 30.09\n",
      "94.30480346679677 : 95     100.0 / 95.0 ---- 16.14 / 14.07 ---- 11.7 / 10.98 ---- 40.42 / 31.33\n",
      "97.99997924804686 : 96     100.0 / 96.0 ---- 16.14 / 14.61 ---- 11.7 / 11.14 ---- 40.42 / 32.87\n",
      "101.75068023681625 : 97     100.0 / 97.0 ---- 16.14 / 14.92 ---- 11.7 / 11.24 ---- 40.42 / 34.21\n",
      "108.27090194702151 : 98     100.0 / 98.0 ---- 16.14 / 15.41 ---- 11.7 / 11.33 ---- 40.42 / 36.37\n",
      "116.92997879028323 : 99     100.0 / 99.0 ---- 16.14 / 15.72 ---- 11.7 / 11.53 ---- 40.42 / 37.91\n"
     ]
    }
   ],
   "source": [
    "for i in range(0,100):\n",
    "    Attack_Table(Und_L2, i)"
   ]
  },
  {
   "cell_type": "code",
   "execution_count": 44,
   "metadata": {},
   "outputs": [],
   "source": [
    "np.save('Und_L2_Targeted_plusR.npy', Und_L2_Targeted_plusR)\n",
    "np.save('Und_L2_Untargeted_plusR.npy', Und_L2_Untargeted_plusR)"
   ]
  },
  {
   "cell_type": "code",
   "execution_count": 50,
   "metadata": {},
   "outputs": [
    {
     "data": {
      "image/png": "[encoded data removed]",
      "text/plain": [
       "<Figure size 432x288 with 1 Axes>"
      ]
     },
     "metadata": {
      "needs_background": "light"
     },
     "output_type": "display_data"
    }
   ],
   "source": [
    "\n",
    "def plot_Ud_FPR(adversary, Und_L2_list):\n",
    "    color_list = ['green', 'orange','blue']\n",
    "    model_list = ['CapsNet', 'plusCR', 'plusR']\n",
    "    for i,Und_L2 in enumerate(Und_L2_list):\n",
    "        if(adversary!='Clean'):\n",
    "            x = np.linspace(0, 100, 20)\n",
    "            z = np.array([np.sum(Und_L2['Clean']>((i_x/100))*(np.percentile(Und_L2['Clean'],95))).item()/100 for i_x in x])\n",
    "            y = np.array([np.sum(Und_L2[adversary]<=((i_x/100))*(np.percentile(Und_L2['Clean'],95))).item()/100 for i_x in x])\n",
    "            plt.plot(z, y,color=color_list[i], linestyle='-', marker='o', label=model_list[i], linewidth=1)\n",
    "            \n",
    "plot_Ud_FPR('PGD',[Und_L2_Targeted_Capsnet,Und_L2_Targeted_plusCR,Und_L2_Targeted_plusR])"
   ]
  },
  {
   "cell_type": "code",
   "execution_count": 51,
   "metadata": {},
   "outputs": [
    {
     "data": {
      "image/png": "[encoded data removed]",
      "text/plain": [
       "<Figure size 432x288 with 1 Axes>"
      ]
     },
     "metadata": {
      "needs_background": "light"
     },
     "output_type": "display_data"
    }
   ],
   "source": [
    "plot_Ud_FPR('BIM',[Und_L2_Targeted_Capsnet,Und_L2_Targeted_plusCR,Und_L2_Targeted_plusR])"
   ]
  },
  {
   "cell_type": "code",
   "execution_count": 52,
   "metadata": {},
   "outputs": [
    {
     "data": {
      "image/png": "[encoded data removed]",
      "text/plain": [
       "<Figure size 432x288 with 1 Axes>"
      ]
     },
     "metadata": {
      "needs_background": "light"
     },
     "output_type": "display_data"
    }
   ],
   "source": [
    "plot_Ud_FPR('FGSM',[Und_L2_Targeted_Capsnet,Und_L2_Targeted_plusCR,Und_L2_Targeted_plusR])"
   ]
  },
  {
   "cell_type": "code",
   "execution_count": null,
   "metadata": {},
   "outputs": [],
   "source": []
  }
 ],
 "metadata": {
  "kernelspec": {
   "display_name": "Python 3",
   "language": "python",
   "name": "python3"
  },
  "language_info": {
   "codemirror_mode": {
    "name": "ipython",
    "version": 3
   },
   "file_extension": ".py",
   "mimetype": "text/x-python",
   "name": "python",
   "nbconvert_exporter": "python",
   "pygments_lexer": "ipython3",
   "version": "3.7.6"
  }
 },
 "nbformat": 4,
 "nbformat_minor": 4
}
