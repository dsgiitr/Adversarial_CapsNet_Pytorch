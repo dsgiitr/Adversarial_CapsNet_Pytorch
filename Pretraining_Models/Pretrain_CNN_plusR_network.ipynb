{
 "cells": [
  {
   "cell_type": "code",
   "execution_count": null,
   "metadata": {},
   "outputs": [],
   "source": [
    "import torch\n",
    "import numpy\n",
    "import torch\n",
    "import torch.nn as nn\n",
    "import torch.nn.functional as F\n",
    "from tqdm import tqdm\n",
    "import os\n",
    "import matplotlib.pyplot as plt\n",
    "\n",
    "import sys\n",
    "sys.path.insert(0,'/home/gsoc0/Adversarial_CapsNet_Pytorch/')\n",
    "from model.cnn_net import *\n",
    "from utils.training import *\n",
    "from data.data import *"
   ]
  },
  {
   "cell_type": "code",
   "execution_count": null,
   "metadata": {},
   "outputs": [],
   "source": [
    "model_path = os.path.join(os.getcwd(), \"weights\")\n",
    "\n",
    "args = {\n",
    "    'DATASET_NAME':'mnist',\n",
    "    'num_classes':10,\n",
    "    \n",
    "    'USE_CUDA': True if torch.cuda.is_available() else False,\n",
    "    'BATCH_SIZE': 256,\n",
    "    'N_EPOCHS': 100,\n",
    "    'LEARNING_RATE_1': 1e-2,\n",
    "    'LEARNING_RATE_2': 1e-2,\n",
    "    'WEIGHTDECAY':5e-6,\n",
    "    #Scheduler\n",
    "    'USE_SCHEDULER':True,\n",
    "    'sched_milestones':[14,25,30,40,50],\n",
    "    'sched_gamma':0.1,\n",
    "    \n",
    "    #Loss Function\n",
    "    'LAMBDA_recon': 0.5,\n",
    "    'LAMBDA_class': 1,\n",
    "    \n",
    "    ##For Decoder\n",
    "    'num_features':160,\n",
    "    'LReLU_negative_slope':0.1,\n",
    "    'input_height':28,\n",
    "    'input_width':28,\n",
    "    'input_channel':1,\n",
    "    'type':'plusR',\n",
    "    \n",
    "}\n",
    "\n",
    "#Setting Default Cuda Device\n",
    "torch.cuda.set_device(2)"
   ]
  },
  {
   "cell_type": "code",
   "execution_count": 3,
   "metadata": {},
   "outputs": [],
   "source": [
    "class Config:\n",
    "    def __init__(self, dataset='mnist'):\n",
    "        # CONV1\n",
    "        self.conv1_in = 1\n",
    "        self.conv1_out = 12\n",
    "        self.conv1_kernel_size = 15\n",
    "\n",
    "        # CONV2\n",
    "        self.conv2_in = 12\n",
    "        self.conv2_out = 16\n",
    "        self.conv2_kernel_size = 8\n",
    "\n",
    "        # FC1\n",
    "        self.fc1_in = 7 * 7 * 16\n",
    "        self.fc1_out = 784\n",
    "        \n",
    "        # FC1\n",
    "        self.fc2_in = 784\n",
    "        self.fc2_out = 160\n",
    "\n",
    "torch.manual_seed(2)\n",
    "config = Config()\n",
    "\n",
    "net = CNNnet(args, config)\n",
    "\n",
    "# net = torch.nn.DataParallel(net)\n",
    "# net.load_state_dict(torch.load(os.path.join(model_path, 'CapsNetMNIST_Recon.pth'), map_location='cpu'))\n",
    "    \n",
    "if args['USE_CUDA']:\n",
    "    net = net.cuda()\n",
    "    "
   ]
  },
  {
   "cell_type": "markdown",
   "metadata": {},
   "source": [
    "## Loading Dataset"
   ]
  },
  {
   "cell_type": "code",
   "execution_count": 4,
   "metadata": {},
   "outputs": [],
   "source": [
    "dataloader = {}\n",
    "dataloader['train'], dataloader['val'] = dataset(args)"
   ]
  },
  {
   "cell_type": "code",
   "execution_count": null,
   "metadata": {},
   "outputs": [],
   "source": [
    "optimizer = torch.optim.Adam([\n",
    "                {'params': net.decoder.parameters(), 'lr':args['LEARNING_RATE_2'], 'weight_decay':args['WEIGHTDECAY']},\n",
    "                {'params': net.conv1.parameters()},\n",
    "                {'params': net.conv2.parameters()},\n",
    "                {'params': net.fc1.parameters()},\n",
    "                {'params': net.fc2.parameters()},\n",
    "            ], lr=args['LEARNING_RATE_1'])\n",
    "\n",
    "train_clean(net, optimizer, dataloader, args)"
   ]
  },
  {
   "cell_type": "code",
   "execution_count": null,
   "metadata": {},
   "outputs": [],
   "source": [
    "torch.save(net.state_dict(), os.path.join(model_path, \"CNNplusR\"+args['DATASET_NAME'] +\".pth\"))"
   ]
  },
  {
   "cell_type": "code",
   "execution_count": null,
   "metadata": {},
   "outputs": [],
   "source": []
  },
  {
   "cell_type": "code",
   "execution_count": null,
   "metadata": {},
   "outputs": [],
   "source": []
  }
 ],
 "metadata": {
  "kernelspec": {
   "display_name": "Python 3",
   "language": "python",
   "name": "python3"
  },
  "language_info": {
   "codemirror_mode": {
    "name": "ipython",
    "version": 3
   },
   "file_extension": ".py",
   "mimetype": "text/x-python",
   "name": "python",
   "nbconvert_exporter": "python",
   "pygments_lexer": "ipython3",
   "version": "3.7.6"
  }
 },
 "nbformat": 4,
 "nbformat_minor": 4
}
