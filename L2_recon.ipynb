{
 "cells": [
  {
   "cell_type": "code",
   "execution_count": 1,
   "metadata": {},
   "outputs": [],
   "source": [
    "import torch\n",
    "import numpy\n",
    "import torch\n",
    "import torch.nn as nn\n",
    "import torch.nn.functional as F\n",
    "from tqdm import tqdm\n",
    "import os\n",
    "\n",
    "from model.net import *\n",
    "from utils.training import *\n",
    "from data.data import *"
   ]
  },
  {
   "cell_type": "markdown",
   "metadata": {},
   "source": [
    "## Experiment Config"
   ]
  },
  {
   "cell_type": "code",
   "execution_count": 2,
   "metadata": {},
   "outputs": [],
   "source": [
    "model_path = os.getcwd()\n",
    "\n",
    "args = {\n",
    "    'USE_CUDA': True if torch.cuda.is_available() else False,\n",
    "    'BATCH_SIZE': 256,\n",
    "    'N_EPOCHS': 30,\n",
    "    'LEARNING_RATE': 0.01,\n",
    "    'MOMENTUM': 0.9,\n",
    "    'DATASET_NAME':'mnist',\n",
    "    'LAMBDA_recon': 1, #0.0005\n",
    "    'LAMBDA_margin': 0,\n",
    "    'LReLU_negative_slope':0.1,\n",
    "}"
   ]
  },
  {
   "cell_type": "markdown",
   "metadata": {},
   "source": [
    "## Model Loading"
   ]
  },
  {
   "cell_type": "code",
   "execution_count": 3,
   "metadata": {},
   "outputs": [],
   "source": [
    "#Modified Reconstructor\n",
    "\n",
    "class Reconstructor(nn.Module):\n",
    "    def __init__(self, net):\n",
    "        super(Reconstructor, self).__init__()\n",
    "        self.input_width = net.decoder.input_width\n",
    "        self.input_height = net.decoder.input_height\n",
    "        self.input_channel = net.decoder.input_channel\n",
    "        self.reconstraction_layers = net.decoder.reconstraction_layers\n",
    "        self.mean = torch.tensor(0.1307)\n",
    "        self.std = torch.tensor(0.3081)\n",
    "        if(args['USE_CUDA']):\n",
    "            self.mean = self.mean.cuda()\n",
    "            self.std = self.std.cuda()\n",
    "        self.normalize = Normalize(self.mean, self.std)\n",
    "        \n",
    "#     def forward(self, x, data):\n",
    "# #         classes = torch.sqrt((x ** 2).sum(2))\n",
    "# #         classes = F.softmax(classes.squeeze(), dim=1)\n",
    "# #         _, max_length_indices = classes.max(dim=1)\n",
    "#         eye = torch.sparse.torch.eye(10)\n",
    "#         if USE_CUDA:\n",
    "#             eye = eye.cuda()\n",
    "#         reconstructions_of_digits = []\n",
    "#         for i in range(0,x.size(1)):\n",
    "#             index_list = torch.ones((x.size(0), ),dtype=torch.int64).cuda()*i\n",
    "#             masked = eye.index_select(dim=0, index=index_list)\n",
    "#             reconstructions_of_digits.append(self.reconstraction_layers((x * masked[:, :, None, None]).view(x.size(0), 1, -1)))\n",
    "        \n",
    "#         reconstructions_of_digits = torch.cat(reconstructions_of_digits, dim=1) #shape = [B, 10, 28*28*1]\n",
    "#         expanded_data = data.view(x.size(0), 1, -1).expand(-1, x.size(1), -1)\n",
    "#         reconstructions_of_digits = self.unnormalize(reconstructions_of_digits)\n",
    "#         l2_distances = torch.square((expanded_data - reconstructions_of_digits)).sum(dim=(list(range(0, len(expanded_data.shape)))[2:]))\n",
    "# #         reconstructions = reconstructions.view(-1, x.size(1), self.input_channel, self.input_width, self.input_height)\n",
    "#         return l2_distances\n",
    "\n",
    "    def forward(self, x, data):\n",
    "        classes = torch.sqrt((x ** 2).sum(2))\n",
    "        classes = F.softmax(classes.squeeze(), dim=1)\n",
    "        _, max_length_indices = classes.max(dim=1)\n",
    "        max_length_indices_2 = 9 - max_length_indices\n",
    "        eye = torch.sparse.torch.eye(10)\n",
    "        if USE_CUDA:\n",
    "            eye = eye.cuda()\n",
    "        reconstructions_of_digits = []\n",
    "        for index_list in [max_length_indices]:#, max_length_indices_2]:\n",
    "            masked = eye.index_select(dim=0, index=index_list.squeeze().data)\n",
    "            reconstructions_of_digits.append(self.reconstraction_layers((x * masked[:, :, None, None]).view(x.size(0), 1, -1)))\n",
    "\n",
    "        reconstructions_of_digits = torch.cat(reconstructions_of_digits, dim=1) #shape = [B, 2, 28*28*1]\n",
    "        expanded_data = data.view(x.size(0), 1, -1).expand(-1, 2, -1)\n",
    "        reconstructions_of_digits = self.normalize(reconstructions_of_digits)\n",
    "        l2_distances = torch.square((expanded_data - reconstructions_of_digits)).sum(dim=(list(range(0, len(expanded_data.shape)))[2:]))\n",
    "        return l2_distances"
   ]
  },
  {
   "cell_type": "code",
   "execution_count": 4,
   "metadata": {},
   "outputs": [
    {
     "data": {
      "text/plain": [
       "<All keys matched successfully>"
      ]
     },
     "execution_count": 4,
     "metadata": {},
     "output_type": "execute_result"
    }
   ],
   "source": [
    "#Config for 49 16d vectors in the Primary Capsule. Set Softmax dimension to 0 in this case\n",
    "class Config:\n",
    "    def __init__(self):\n",
    "        # CNN (cnn)\n",
    "        self.cnn_in_channels = 1\n",
    "        self.cnn_out_channels = 12\n",
    "        self.cnn_kernel_size = 15\n",
    "\n",
    "        # Primary Capsule (pc)\n",
    "        self.pc_num_capsules = 16\n",
    "        self.pc_in_channels = 12\n",
    "        self.pc_out_channels = 1\n",
    "        self.pc_kernel_size = 8\n",
    "        self.pc_num_routes = 1 * 7 * 7\n",
    "\n",
    "        # Digit Capsule 1 (dc)\n",
    "        self.dc_num_capsules = 49\n",
    "        self.dc_num_routes = 1 * 7 * 7\n",
    "        self.dc_in_channels = 16\n",
    "        self.dc_out_channels = 16\n",
    "        \n",
    "        # Digit Capsule 2 (dc)\n",
    "        self.dc_2_num_capsules = 10\n",
    "        self.dc_2_num_routes = 1 * 7 * 7\n",
    "        self.dc_2_in_channels = 16\n",
    "        self.dc_2_out_channels = 16\n",
    "\n",
    "        # Decoder\n",
    "        self.input_width = 28\n",
    "        self.input_height = 28\n",
    "\n",
    "torch.manual_seed(1)\n",
    "config = Config()\n",
    "\n",
    "net = CapsNet(args, config)\n",
    "# capsule_net = torch.nn.DataParallel(capsule_net)\n",
    "if args['USE_CUDA']:\n",
    "    net = net.cuda()\n",
    "    \n",
    "net.load_state_dict(torch.load(os.path.join(model_path, 'CapsNetMNIST_Recon.pth'), map_location='cpu'))"
   ]
  },
  {
   "cell_type": "markdown",
   "metadata": {},
   "source": [
    "## Loading Dataset"
   ]
  },
  {
   "cell_type": "code",
   "execution_count": 5,
   "metadata": {},
   "outputs": [],
   "source": [
    "trainloader, testloader = dataset(args)"
   ]
  },
  {
   "cell_type": "markdown",
   "metadata": {},
   "source": [
    "##  The histogram of L2 distances between the input and the reconstruction using the\n",
    "## correct capsule or other capsules in CapsNet on the real MNIST images. "
   ]
  },
  {
   "cell_type": "code",
   "execution_count": 6,
   "metadata": {},
   "outputs": [],
   "source": [
    "import matplotlib.pyplot as plt\n",
    "\n",
    "def L2_Cor_Incor_Capsules(model, reconstructor, train_loader, args):\n",
    "    net = model\n",
    "    net.eval()\n",
    "    n_batch = len(train_loader)\n",
    "    l2_distances = []\n",
    "    with torch.no_grad():\n",
    "        for batch_id, (data, target) in enumerate(tqdm(train_loader)):\n",
    "            if(args['USE_CUDA']):\n",
    "                data = data.cuda()\n",
    "\n",
    "            output, _, _ = net(data)\n",
    "            l2_distances.append(reconstructor(output, data).view(-1, ))\n",
    "    \n",
    "    return torch.cat(l2_distances, dim=0).cpu().numpy()\n",
    "\n",
    "def plot_hist(l2_distances, num_bins=140):\n",
    "    fig, ax = plt.subplots()\n",
    "\n",
    "    # the histogram of the data\n",
    "    n, bins, patches = ax.hist(l2_distances, num_bins)\n",
    "\n",
    "    ax.set_xlabel('l2_distances')\n",
    "    ax.set_ylabel('Samples')\n",
    "    ax.set_title('L2 Distances input and recons')\n",
    "\n",
    "    # Tweak spacing to prevent clipping of ylabel\n",
    "    fig.tight_layout()\n",
    "    plt.show()"
   ]
  },
  {
   "cell_type": "code",
   "execution_count": 8,
   "metadata": {},
   "outputs": [
    {
     "name": "stderr",
     "output_type": "stream",
     "text": [
      "100%|██████████| 40/40 [00:03<00:00, 12.94it/s]\n"
     ]
    },
    {
     "data": {
      "image/png": "[encoded data removed]",
      "text/plain": [
       "<Figure size 432x288 with 1 Axes>"
      ]
     },
     "metadata": {
      "needs_background": "light"
     },
     "output_type": "display_data"
    }
   ],
   "source": [
    "recon = Reconstructor(net)\n",
    "l2_distances = L2_Cor_Incor_Capsules(net, recon, testloader, args)\n",
    "plot_hist(l2_distances, num_bins=140)"
   ]
  },
  {
   "cell_type": "code",
   "execution_count": 10,
   "metadata": {},
   "outputs": [
    {
     "data": {
      "image/png": "[encoded data removed]",
      "text/plain": [
       "<Figure size 432x288 with 1 Axes>"
      ]
     },
     "metadata": {
      "needs_background": "light"
     },
     "output_type": "display_data"
    }
   ],
   "source": [
    "plot_hist(l2_distances, num_bins=25)"
   ]
  },
  {
   "cell_type": "code",
   "execution_count": 9,
   "metadata": {},
   "outputs": [
    {
     "data": {
      "text/plain": [
       "(120000,)"
      ]
     },
     "execution_count": 9,
     "metadata": {},
     "output_type": "execute_result"
    }
   ],
   "source": [
    "l2_distances.shape"
   ]
  },
  {
   "cell_type": "code",
   "execution_count": null,
   "metadata": {},
   "outputs": [],
   "source": [
    "# torch.save(capsule_net.state_dict(), \"./CapsNetMNIST.pth\")"
   ]
  },
  {
   "cell_type": "code",
   "execution_count": null,
   "metadata": {},
   "outputs": [],
   "source": []
  },
  {
   "cell_type": "code",
   "execution_count": null,
   "metadata": {},
   "outputs": [],
   "source": []
  },
  {
   "cell_type": "code",
   "execution_count": null,
   "metadata": {},
   "outputs": [],
   "source": []
  },
  {
   "cell_type": "code",
   "execution_count": null,
   "metadata": {
    "scrolled": true
   },
   "outputs": [],
   "source": []
  },
  {
   "cell_type": "code",
   "execution_count": null,
   "metadata": {},
   "outputs": [],
   "source": [
    "#Config for 16 1d vectors in Capsule Layer. Set the Softmax Dimension to 1 in this case\n",
    "# class Config:\n",
    "#     def __init__(self, dataset='mnist'):\n",
    "#         # CNN (cnn)\n",
    "#         self.cnn_in_channels = 1\n",
    "#         self.cnn_out_channels = 12\n",
    "#         self.cnn_kernel_size = 15\n",
    "\n",
    "#         # Primary Capsule (pc)\n",
    "#         self.pc_num_capsules = 1\n",
    "#         self.pc_in_channels = 12\n",
    "#         self.pc_out_channels = 16\n",
    "#         self.pc_kernel_size = 8\n",
    "#         self.pc_num_routes = 16 * 7 * 7\n",
    "\n",
    "#         # Digit Capsule 1 (dc)\n",
    "#         self.dc_num_capsules = 49\n",
    "#         self.dc_num_routes = 16 * 7 * 7\n",
    "#         self.dc_in_channels = 1\n",
    "#         self.dc_out_channels = 1 #16\n",
    "        \n",
    "#         # Digit Capsule 2 (dc)\n",
    "#         self.dc_2_num_capsules = 10\n",
    "#         self.dc_2_num_routes = 7 * 7\n",
    "#         self.dc_2_in_channels = 1 #16\n",
    "#         self.dc_2_out_channels = 16\n",
    "\n",
    "#         # Decoder\n",
    "#         self.input_width = 28\n",
    "#         self.input_height = 28"
   ]
  }
 ],
 "metadata": {
  "kernelspec": {
   "display_name": "Python 3",
   "language": "python",
   "name": "python3"
  },
  "language_info": {
   "codemirror_mode": {
    "name": "ipython",
    "version": 3
   },
   "file_extension": ".py",
   "mimetype": "text/x-python",
   "name": "python",
   "nbconvert_exporter": "python",
   "pygments_lexer": "ipython3",
   "version": "3.7.6"
  }
 },
 "nbformat": 4,
 "nbformat_minor": 4
}
